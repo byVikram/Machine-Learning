{
 "cells": [
  {
   "cell_type": "code",
   "execution_count": 1,
   "metadata": {},
   "outputs": [],
   "source": [
    "import pandas as pd\n",
    "import numpy as np\n",
    "import seaborn as sn\n",
    "import matplotlib.pyplot as plt\n",
    "import plotly.express as px"
   ]
  },
  {
   "cell_type": "code",
   "execution_count": 2,
   "metadata": {},
   "outputs": [
    {
     "data": {
      "text/plain": [
       "(463, 8)"
      ]
     },
     "execution_count": 2,
     "metadata": {},
     "output_type": "execute_result"
    }
   ],
   "source": [
    "df = pd.read_csv(\"../datasets/bird_clash.csv\")\n",
    "df.shape"
   ]
  },
  {
   "cell_type": "code",
   "execution_count": 3,
   "metadata": {},
   "outputs": [
    {
     "data": {
      "text/html": [
       "<div>\n",
       "<style scoped>\n",
       "    .dataframe tbody tr th:only-of-type {\n",
       "        vertical-align: middle;\n",
       "    }\n",
       "\n",
       "    .dataframe tbody tr th {\n",
       "        vertical-align: top;\n",
       "    }\n",
       "\n",
       "    .dataframe thead th {\n",
       "        text-align: right;\n",
       "    }\n",
       "</style>\n",
       "<table border=\"1\" class=\"dataframe\">\n",
       "  <thead>\n",
       "    <tr style=\"text-align: right;\">\n",
       "      <th></th>\n",
       "      <th>ECOLI_LOG10</th>\n",
       "      <th>TURB_NTRU</th>\n",
       "      <th>RHUM_PCT</th>\n",
       "      <th>WTEMP_CEL</th>\n",
       "      <th>BIRDS_NO</th>\n",
       "      <th>CHANGELL_FT</th>\n",
       "      <th>AirportWindSpInst_mph</th>\n",
       "      <th>AirportRain48W_in</th>\n",
       "    </tr>\n",
       "  </thead>\n",
       "  <tbody>\n",
       "    <tr>\n",
       "      <th>0</th>\n",
       "      <td>0.6021</td>\n",
       "      <td>9.8100</td>\n",
       "      <td>79</td>\n",
       "      <td>15.44</td>\n",
       "      <td>0</td>\n",
       "      <td>-0.131</td>\n",
       "      <td>6</td>\n",
       "      <td>0.075</td>\n",
       "    </tr>\n",
       "    <tr>\n",
       "      <th>1</th>\n",
       "      <td>0.3010</td>\n",
       "      <td>3.2550</td>\n",
       "      <td>91</td>\n",
       "      <td>10.56</td>\n",
       "      <td>5</td>\n",
       "      <td>-0.014</td>\n",
       "      <td>0</td>\n",
       "      <td>0.000</td>\n",
       "    </tr>\n",
       "    <tr>\n",
       "      <th>2</th>\n",
       "      <td>0.3010</td>\n",
       "      <td>1.8950</td>\n",
       "      <td>73</td>\n",
       "      <td>16.83</td>\n",
       "      <td>0</td>\n",
       "      <td>0.125</td>\n",
       "      <td>6</td>\n",
       "      <td>0.000</td>\n",
       "    </tr>\n",
       "    <tr>\n",
       "      <th>3</th>\n",
       "      <td>0.3010</td>\n",
       "      <td>1.9725</td>\n",
       "      <td>42</td>\n",
       "      <td>9.22</td>\n",
       "      <td>0</td>\n",
       "      <td>-0.026</td>\n",
       "      <td>14</td>\n",
       "      <td>0.000</td>\n",
       "    </tr>\n",
       "    <tr>\n",
       "      <th>4</th>\n",
       "      <td>1.0792</td>\n",
       "      <td>3.1425</td>\n",
       "      <td>64</td>\n",
       "      <td>10.56</td>\n",
       "      <td>1</td>\n",
       "      <td>0.016</td>\n",
       "      <td>14</td>\n",
       "      <td>0.000</td>\n",
       "    </tr>\n",
       "  </tbody>\n",
       "</table>\n",
       "</div>"
      ],
      "text/plain": [
       "   ECOLI_LOG10  TURB_NTRU  RHUM_PCT  WTEMP_CEL  BIRDS_NO  CHANGELL_FT  \\\n",
       "0       0.6021     9.8100        79      15.44         0       -0.131   \n",
       "1       0.3010     3.2550        91      10.56         5       -0.014   \n",
       "2       0.3010     1.8950        73      16.83         0        0.125   \n",
       "3       0.3010     1.9725        42       9.22         0       -0.026   \n",
       "4       1.0792     3.1425        64      10.56         1        0.016   \n",
       "\n",
       "   AirportWindSpInst_mph  AirportRain48W_in  \n",
       "0                      6              0.075  \n",
       "1                      0              0.000  \n",
       "2                      6              0.000  \n",
       "3                     14              0.000  \n",
       "4                     14              0.000  "
      ]
     },
     "execution_count": 3,
     "metadata": {},
     "output_type": "execute_result"
    }
   ],
   "source": [
    "df.head()"
   ]
  },
  {
   "cell_type": "code",
   "execution_count": 4,
   "metadata": {},
   "outputs": [
    {
     "data": {
      "text/plain": [
       "0"
      ]
     },
     "execution_count": 4,
     "metadata": {},
     "output_type": "execute_result"
    }
   ],
   "source": [
    "df.duplicated().sum()"
   ]
  },
  {
   "cell_type": "code",
   "execution_count": 5,
   "metadata": {},
   "outputs": [
    {
     "data": {
      "text/plain": [
       "ECOLI_LOG10              0\n",
       "TURB_NTRU                0\n",
       "RHUM_PCT                 0\n",
       "WTEMP_CEL                0\n",
       "BIRDS_NO                 0\n",
       "CHANGELL_FT              0\n",
       "AirportWindSpInst_mph    0\n",
       "AirportRain48W_in        0\n",
       "dtype: int64"
      ]
     },
     "execution_count": 5,
     "metadata": {},
     "output_type": "execute_result"
    }
   ],
   "source": [
    "df.isnull().sum()"
   ]
  },
  {
   "cell_type": "code",
   "execution_count": 6,
   "metadata": {},
   "outputs": [
    {
     "data": {
      "text/plain": [
       "ECOLI_LOG10             -0.167250\n",
       "TURB_NTRU                4.557769\n",
       "RHUM_PCT                 3.658335\n",
       "WTEMP_CEL               -0.899247\n",
       "BIRDS_NO                 1.879290\n",
       "CHANGELL_FT             -0.134574\n",
       "AirportWindSpInst_mph    0.020716\n",
       "AirportRain48W_in        7.146981\n",
       "dtype: float64"
      ]
     },
     "execution_count": 6,
     "metadata": {},
     "output_type": "execute_result"
    }
   ],
   "source": [
    "df.skew(numeric_only=True)"
   ]
  },
  {
   "cell_type": "code",
   "execution_count": 7,
   "metadata": {},
   "outputs": [
    {
     "name": "stdout",
     "output_type": "stream",
     "text": [
      "Index(['ECOLI_LOG10', 'TURB_NTRU', 'RHUM_PCT', 'WTEMP_CEL', 'BIRDS_NO',\n",
      "       'CHANGELL_FT', 'AirportWindSpInst_mph', 'AirportRain48W_in'],\n",
      "      dtype='object')\n"
     ]
    }
   ],
   "source": [
    "col_head=[]\n",
    "print(df.columns)\n",
    "for col in df.columns:\n",
    "    col_head.append(col)\n",
    "        "
   ]
  },
  {
   "cell_type": "code",
   "execution_count": 8,
   "metadata": {},
   "outputs": [
    {
     "name": "stderr",
     "output_type": "stream",
     "text": [
      "C:\\Users\\Vikram k m\\AppData\\Local\\Temp\\ipykernel_17164\\2749270919.py:3: SettingWithCopyWarning: \n",
      "A value is trying to be set on a copy of a slice from a DataFrame\n",
      "\n",
      "See the caveats in the documentation: https://pandas.pydata.org/pandas-docs/stable/user_guide/indexing.html#returning-a-view-versus-a-copy\n",
      "  df['TURB_NTRU'][df['TURB_NTRU']>thresh]=thresh\n",
      "C:\\Users\\Vikram k m\\AppData\\Local\\Temp\\ipykernel_17164\\2749270919.py:7: SettingWithCopyWarning: \n",
      "A value is trying to be set on a copy of a slice from a DataFrame\n",
      "\n",
      "See the caveats in the documentation: https://pandas.pydata.org/pandas-docs/stable/user_guide/indexing.html#returning-a-view-versus-a-copy\n",
      "  df['RHUM_PCT'][df['RHUM_PCT']>thresh2]=thresh2\n",
      "C:\\Users\\Vikram k m\\AppData\\Local\\Temp\\ipykernel_17164\\2749270919.py:7: FutureWarning: Setting an item of incompatible dtype is deprecated and will raise in a future error of pandas. Value '121.05600000000231' has dtype incompatible with int64, please explicitly cast to a compatible dtype first.\n",
      "  df['RHUM_PCT'][df['RHUM_PCT']>thresh2]=thresh2\n",
      "C:\\Users\\Vikram k m\\AppData\\Local\\Temp\\ipykernel_17164\\2749270919.py:11: SettingWithCopyWarning: \n",
      "A value is trying to be set on a copy of a slice from a DataFrame\n",
      "\n",
      "See the caveats in the documentation: https://pandas.pydata.org/pandas-docs/stable/user_guide/indexing.html#returning-a-view-versus-a-copy\n",
      "  df['BIRDS_NO'][df['BIRDS_NO']>thresh3]=thresh3\n",
      "C:\\Users\\Vikram k m\\AppData\\Local\\Temp\\ipykernel_17164\\2749270919.py:19: SettingWithCopyWarning: \n",
      "A value is trying to be set on a copy of a slice from a DataFrame\n",
      "\n",
      "See the caveats in the documentation: https://pandas.pydata.org/pandas-docs/stable/user_guide/indexing.html#returning-a-view-versus-a-copy\n",
      "  df['AirportRain48W_in'][df['AirportRain48W_in']>thresh5]=thresh5\n"
     ]
    },
    {
     "data": {
      "text/plain": [
       "ECOLI_LOG10             -0.167250\n",
       "TURB_NTRU                2.077294\n",
       "RHUM_PCT                 0.040954\n",
       "WTEMP_CEL               -0.899247\n",
       "BIRDS_NO                 1.229452\n",
       "CHANGELL_FT             -0.134574\n",
       "AirportWindSpInst_mph    0.020716\n",
       "AirportRain48W_in        1.347081\n",
       "dtype: float64"
      ]
     },
     "execution_count": 8,
     "metadata": {},
     "output_type": "execute_result"
    }
   ],
   "source": [
    "threshold = 0.96\n",
    "thresh = df['TURB_NTRU'].quantile(threshold)\n",
    "df['TURB_NTRU'][df['TURB_NTRU']>thresh]=thresh\n",
    "df['TURB_NTRU'].skew()\n",
    "threshold2 = 0.998\n",
    "thresh2 = df['RHUM_PCT'].quantile(threshold2)\n",
    "df['RHUM_PCT'][df['RHUM_PCT']>thresh2]=thresh2\n",
    "df['RHUM_PCT'].skew()\n",
    "threshold3 = 0.96\n",
    "thresh3 = df['BIRDS_NO'].quantile(threshold3)\n",
    "df['BIRDS_NO'][df['BIRDS_NO']>thresh3]=thresh3\n",
    "df['BIRDS_NO'].skew()\n",
    "# threshold4 = 0.99\n",
    "# thresh4 = df['CHANGELL_FT'].quantile(threshold4)\n",
    "# df['CHANGELL_FT'][df['CHANGELL_FT']>thresh4]=thresh4\n",
    "# df['CHANGELL_FT'].skew()\n",
    "threshold5 = 0.92\n",
    "thresh5 = df['AirportRain48W_in'].quantile(threshold5)\n",
    "df['AirportRain48W_in'][df['AirportRain48W_in']>thresh5]=thresh5\n",
    "df.skew()"
   ]
  },
  {
   "cell_type": "code",
   "execution_count": 15,
   "metadata": {},
   "outputs": [
    {
     "data": {
      "image/png": "[encoded data removed]",
      "text/plain": [
       "<Figure size 1500x2000 with 9 Axes>"
      ]
     },
     "metadata": {},
     "output_type": "display_data"
    }
   ],
   "source": [
    "fig, axs = plt.subplots(nrows = 3, ncols = 3, figsize = (15, 20), sharex = True)\n",
    "fig.subplots_adjust(hspace = 0.5)\n",
    "\n",
    "\n",
    "for i, col in enumerate(df.columns):\n",
    "    ax = plt.subplot(3, 3, i+1)\n",
    "    sn.boxplot(y = df[col])\n",
    "    ax.set_title(f\"Boxplot for {col}\")\n",
    "plt.show()"
   ]
  },
  {
   "cell_type": "markdown",
   "metadata": {},
   "source": [
    "# Feature"
   ]
  },
  {
   "cell_type": "code",
   "execution_count": 10,
   "metadata": {},
   "outputs": [
    {
     "data": {
      "text/plain": [
       "Index(['ECOLI_LOG10', 'TURB_NTRU', 'RHUM_PCT', 'WTEMP_CEL', 'BIRDS_NO',\n",
       "       'CHANGELL_FT', 'AirportWindSpInst_mph', 'AirportRain48W_in'],\n",
       "      dtype='object')"
      ]
     },
     "execution_count": 10,
     "metadata": {},
     "output_type": "execute_result"
    }
   ],
   "source": [
    "df.columns"
   ]
  },
  {
   "cell_type": "code",
   "execution_count": 11,
   "metadata": {},
   "outputs": [
    {
     "data": {
      "text/plain": [
       "['TURB_NTRU',\n",
       " 'RHUM_PCT',\n",
       " 'WTEMP_CEL',\n",
       " 'BIRDS_NO',\n",
       " 'CHANGELL_FT',\n",
       " 'AirportWindSpInst_mph',\n",
       " 'AirportRain48W_in']"
      ]
     },
     "execution_count": 11,
     "metadata": {},
     "output_type": "execute_result"
    }
   ],
   "source": [
    "colhead=[]\n",
    "for col in df.columns:\n",
    "    colhead.append(col)\n",
    "colhead.remove('ECOLI_LOG10')\n",
    "colhead"
   ]
  },
  {
   "cell_type": "code",
   "execution_count": 12,
   "metadata": {},
   "outputs": [
    {
     "data": {
      "application/vnd.plotly.v1+json": {
       "config": {
        "plotlyServerURL": "https://plot.ly"
       },
       "data": [
        {
         "alignmentgroup": "True",
         "bingroup": "x",
         "hovertemplate": "TURB_NTRU=%{x}<br>count=%{y}<extra></extra>",
         "legendgroup": "",
         "marker": {
          "color": "#636efa",
          "pattern": {
           "shape": ""
          }
         },
         "name": "",
         "offsetgroup": "",
         "orientation": "v",
         "showlegend": false,
         "type": "histogram",
         "x": [
          9.81,
          3.255,
          1.895,
          1.9725,
          3.1425,
          23.25,
          14.525,
          46.938,
          6.69,
          2.585,
          2.2225,
          21.825,
          3.0575,
          2.91,
          3.1825,
          2.6025,
          23.025,
          6.4975,
          3.92,
          6.65,
          12.8,
          4.125,
          3.95,
          2.8,
          4.725,
          1.855,
          4.655,
          11.95,
          15.075,
          3.575,
          19.225,
          20.95,
          20.925,
          7.275,
          29.925,
          10.1,
          8.675,
          46.938,
          46.938,
          46.938,
          4.025,
          1.63,
          1.665,
          11.25,
          8.875,
          22.325,
          41.125,
          7.665,
          6.39,
          2.45,
          2.515,
          1.4675,
          1.0875,
          8.2325,
          23.7,
          6.545,
          11.2,
          12,
          9.285,
          23.175,
          12.95,
          17.825,
          9.425,
          3.25,
          2.2,
          1.4375,
          1.7475,
          2.125,
          11.1975,
          2.12,
          1.5075,
          1.4,
          1.1375,
          8.68,
          19.35,
          16.125,
          12.775,
          14.775,
          3.1675,
          1.8375,
          2.625,
          4.1725,
          1.835,
          5.2925,
          4.16,
          1.2425,
          1.5325,
          1.9425,
          1.3,
          8.765,
          6.63,
          18.125,
          14.65,
          4.325,
          7.885,
          8.5075,
          10.45,
          12.325,
          1.51,
          6.635,
          46.938,
          46.938,
          4.8,
          1.815,
          6.7,
          46.938,
          2.985,
          28.1,
          26.95,
          10.9,
          4.02,
          1.2325,
          6.455,
          1.575,
          5.7425,
          16.225,
          46.938,
          6.4525,
          1.8025,
          6.49,
          9.0575,
          9.8,
          5.6875,
          2.4975,
          8.945,
          5.8875,
          1.42,
          2.335,
          1.3275,
          21.85,
          1.445,
          2.4725,
          2.37,
          4.2,
          46.938,
          3.85,
          2.695,
          12.65,
          15.225,
          9.9725,
          27.275,
          5.3875,
          3.535,
          2.0875,
          0.83,
          1.49,
          11.5,
          24.8,
          14.3,
          9.0375,
          2.825,
          1.5575,
          1.825,
          3.42,
          1.97,
          16.525,
          14.05,
          5.59,
          35.675,
          11.825,
          2.0675,
          4.2275,
          1.6675,
          46.938,
          7.525,
          3.4425,
          16.525,
          46.925,
          11.3,
          8.9425,
          2.565,
          4.71,
          5.225,
          6.6,
          1.75,
          3.9,
          1.175,
          2,
          2.1,
          20.575,
          46.938,
          20.525,
          23.325,
          9.59,
          6.275,
          9.5625,
          25.25,
          22.525,
          3.595,
          2.0025,
          1.36,
          1.7125,
          0.81,
          0.5975,
          6.65,
          14.625,
          4.7525,
          2.025,
          1.05,
          0.775,
          1.425,
          12.375,
          8.725,
          2.925,
          8.525,
          4.4,
          2.2,
          2.675,
          4.625,
          2.125,
          3.75,
          9.875,
          9.975,
          2.85,
          1.1,
          5.975,
          20.725,
          35.375,
          8.3,
          1.6,
          22.525,
          6.4025,
          3.7575,
          1.385,
          14.15,
          10.3275,
          2.1175,
          15.35,
          8.2675,
          2.4575,
          1.05,
          2.515,
          1.25,
          1.45,
          1.125,
          1.1075,
          0.885,
          0.825,
          3.1975,
          15.025,
          5.45,
          2.33,
          0.9375,
          2.9475,
          1.22,
          14.975,
          16.3,
          46.938,
          5.1925,
          14.75,
          10.2275,
          3.46,
          6.9775,
          26.575,
          12.1,
          12.175,
          21.9,
          2.2125,
          6.0675,
          5.0975,
          0.91,
          3.205,
          6.14,
          3.075,
          1.83,
          9.195,
          3.0175,
          10.375,
          9.46,
          10.755,
          11.25,
          4.175,
          2.0825,
          1.8675,
          5.4225,
          11.2,
          43.75,
          5.985,
          10.675,
          8.6325,
          13.275,
          8.535,
          4.3,
          1.6025,
          2.9725,
          4.1725,
          4.96,
          7.75,
          20.475,
          46.938,
          35.4,
          4.5725,
          19.775,
          45.875,
          46.938,
          46.938,
          46.938,
          45.325,
          30.95,
          19.225,
          31.5,
          13.1,
          10.7,
          5.48,
          2.3325,
          1.93,
          13.325,
          14.45,
          13.25,
          17.6,
          8.0875,
          25.4,
          10.05,
          8.27,
          6.17,
          8.5975,
          2.3325,
          1.7025,
          2.585,
          7.835,
          2.7375,
          2.7625,
          7.3125,
          21.4,
          2.875,
          2.275,
          9.335,
          16.425,
          14.5,
          5.71,
          4.5625,
          3.1275,
          3.9375,
          4.315,
          46.938,
          29.15,
          21.25,
          11.45,
          3.93,
          7.7575,
          11.55,
          14,
          3.4225,
          5.125,
          4.91,
          1.6375,
          10.025,
          38.05,
          2.585,
          5.1225,
          10.2675,
          24.25,
          12.975,
          5.455,
          2.115,
          1.6125,
          2.585,
          1.515,
          1.845,
          29.15,
          4.825,
          4.15,
          7.6225,
          4.8,
          3.2,
          2.375,
          3.975,
          1.675,
          2.55,
          5.0225,
          2.4825,
          13.975,
          2.675,
          46.938,
          46.938,
          19.025,
          7.8925,
          3.42,
          2.155,
          1.7175,
          2.665,
          2.2325,
          9.19,
          19.45,
          8.02,
          2.04,
          1.965,
          2.6925,
          8.955,
          1.7825,
          1.6275,
          9.3575,
          1.42,
          7.54,
          4.3725,
          1.3125,
          2.275,
          5.94,
          4.6025,
          2.0825,
          2.13,
          3.135,
          2.1775,
          1.6225,
          1.7,
          11.04,
          4.0225,
          2.4775,
          7.195,
          9.95,
          1.76,
          1.515,
          4.035,
          1.62,
          1.84,
          9.5,
          12.175,
          4.125,
          1.35,
          1.4125,
          12.275,
          1.9975,
          1.72,
          2.1875,
          3.3525,
          12.15,
          7.84,
          3.38,
          2.33,
          1.2275,
          3.775,
          11.725,
          2.99,
          3.94,
          2.445,
          3.855,
          13.25,
          7.645,
          9.1975,
          5.77,
          3.07,
          6.5125,
          1.5225,
          2.255,
          10.825,
          3.875,
          14.275,
          6.9,
          2.8,
          1.425,
          1.4125,
          34.2,
          14.25,
          9.75,
          7.75,
          14.975,
          6.845,
          15.45,
          18.2,
          17.75,
          1.93,
          1.45,
          18.675
         ],
         "xaxis": "x",
         "yaxis": "y"
        }
       ],
       "layout": {
        "barmode": "relative",
        "legend": {
         "tracegroupgap": 0
        },
        "margin": {
         "t": 60
        },
        "template": {
         "data": {
          "bar": [
           {
            "error_x": {
             "color": "#2a3f5f"
            },
            "error_y": {
             "color": "#2a3f5f"
            },
            "marker": {
             "line": {
              "color": "#E5ECF6",
              "width": 0.5
             },
             "pattern": {
              "fillmode": "overlay",
              "size": 10,
              "solidity": 0.2
             }
            },
            "type": "bar"
           }
          ],
          "barpolar": [
           {
            "marker": {
             "line": {
              "color": "#E5ECF6",
              "width": 0.5
             },
             "pattern": {
              "fillmode": "overlay",
              "size": 10,
              "solidity": 0.2
             }
            },
            "type": "barpolar"
           }
          ],
          "carpet": [
           {
            "aaxis": {
             "endlinecolor": "#2a3f5f",
             "gridcolor": "white",
             "linecolor": "white",
             "minorgridcolor": "white",
             "startlinecolor": "#2a3f5f"
            },
            "baxis": {
             "endlinecolor": "#2a3f5f",
             "gridcolor": "white",
             "linecolor": "white",
             "minorgridcolor": "white",
             "startlinecolor": "#2a3f5f"
            },
            "type": "carpet"
           }
          ],
          "choropleth": [
           {
            "colorbar": {
             "outlinewidth": 0,
             "ticks": ""
            },
            "type": "choropleth"
           }
          ],
          "contour": [
           {
            "colorbar": {
             "outlinewidth": 0,
             "ticks": ""
            },
            "colorscale": [
             [
              0,
              "#0d0887"
             ],
             [
              0.1111111111111111,
              "#46039f"
             ],
             [
              0.2222222222222222,
              "#7201a8"
             ],
             [
              0.3333333333333333,
              "#9c179e"
             ],
             [
              0.4444444444444444,
              "#bd3786"
             ],
             [
              0.5555555555555556,
              "#d8576b"
             ],
             [
              0.6666666666666666,
              "#ed7953"
             ],
             [
              0.7777777777777778,
              "#fb9f3a"
             ],
             [
              0.8888888888888888,
              "#fdca26"
             ],
             [
              1,
              "#f0f921"
             ]
            ],
            "type": "contour"
           }
          ],
          "contourcarpet": [
           {
            "colorbar": {
             "outlinewidth": 0,
             "ticks": ""
            },
            "type": "contourcarpet"
           }
          ],
          "heatmap": [
           {
            "colorbar": {
             "outlinewidth": 0,
             "ticks": ""
            },
            "colorscale": [
             [
              0,
              "#0d0887"
             ],
             [
              0.1111111111111111,
              "#46039f"
             ],
             [
              0.2222222222222222,
              "#7201a8"
             ],
             [
              0.3333333333333333,
              "#9c179e"
             ],
             [
              0.4444444444444444,
              "#bd3786"
             ],
             [
              0.5555555555555556,
              "#d8576b"
             ],
             [
              0.6666666666666666,
              "#ed7953"
             ],
             [
              0.7777777777777778,
              "#fb9f3a"
             ],
             [
              0.8888888888888888,
              "#fdca26"
             ],
             [
              1,
              "#f0f921"
             ]
            ],
            "type": "heatmap"
           }
          ],
          "heatmapgl": [
           {
            "colorbar": {
             "outlinewidth": 0,
             "ticks": ""
            },
            "colorscale": [
             [
              0,
              "#0d0887"
             ],
             [
              0.1111111111111111,
              "#46039f"
             ],
             [
              0.2222222222222222,
              "#7201a8"
             ],
             [
              0.3333333333333333,
              "#9c179e"
             ],
             [
              0.4444444444444444,
              "#bd3786"
             ],
             [
              0.5555555555555556,
              "#d8576b"
             ],
             [
              0.6666666666666666,
              "#ed7953"
             ],
             [
              0.7777777777777778,
              "#fb9f3a"
             ],
             [
              0.8888888888888888,
              "#fdca26"
             ],
             [
              1,
              "#f0f921"
             ]
            ],
            "type": "heatmapgl"
           }
          ],
          "histogram": [
           {
            "marker": {
             "pattern": {
              "fillmode": "overlay",
              "size": 10,
              "solidity": 0.2
             }
            },
            "type": "histogram"
           }
          ],
          "histogram2d": [
           {
            "colorbar": {
             "outlinewidth": 0,
             "ticks": ""
            },
            "colorscale": [
             [
              0,
              "#0d0887"
             ],
             [
              0.1111111111111111,
              "#46039f"
             ],
             [
              0.2222222222222222,
              "#7201a8"
             ],
             [
              0.3333333333333333,
              "#9c179e"
             ],
             [
              0.4444444444444444,
              "#bd3786"
             ],
             [
              0.5555555555555556,
              "#d8576b"
             ],
             [
              0.6666666666666666,
              "#ed7953"
             ],
             [
              0.7777777777777778,
              "#fb9f3a"
             ],
             [
              0.8888888888888888,
              "#fdca26"
             ],
             [
              1,
              "#f0f921"
             ]
            ],
            "type": "histogram2d"
           }
          ],
          "histogram2dcontour": [
           {
            "colorbar": {
             "outlinewidth": 0,
             "ticks": ""
            },
            "colorscale": [
             [
              0,
              "#0d0887"
             ],
             [
              0.1111111111111111,
              "#46039f"
             ],
             [
              0.2222222222222222,
              "#7201a8"
             ],
             [
              0.3333333333333333,
              "#9c179e"
             ],
             [
              0.4444444444444444,
              "#bd3786"
             ],
             [
              0.5555555555555556,
              "#d8576b"
             ],
             [
              0.6666666666666666,
              "#ed7953"
             ],
             [
              0.7777777777777778,
              "#fb9f3a"
             ],
             [
              0.8888888888888888,
              "#fdca26"
             ],
             [
              1,
              "#f0f921"
             ]
            ],
            "type": "histogram2dcontour"
           }
          ],
          "mesh3d": [
           {
            "colorbar": {
             "outlinewidth": 0,
             "ticks": ""
            },
            "type": "mesh3d"
           }
          ],
          "parcoords": [
           {
            "line": {
             "colorbar": {
              "outlinewidth": 0,
              "ticks": ""
             }
            },
            "type": "parcoords"
           }
          ],
          "pie": [
           {
            "automargin": true,
            "type": "pie"
           }
          ],
          "scatter": [
           {
            "fillpattern": {
             "fillmode": "overlay",
             "size": 10,
             "solidity": 0.2
            },
            "type": "scatter"
           }
          ],
          "scatter3d": [
           {
            "line": {
             "colorbar": {
              "outlinewidth": 0,
              "ticks": ""
             }
            },
            "marker": {
             "colorbar": {
              "outlinewidth": 0,
              "ticks": ""
             }
            },
            "type": "scatter3d"
           }
          ],
          "scattercarpet": [
           {
            "marker": {
             "colorbar": {
              "outlinewidth": 0,
              "ticks": ""
             }
            },
            "type": "scattercarpet"
           }
          ],
          "scattergeo": [
           {
            "marker": {
             "colorbar": {
              "outlinewidth": 0,
              "ticks": ""
             }
            },
            "type": "scattergeo"
           }
          ],
          "scattergl": [
           {
            "marker": {
             "colorbar": {
              "outlinewidth": 0,
              "ticks": ""
             }
            },
            "type": "scattergl"
           }
          ],
          "scattermapbox": [
           {
            "marker": {
             "colorbar": {
              "outlinewidth": 0,
              "ticks": ""
             }
            },
            "type": "scattermapbox"
           }
          ],
          "scatterpolar": [
           {
            "marker": {
             "colorbar": {
              "outlinewidth": 0,
              "ticks": ""
             }
            },
            "type": "scatterpolar"
           }
          ],
          "scatterpolargl": [
           {
            "marker": {
             "colorbar": {
              "outlinewidth": 0,
              "ticks": ""
             }
            },
            "type": "scatterpolargl"
           }
          ],
          "scatterternary": [
           {
            "marker": {
             "colorbar": {
              "outlinewidth": 0,
              "ticks": ""
             }
            },
            "type": "scatterternary"
           }
          ],
          "surface": [
           {
            "colorbar": {
             "outlinewidth": 0,
             "ticks": ""
            },
            "colorscale": [
             [
              0,
              "#0d0887"
             ],
             [
              0.1111111111111111,
              "#46039f"
             ],
             [
              0.2222222222222222,
              "#7201a8"
             ],
             [
              0.3333333333333333,
              "#9c179e"
             ],
             [
              0.4444444444444444,
              "#bd3786"
             ],
             [
              0.5555555555555556,
              "#d8576b"
             ],
             [
              0.6666666666666666,
              "#ed7953"
             ],
             [
              0.7777777777777778,
              "#fb9f3a"
             ],
             [
              0.8888888888888888,
              "#fdca26"
             ],
             [
              1,
              "#f0f921"
             ]
            ],
            "type": "surface"
           }
          ],
          "table": [
           {
            "cells": {
             "fill": {
              "color": "#EBF0F8"
             },
             "line": {
              "color": "white"
             }
            },
            "header": {
             "fill": {
              "color": "#C8D4E3"
             },
             "line": {
              "color": "white"
             }
            },
            "type": "table"
           }
          ]
         },
         "layout": {
          "annotationdefaults": {
           "arrowcolor": "#2a3f5f",
           "arrowhead": 0,
           "arrowwidth": 1
          },
          "autotypenumbers": "strict",
          "coloraxis": {
           "colorbar": {
            "outlinewidth": 0,
            "ticks": ""
           }
          },
          "colorscale": {
           "diverging": [
            [
             0,
             "#8e0152"
            ],
            [
             0.1,
             "#c51b7d"
            ],
            [
             0.2,
             "#de77ae"
            ],
            [
             0.3,
             "#f1b6da"
            ],
            [
             0.4,
             "#fde0ef"
            ],
            [
             0.5,
             "#f7f7f7"
            ],
            [
             0.6,
             "#e6f5d0"
            ],
            [
             0.7,
             "#b8e186"
            ],
            [
             0.8,
             "#7fbc41"
            ],
            [
             0.9,
             "#4d9221"
            ],
            [
             1,
             "#276419"
            ]
           ],
           "sequential": [
            [
             0,
             "#0d0887"
            ],
            [
             0.1111111111111111,
             "#46039f"
            ],
            [
             0.2222222222222222,
             "#7201a8"
            ],
            [
             0.3333333333333333,
             "#9c179e"
            ],
            [
             0.4444444444444444,
             "#bd3786"
            ],
            [
             0.5555555555555556,
             "#d8576b"
            ],
            [
             0.6666666666666666,
             "#ed7953"
            ],
            [
             0.7777777777777778,
             "#fb9f3a"
            ],
            [
             0.8888888888888888,
             "#fdca26"
            ],
            [
             1,
             "#f0f921"
            ]
           ],
           "sequentialminus": [
            [
             0,
             "#0d0887"
            ],
            [
             0.1111111111111111,
             "#46039f"
            ],
            [
             0.2222222222222222,
             "#7201a8"
            ],
            [
             0.3333333333333333,
             "#9c179e"
            ],
            [
             0.4444444444444444,
             "#bd3786"
            ],
            [
             0.5555555555555556,
             "#d8576b"
            ],
            [
             0.6666666666666666,
             "#ed7953"
            ],
            [
             0.7777777777777778,
             "#fb9f3a"
            ],
            [
             0.8888888888888888,
             "#fdca26"
            ],
            [
             1,
             "#f0f921"
            ]
           ]
          },
          "colorway": [
           "#636efa",
           "#EF553B",
           "#00cc96",
           "#ab63fa",
           "#FFA15A",
           "#19d3f3",
           "#FF6692",
           "#B6E880",
           "#FF97FF",
           "#FECB52"
          ],
          "font": {
           "color": "#2a3f5f"
          },
          "geo": {
           "bgcolor": "white",
           "lakecolor": "white",
           "landcolor": "#E5ECF6",
           "showlakes": true,
           "showland": true,
           "subunitcolor": "white"
          },
          "hoverlabel": {
           "align": "left"
          },
          "hovermode": "closest",
          "mapbox": {
           "style": "light"
          },
          "paper_bgcolor": "white",
          "plot_bgcolor": "#E5ECF6",
          "polar": {
           "angularaxis": {
            "gridcolor": "white",
            "linecolor": "white",
            "ticks": ""
           },
           "bgcolor": "#E5ECF6",
           "radialaxis": {
            "gridcolor": "white",
            "linecolor": "white",
            "ticks": ""
           }
          },
          "scene": {
           "xaxis": {
            "backgroundcolor": "#E5ECF6",
            "gridcolor": "white",
            "gridwidth": 2,
            "linecolor": "white",
            "showbackground": true,
            "ticks": "",
            "zerolinecolor": "white"
           },
           "yaxis": {
            "backgroundcolor": "#E5ECF6",
            "gridcolor": "white",
            "gridwidth": 2,
            "linecolor": "white",
            "showbackground": true,
            "ticks": "",
            "zerolinecolor": "white"
           },
           "zaxis": {
            "backgroundcolor": "#E5ECF6",
            "gridcolor": "white",
            "gridwidth": 2,
            "linecolor": "white",
            "showbackground": true,
            "ticks": "",
            "zerolinecolor": "white"
           }
          },
          "shapedefaults": {
           "line": {
            "color": "#2a3f5f"
           }
          },
          "ternary": {
           "aaxis": {
            "gridcolor": "white",
            "linecolor": "white",
            "ticks": ""
           },
           "baxis": {
            "gridcolor": "white",
            "linecolor": "white",
            "ticks": ""
           },
           "bgcolor": "#E5ECF6",
           "caxis": {
            "gridcolor": "white",
            "linecolor": "white",
            "ticks": ""
           }
          },
          "title": {
           "x": 0.05
          },
          "xaxis": {
           "automargin": true,
           "gridcolor": "white",
           "linecolor": "white",
           "ticks": "",
           "title": {
            "standoff": 15
           },
           "zerolinecolor": "white",
           "zerolinewidth": 2
          },
          "yaxis": {
           "automargin": true,
           "gridcolor": "white",
           "linecolor": "white",
           "ticks": "",
           "title": {
            "standoff": 15
           },
           "zerolinecolor": "white",
           "zerolinewidth": 2
          }
         }
        },
        "xaxis": {
         "anchor": "y",
         "domain": [
          0,
          1
         ],
         "title": {
          "text": "TURB_NTRU"
         }
        },
        "yaxis": {
         "anchor": "x",
         "domain": [
          0,
          1
         ],
         "title": {
          "text": "count"
         }
        }
       }
      }
     },
     "metadata": {},
     "output_type": "display_data"
    },
    {
     "data": {
      "application/vnd.plotly.v1+json": {
       "config": {
        "plotlyServerURL": "https://plot.ly"
       },
       "data": [
        {
         "alignmentgroup": "True",
         "bingroup": "x",
         "hovertemplate": "RHUM_PCT=%{x}<br>count=%{y}<extra></extra>",
         "legendgroup": "",
         "marker": {
          "color": "#636efa",
          "pattern": {
           "shape": ""
          }
         },
         "name": "",
         "offsetgroup": "",
         "orientation": "v",
         "showlegend": false,
         "type": "histogram",
         "x": [
          79,
          91,
          73,
          42,
          64,
          87,
          61,
          77,
          77,
          72,
          64,
          77,
          83,
          76,
          77,
          81,
          72,
          69,
          63,
          74,
          88,
          90,
          55,
          69,
          60,
          74,
          76,
          93,
          91,
          80,
          81,
          72,
          83,
          77,
          70,
          56,
          57,
          88,
          80,
          80,
          67,
          70,
          63,
          81,
          71,
          81,
          69,
          68,
          55,
          93,
          81,
          82,
          81,
          84,
          71,
          74,
          64,
          79,
          81,
          66,
          92,
          78,
          71,
          78,
          87,
          74,
          74,
          85,
          63,
          81,
          75,
          73,
          67,
          82,
          78,
          69,
          68,
          65,
          81,
          83,
          83,
          83,
          86,
          89,
          67,
          67,
          64,
          67,
          65,
          82,
          86,
          82,
          88,
          73,
          71,
          70,
          73,
          74,
          54,
          69,
          90,
          86,
          79,
          66,
          67,
          71,
          51,
          83,
          90,
          92,
          80,
          90,
          83,
          90,
          86,
          82,
          89,
          74,
          59,
          82,
          84,
          90,
          73,
          88,
          85,
          81,
          63,
          78,
          70,
          77,
          83,
          72,
          77,
          73,
          78,
          64,
          65,
          84,
          84,
          77,
          60,
          61,
          58,
          52,
          70,
          67,
          68,
          65,
          70,
          66,
          69,
          71,
          70,
          72,
          69,
          83,
          78,
          67,
          66,
          85,
          71,
          72,
          81,
          46,
          76,
          71,
          66,
          88,
          70,
          73,
          74,
          66,
          71,
          78,
          68,
          71,
          84,
          76,
          68,
          78,
          75,
          77,
          61,
          51,
          57,
          77,
          51,
          66,
          59,
          65,
          80,
          70,
          60,
          47,
          52,
          49,
          60,
          77,
          51,
          68,
          54,
          88,
          67,
          58,
          57,
          54,
          56,
          78,
          67,
          77,
          80,
          77,
          76,
          66,
          60,
          76,
          78,
          77,
          74,
          68,
          76,
          51,
          67,
          54,
          84,
          84,
          72,
          74,
          65,
          62,
          67,
          78,
          90,
          76,
          113,
          75,
          66,
          72,
          75,
          63,
          62,
          73,
          64,
          87,
          80,
          76,
          71,
          79,
          71,
          80,
          81,
          74,
          79,
          65,
          60,
          85,
          78,
          77,
          79,
          71,
          70,
          121.05600000000231,
          70,
          78,
          68,
          78,
          79,
          80,
          69,
          54,
          68,
          67,
          49,
          71,
          88,
          77,
          76,
          76,
          56,
          73,
          55,
          57,
          72,
          71,
          70,
          75,
          72,
          62,
          77,
          76,
          71,
          53,
          77,
          69,
          59,
          60,
          66,
          65,
          53,
          90,
          88,
          73,
          63,
          78,
          65,
          77,
          78,
          79,
          62,
          53,
          85,
          85,
          83,
          71,
          68,
          74,
          76,
          72,
          68,
          72,
          72,
          83,
          76,
          69,
          71,
          73,
          78,
          76,
          65,
          78,
          68,
          59,
          70,
          71,
          66,
          72,
          74,
          56,
          59,
          76,
          81,
          70,
          66,
          68,
          79,
          61,
          78,
          77,
          64,
          72,
          68,
          57,
          63,
          83,
          61,
          62,
          62,
          64,
          73,
          78,
          62,
          60,
          73,
          84,
          49,
          78,
          78,
          73,
          64,
          71,
          76,
          78,
          72,
          79,
          84,
          67,
          59,
          80,
          55,
          86,
          63,
          59,
          87,
          65,
          66,
          49,
          79,
          71,
          81,
          65,
          80,
          66,
          85,
          84,
          81,
          51,
          75,
          90,
          70,
          65,
          61,
          64,
          73,
          82,
          74,
          64,
          53,
          55,
          72,
          66,
          63,
          52,
          61,
          62,
          69,
          62,
          74,
          66,
          56,
          61,
          89,
          76,
          71,
          87,
          70,
          77,
          70,
          78,
          79,
          74,
          75,
          78,
          77,
          71,
          68,
          68,
          76,
          77,
          84,
          86,
          71,
          66,
          76,
          86,
          80,
          73,
          79,
          83,
          83,
          77,
          87,
          76,
          59,
          57,
          79,
          77,
          90,
          68,
          68,
          65,
          81,
          79,
          83
         ],
         "xaxis": "x",
         "yaxis": "y"
        }
       ],
       "layout": {
        "barmode": "relative",
        "legend": {
         "tracegroupgap": 0
        },
        "margin": {
         "t": 60
        },
        "template": {
         "data": {
          "bar": [
           {
            "error_x": {
             "color": "#2a3f5f"
            },
            "error_y": {
             "color": "#2a3f5f"
            },
            "marker": {
             "line": {
              "color": "#E5ECF6",
              "width": 0.5
             },
             "pattern": {
              "fillmode": "overlay",
              "size": 10,
              "solidity": 0.2
             }
            },
            "type": "bar"
           }
          ],
          "barpolar": [
           {
            "marker": {
             "line": {
              "color": "#E5ECF6",
              "width": 0.5
             },
             "pattern": {
              "fillmode": "overlay",
              "size": 10,
              "solidity": 0.2
             }
            },
            "type": "barpolar"
           }
          ],
          "carpet": [
           {
            "aaxis": {
             "endlinecolor": "#2a3f5f",
             "gridcolor": "white",
             "linecolor": "white",
             "minorgridcolor": "white",
             "startlinecolor": "#2a3f5f"
            },
            "baxis": {
             "endlinecolor": "#2a3f5f",
             "gridcolor": "white",
             "linecolor": "white",
             "minorgridcolor": "white",
             "startlinecolor": "#2a3f5f"
            },
            "type": "carpet"
           }
          ],
          "choropleth": [
           {
            "colorbar": {
             "outlinewidth": 0,
             "ticks": ""
            },
            "type": "choropleth"
           }
          ],
          "contour": [
           {
            "colorbar": {
             "outlinewidth": 0,
             "ticks": ""
            },
            "colorscale": [
             [
              0,
              "#0d0887"
             ],
             [
              0.1111111111111111,
              "#46039f"
             ],
             [
              0.2222222222222222,
              "#7201a8"
             ],
             [
              0.3333333333333333,
              "#9c179e"
             ],
             [
              0.4444444444444444,
              "#bd3786"
             ],
             [
              0.5555555555555556,
              "#d8576b"
             ],
             [
              0.6666666666666666,
              "#ed7953"
             ],
             [
              0.7777777777777778,
              "#fb9f3a"
             ],
             [
              0.8888888888888888,
              "#fdca26"
             ],
             [
              1,
              "#f0f921"
             ]
            ],
            "type": "contour"
           }
          ],
          "contourcarpet": [
           {
            "colorbar": {
             "outlinewidth": 0,
             "ticks": ""
            },
            "type": "contourcarpet"
           }
          ],
          "heatmap": [
           {
            "colorbar": {
             "outlinewidth": 0,
             "ticks": ""
            },
            "colorscale": [
             [
              0,
              "#0d0887"
             ],
             [
              0.1111111111111111,
              "#46039f"
             ],
             [
              0.2222222222222222,
              "#7201a8"
             ],
             [
              0.3333333333333333,
              "#9c179e"
             ],
             [
              0.4444444444444444,
              "#bd3786"
             ],
             [
              0.5555555555555556,
              "#d8576b"
             ],
             [
              0.6666666666666666,
              "#ed7953"
             ],
             [
              0.7777777777777778,
              "#fb9f3a"
             ],
             [
              0.8888888888888888,
              "#fdca26"
             ],
             [
              1,
              "#f0f921"
             ]
            ],
            "type": "heatmap"
           }
          ],
          "heatmapgl": [
           {
            "colorbar": {
             "outlinewidth": 0,
             "ticks": ""
            },
            "colorscale": [
             [
              0,
              "#0d0887"
             ],
             [
              0.1111111111111111,
              "#46039f"
             ],
             [
              0.2222222222222222,
              "#7201a8"
             ],
             [
              0.3333333333333333,
              "#9c179e"
             ],
             [
              0.4444444444444444,
              "#bd3786"
             ],
             [
              0.5555555555555556,
              "#d8576b"
             ],
             [
              0.6666666666666666,
              "#ed7953"
             ],
             [
              0.7777777777777778,
              "#fb9f3a"
             ],
             [
              0.8888888888888888,
              "#fdca26"
             ],
             [
              1,
              "#f0f921"
             ]
            ],
            "type": "heatmapgl"
           }
          ],
          "histogram": [
           {
            "marker": {
             "pattern": {
              "fillmode": "overlay",
              "size": 10,
              "solidity": 0.2
             }
            },
            "type": "histogram"
           }
          ],
          "histogram2d": [
           {
            "colorbar": {
             "outlinewidth": 0,
             "ticks": ""
            },
            "colorscale": [
             [
              0,
              "#0d0887"
             ],
             [
              0.1111111111111111,
              "#46039f"
             ],
             [
              0.2222222222222222,
              "#7201a8"
             ],
             [
              0.3333333333333333,
              "#9c179e"
             ],
             [
              0.4444444444444444,
              "#bd3786"
             ],
             [
              0.5555555555555556,
              "#d8576b"
             ],
             [
              0.6666666666666666,
              "#ed7953"
             ],
             [
              0.7777777777777778,
              "#fb9f3a"
             ],
             [
              0.8888888888888888,
              "#fdca26"
             ],
             [
              1,
              "#f0f921"
             ]
            ],
            "type": "histogram2d"
           }
          ],
          "histogram2dcontour": [
           {
            "colorbar": {
             "outlinewidth": 0,
             "ticks": ""
            },
            "colorscale": [
             [
              0,
              "#0d0887"
             ],
             [
              0.1111111111111111,
              "#46039f"
             ],
             [
              0.2222222222222222,
              "#7201a8"
             ],
             [
              0.3333333333333333,
              "#9c179e"
             ],
             [
              0.4444444444444444,
              "#bd3786"
             ],
             [
              0.5555555555555556,
              "#d8576b"
             ],
             [
              0.6666666666666666,
              "#ed7953"
             ],
             [
              0.7777777777777778,
              "#fb9f3a"
             ],
             [
              0.8888888888888888,
              "#fdca26"
             ],
             [
              1,
              "#f0f921"
             ]
            ],
            "type": "histogram2dcontour"
           }
          ],
          "mesh3d": [
           {
            "colorbar": {
             "outlinewidth": 0,
             "ticks": ""
            },
            "type": "mesh3d"
           }
          ],
          "parcoords": [
           {
            "line": {
             "colorbar": {
              "outlinewidth": 0,
              "ticks": ""
             }
            },
            "type": "parcoords"
           }
          ],
          "pie": [
           {
            "automargin": true,
            "type": "pie"
           }
          ],
          "scatter": [
           {
            "fillpattern": {
             "fillmode": "overlay",
             "size": 10,
             "solidity": 0.2
            },
            "type": "scatter"
           }
          ],
          "scatter3d": [
           {
            "line": {
             "colorbar": {
              "outlinewidth": 0,
              "ticks": ""
             }
            },
            "marker": {
             "colorbar": {
              "outlinewidth": 0,
              "ticks": ""
             }
            },
            "type": "scatter3d"
           }
          ],
          "scattercarpet": [
           {
            "marker": {
             "colorbar": {
              "outlinewidth": 0,
              "ticks": ""
             }
            },
            "type": "scattercarpet"
           }
          ],
          "scattergeo": [
           {
            "marker": {
             "colorbar": {
              "outlinewidth": 0,
              "ticks": ""
             }
            },
            "type": "scattergeo"
           }
          ],
          "scattergl": [
           {
            "marker": {
             "colorbar": {
              "outlinewidth": 0,
              "ticks": ""
             }
            },
            "type": "scattergl"
           }
          ],
          "scattermapbox": [
           {
            "marker": {
             "colorbar": {
              "outlinewidth": 0,
              "ticks": ""
             }
            },
            "type": "scattermapbox"
           }
          ],
          "scatterpolar": [
           {
            "marker": {
             "colorbar": {
              "outlinewidth": 0,
              "ticks": ""
             }
            },
            "type": "scatterpolar"
           }
          ],
          "scatterpolargl": [
           {
            "marker": {
             "colorbar": {
              "outlinewidth": 0,
              "ticks": ""
             }
            },
            "type": "scatterpolargl"
           }
          ],
          "scatterternary": [
           {
            "marker": {
             "colorbar": {
              "outlinewidth": 0,
              "ticks": ""
             }
            },
            "type": "scatterternary"
           }
          ],
          "surface": [
           {
            "colorbar": {
             "outlinewidth": 0,
             "ticks": ""
            },
            "colorscale": [
             [
              0,
              "#0d0887"
             ],
             [
              0.1111111111111111,
              "#46039f"
             ],
             [
              0.2222222222222222,
              "#7201a8"
             ],
             [
              0.3333333333333333,
              "#9c179e"
             ],
             [
              0.4444444444444444,
              "#bd3786"
             ],
             [
              0.5555555555555556,
              "#d8576b"
             ],
             [
              0.6666666666666666,
              "#ed7953"
             ],
             [
              0.7777777777777778,
              "#fb9f3a"
             ],
             [
              0.8888888888888888,
              "#fdca26"
             ],
             [
              1,
              "#f0f921"
             ]
            ],
            "type": "surface"
           }
          ],
          "table": [
           {
            "cells": {
             "fill": {
              "color": "#EBF0F8"
             },
             "line": {
              "color": "white"
             }
            },
            "header": {
             "fill": {
              "color": "#C8D4E3"
             },
             "line": {
              "color": "white"
             }
            },
            "type": "table"
           }
          ]
         },
         "layout": {
          "annotationdefaults": {
           "arrowcolor": "#2a3f5f",
           "arrowhead": 0,
           "arrowwidth": 1
          },
          "autotypenumbers": "strict",
          "coloraxis": {
           "colorbar": {
            "outlinewidth": 0,
            "ticks": ""
           }
          },
          "colorscale": {
           "diverging": [
            [
             0,
             "#8e0152"
            ],
            [
             0.1,
             "#c51b7d"
            ],
            [
             0.2,
             "#de77ae"
            ],
            [
             0.3,
             "#f1b6da"
            ],
            [
             0.4,
             "#fde0ef"
            ],
            [
             0.5,
             "#f7f7f7"
            ],
            [
             0.6,
             "#e6f5d0"
            ],
            [
             0.7,
             "#b8e186"
            ],
            [
             0.8,
             "#7fbc41"
            ],
            [
             0.9,
             "#4d9221"
            ],
            [
             1,
             "#276419"
            ]
           ],
           "sequential": [
            [
             0,
             "#0d0887"
            ],
            [
             0.1111111111111111,
             "#46039f"
            ],
            [
             0.2222222222222222,
             "#7201a8"
            ],
            [
             0.3333333333333333,
             "#9c179e"
            ],
            [
             0.4444444444444444,
             "#bd3786"
            ],
            [
             0.5555555555555556,
             "#d8576b"
            ],
            [
             0.6666666666666666,
             "#ed7953"
            ],
            [
             0.7777777777777778,
             "#fb9f3a"
            ],
            [
             0.8888888888888888,
             "#fdca26"
            ],
            [
             1,
             "#f0f921"
            ]
           ],
           "sequentialminus": [
            [
             0,
             "#0d0887"
            ],
            [
             0.1111111111111111,
             "#46039f"
            ],
            [
             0.2222222222222222,
             "#7201a8"
            ],
            [
             0.3333333333333333,
             "#9c179e"
            ],
            [
             0.4444444444444444,
             "#bd3786"
            ],
            [
             0.5555555555555556,
             "#d8576b"
            ],
            [
             0.6666666666666666,
             "#ed7953"
            ],
            [
             0.7777777777777778,
             "#fb9f3a"
            ],
            [
             0.8888888888888888,
             "#fdca26"
            ],
            [
             1,
             "#f0f921"
            ]
           ]
          },
          "colorway": [
           "#636efa",
           "#EF553B",
           "#00cc96",
           "#ab63fa",
           "#FFA15A",
           "#19d3f3",
           "#FF6692",
           "#B6E880",
           "#FF97FF",
           "#FECB52"
          ],
          "font": {
           "color": "#2a3f5f"
          },
          "geo": {
           "bgcolor": "white",
           "lakecolor": "white",
           "landcolor": "#E5ECF6",
           "showlakes": true,
           "showland": true,
           "subunitcolor": "white"
          },
          "hoverlabel": {
           "align": "left"
          },
          "hovermode": "closest",
          "mapbox": {
           "style": "light"
          },
          "paper_bgcolor": "white",
          "plot_bgcolor": "#E5ECF6",
          "polar": {
           "angularaxis": {
            "gridcolor": "white",
            "linecolor": "white",
            "ticks": ""
           },
           "bgcolor": "#E5ECF6",
           "radialaxis": {
            "gridcolor": "white",
            "linecolor": "white",
            "ticks": ""
           }
          },
          "scene": {
           "xaxis": {
            "backgroundcolor": "#E5ECF6",
            "gridcolor": "white",
            "gridwidth": 2,
            "linecolor": "white",
            "showbackground": true,
            "ticks": "",
            "zerolinecolor": "white"
           },
           "yaxis": {
            "backgroundcolor": "#E5ECF6",
            "gridcolor": "white",
            "gridwidth": 2,
            "linecolor": "white",
            "showbackground": true,
            "ticks": "",
            "zerolinecolor": "white"
           },
           "zaxis": {
            "backgroundcolor": "#E5ECF6",
            "gridcolor": "white",
            "gridwidth": 2,
            "linecolor": "white",
            "showbackground": true,
            "ticks": "",
            "zerolinecolor": "white"
           }
          },
          "shapedefaults": {
           "line": {
            "color": "#2a3f5f"
           }
          },
          "ternary": {
           "aaxis": {
            "gridcolor": "white",
            "linecolor": "white",
            "ticks": ""
           },
           "baxis": {
            "gridcolor": "white",
            "linecolor": "white",
            "ticks": ""
           },
           "bgcolor": "#E5ECF6",
           "caxis": {
            "gridcolor": "white",
            "linecolor": "white",
            "ticks": ""
           }
          },
          "title": {
           "x": 0.05
          },
          "xaxis": {
           "automargin": true,
           "gridcolor": "white",
           "linecolor": "white",
           "ticks": "",
           "title": {
            "standoff": 15
           },
           "zerolinecolor": "white",
           "zerolinewidth": 2
          },
          "yaxis": {
           "automargin": true,
           "gridcolor": "white",
           "linecolor": "white",
           "ticks": "",
           "title": {
            "standoff": 15
           },
           "zerolinecolor": "white",
           "zerolinewidth": 2
          }
         }
        },
        "xaxis": {
         "anchor": "y",
         "domain": [
          0,
          1
         ],
         "title": {
          "text": "RHUM_PCT"
         }
        },
        "yaxis": {
         "anchor": "x",
         "domain": [
          0,
          1
         ],
         "title": {
          "text": "count"
         }
        }
       }
      }
     },
     "metadata": {},
     "output_type": "display_data"
    },
    {
     "data": {
      "application/vnd.plotly.v1+json": {
       "config": {
        "plotlyServerURL": "https://plot.ly"
       },
       "data": [
        {
         "alignmentgroup": "True",
         "bingroup": "x",
         "hovertemplate": "WTEMP_CEL=%{x}<br>count=%{y}<extra></extra>",
         "legendgroup": "",
         "marker": {
          "color": "#636efa",
          "pattern": {
           "shape": ""
          }
         },
         "name": "",
         "offsetgroup": "",
         "orientation": "v",
         "showlegend": false,
         "type": "histogram",
         "x": [
          15.44,
          10.56,
          16.83,
          9.22,
          10.56,
          13.5,
          15.89,
          16.17,
          16.61,
          17.78,
          17.56,
          17.61,
          17.89,
          17.28,
          18.83,
          18.78,
          17.33,
          18.94,
          18.39,
          20.72,
          20.83,
          20.56,
          19.56,
          17.39,
          18.83,
          17.17,
          19.5,
          20.11,
          21.11,
          22.06,
          22.5,
          23.89,
          23.17,
          24.22,
          21.83,
          22.56,
          22.72,
          22.5,
          23.67,
          22.56,
          23.33,
          23.11,
          22.11,
          22.44,
          23.78,
          24.78,
          21.78,
          22.39,
          22.17,
          21.78,
          22.22,
          22.72,
          23.39,
          23.72,
          21.56,
          21.61,
          22.33,
          23.56,
          22.78,
          21.39,
          21.44,
          21.33,
          21.39,
          22.78,
          22.17,
          23.06,
          23.56,
          23.11,
          23.44,
          22.83,
          22.72,
          23.17,
          22.39,
          22.39,
          21.22,
          20.78,
          19.61,
          19.22,
          21.06,
          21.56,
          21.06,
          21.67,
          23.06,
          21.83,
          22.94,
          21.67,
          21.94,
          21.61,
          21.72,
          22.39,
          22.39,
          23.33,
          22.44,
          22.67,
          22.89,
          18.67,
          19.39,
          18.94,
          18.17,
          18.72,
          17.5,
          15.11,
          13,
          12.61,
          11.94,
          13.39,
          12.33,
          14.83,
          14.44,
          19.39,
          19.17,
          19.39,
          18.78,
          18.06,
          18.94,
          20.22,
          21.28,
          21.28,
          21.5,
          20.61,
          26.89,
          21.78,
          19.11,
          22.11,
          20,
          20.56,
          19.72,
          18.67,
          21.44,
          20.78,
          20.94,
          21.78,
          21.67,
          21.22,
          20.33,
          19.83,
          19.06,
          20.5,
          23.44,
          23.28,
          21.94,
          22.28,
          23.33,
          22.39,
          24.39,
          24.22,
          24.39,
          24.22,
          24,
          23.72,
          23.72,
          23.78,
          23.5,
          23.44,
          24,
          23.56,
          22.89,
          21.83,
          22.22,
          23.28,
          24.28,
          25,
          24.89,
          22.78,
          22.83,
          22.61,
          22.67,
          21.17,
          20.78,
          20.83,
          24,
          24.39,
          20.78,
          20,
          20,
          19.11,
          16.67,
          20,
          19.83,
          21.11,
          17.78,
          18.33,
          17.67,
          17.22,
          18.06,
          18.61,
          18.94,
          18.33,
          18.33,
          18.61,
          18.56,
          18.72,
          19.5,
          19.28,
          20.56,
          21.11,
          20.33,
          21.17,
          20.33,
          20.78,
          21,
          22.17,
          22.17,
          21.44,
          20.83,
          21.5,
          21.78,
          21.72,
          22.89,
          23.56,
          24.22,
          23.61,
          23.67,
          24.44,
          23.78,
          24.67,
          24.72,
          25.17,
          24,
          24.11,
          24.5,
          24.17,
          23.83,
          24.06,
          24.72,
          25.72,
          26.44,
          26,
          29.78,
          25.72,
          28.72,
          25.5,
          24.83,
          26.67,
          27.39,
          25.61,
          27.44,
          25.28,
          24.72,
          24.89,
          24.89,
          25.11,
          24.67,
          25.56,
          26.89,
          27,
          26.06,
          26,
          25.44,
          25.33,
          25,
          24.78,
          24.72,
          25.28,
          24.67,
          25.06,
          25.33,
          25.28,
          25.33,
          24.72,
          24.67,
          24.28,
          23.39,
          22.94,
          23,
          14.5,
          15.89,
          15,
          16.72,
          17.17,
          17,
          16.56,
          17.39,
          17.06,
          17.94,
          17.56,
          15.67,
          17.33,
          17.78,
          18.17,
          19.56,
          20.56,
          21.11,
          20,
          19.56,
          21.56,
          22.11,
          22.61,
          22,
          21.39,
          21.56,
          22.39,
          22.44,
          22.06,
          21.67,
          20.78,
          20,
          19.72,
          21,
          22.06,
          22.28,
          22.5,
          22.89,
          22.72,
          21.94,
          22.44,
          23.06,
          23.06,
          22.17,
          22.5,
          23.67,
          23.78,
          24.5,
          23.61,
          24.5,
          24.44,
          24.89,
          25.39,
          26.11,
          26.28,
          25.28,
          25.78,
          25.94,
          22.17,
          22.78,
          23.17,
          23.17,
          22.94,
          21.89,
          23.17,
          23.89,
          23.78,
          24,
          24.44,
          22,
          21,
          20.89,
          21.39,
          22.17,
          22.61,
          21.17,
          21.67,
          21.78,
          21.78,
          22.39,
          22,
          23.39,
          23.17,
          22.56,
          23.39,
          24.11,
          22.72,
          21.06,
          22.44,
          21.39,
          21.72,
          21.22,
          20.67,
          21.28,
          21.06,
          20.61,
          19.28,
          13.61,
          15.83,
          16.28,
          16.44,
          16,
          18.39,
          13.56,
          15.5,
          16.11,
          16.44,
          12.78,
          14.5,
          15.11,
          14.39,
          15.56,
          17.56,
          16.28,
          14.89,
          15.39,
          16.17,
          16.56,
          16.89,
          18.67,
          19.61,
          19,
          21.06,
          20.17,
          19.17,
          17.89,
          12.78,
          14.72,
          17.39,
          16.5,
          13.17,
          14.39,
          17.06,
          18.72,
          20.44,
          20.78,
          22.28,
          23.39,
          23.78,
          23.89,
          24.28,
          23.72,
          22.28,
          23.28,
          22.56,
          22.39,
          23.61,
          23.5,
          23.56,
          24.06,
          25.83,
          24.06,
          24.89,
          23.17,
          22.83,
          20.78,
          21.39,
          21.89,
          22.06,
          22.78,
          23.11,
          23.22,
          23.5,
          22.67,
          22.67,
          22.39,
          22,
          23.67,
          23.56,
          23.5,
          24.28,
          24.28,
          24.17,
          23.78,
          25.11,
          24.33,
          24,
          24,
          23.39,
          23.89,
          24.5,
          24.83,
          24.44,
          24.72,
          23.28,
          23.56,
          23.72,
          22.72,
          22.72,
          22.83,
          22,
          23.72,
          24.5,
          25.17,
          23.44,
          23.39,
          23.72,
          23.61
         ],
         "xaxis": "x",
         "yaxis": "y"
        }
       ],
       "layout": {
        "barmode": "relative",
        "legend": {
         "tracegroupgap": 0
        },
        "margin": {
         "t": 60
        },
        "template": {
         "data": {
          "bar": [
           {
            "error_x": {
             "color": "#2a3f5f"
            },
            "error_y": {
             "color": "#2a3f5f"
            },
            "marker": {
             "line": {
              "color": "#E5ECF6",
              "width": 0.5
             },
             "pattern": {
              "fillmode": "overlay",
              "size": 10,
              "solidity": 0.2
             }
            },
            "type": "bar"
           }
          ],
          "barpolar": [
           {
            "marker": {
             "line": {
              "color": "#E5ECF6",
              "width": 0.5
             },
             "pattern": {
              "fillmode": "overlay",
              "size": 10,
              "solidity": 0.2
             }
            },
            "type": "barpolar"
           }
          ],
          "carpet": [
           {
            "aaxis": {
             "endlinecolor": "#2a3f5f",
             "gridcolor": "white",
             "linecolor": "white",
             "minorgridcolor": "white",
             "startlinecolor": "#2a3f5f"
            },
            "baxis": {
             "endlinecolor": "#2a3f5f",
             "gridcolor": "white",
             "linecolor": "white",
             "minorgridcolor": "white",
             "startlinecolor": "#2a3f5f"
            },
            "type": "carpet"
           }
          ],
          "choropleth": [
           {
            "colorbar": {
             "outlinewidth": 0,
             "ticks": ""
            },
            "type": "choropleth"
           }
          ],
          "contour": [
           {
            "colorbar": {
             "outlinewidth": 0,
             "ticks": ""
            },
            "colorscale": [
             [
              0,
              "#0d0887"
             ],
             [
              0.1111111111111111,
              "#46039f"
             ],
             [
              0.2222222222222222,
              "#7201a8"
             ],
             [
              0.3333333333333333,
              "#9c179e"
             ],
             [
              0.4444444444444444,
              "#bd3786"
             ],
             [
              0.5555555555555556,
              "#d8576b"
             ],
             [
              0.6666666666666666,
              "#ed7953"
             ],
             [
              0.7777777777777778,
              "#fb9f3a"
             ],
             [
              0.8888888888888888,
              "#fdca26"
             ],
             [
              1,
              "#f0f921"
             ]
            ],
            "type": "contour"
           }
          ],
          "contourcarpet": [
           {
            "colorbar": {
             "outlinewidth": 0,
             "ticks": ""
            },
            "type": "contourcarpet"
           }
          ],
          "heatmap": [
           {
            "colorbar": {
             "outlinewidth": 0,
             "ticks": ""
            },
            "colorscale": [
             [
              0,
              "#0d0887"
             ],
             [
              0.1111111111111111,
              "#46039f"
             ],
             [
              0.2222222222222222,
              "#7201a8"
             ],
             [
              0.3333333333333333,
              "#9c179e"
             ],
             [
              0.4444444444444444,
              "#bd3786"
             ],
             [
              0.5555555555555556,
              "#d8576b"
             ],
             [
              0.6666666666666666,
              "#ed7953"
             ],
             [
              0.7777777777777778,
              "#fb9f3a"
             ],
             [
              0.8888888888888888,
              "#fdca26"
             ],
             [
              1,
              "#f0f921"
             ]
            ],
            "type": "heatmap"
           }
          ],
          "heatmapgl": [
           {
            "colorbar": {
             "outlinewidth": 0,
             "ticks": ""
            },
            "colorscale": [
             [
              0,
              "#0d0887"
             ],
             [
              0.1111111111111111,
              "#46039f"
             ],
             [
              0.2222222222222222,
              "#7201a8"
             ],
             [
              0.3333333333333333,
              "#9c179e"
             ],
             [
              0.4444444444444444,
              "#bd3786"
             ],
             [
              0.5555555555555556,
              "#d8576b"
             ],
             [
              0.6666666666666666,
              "#ed7953"
             ],
             [
              0.7777777777777778,
              "#fb9f3a"
             ],
             [
              0.8888888888888888,
              "#fdca26"
             ],
             [
              1,
              "#f0f921"
             ]
            ],
            "type": "heatmapgl"
           }
          ],
          "histogram": [
           {
            "marker": {
             "pattern": {
              "fillmode": "overlay",
              "size": 10,
              "solidity": 0.2
             }
            },
            "type": "histogram"
           }
          ],
          "histogram2d": [
           {
            "colorbar": {
             "outlinewidth": 0,
             "ticks": ""
            },
            "colorscale": [
             [
              0,
              "#0d0887"
             ],
             [
              0.1111111111111111,
              "#46039f"
             ],
             [
              0.2222222222222222,
              "#7201a8"
             ],
             [
              0.3333333333333333,
              "#9c179e"
             ],
             [
              0.4444444444444444,
              "#bd3786"
             ],
             [
              0.5555555555555556,
              "#d8576b"
             ],
             [
              0.6666666666666666,
              "#ed7953"
             ],
             [
              0.7777777777777778,
              "#fb9f3a"
             ],
             [
              0.8888888888888888,
              "#fdca26"
             ],
             [
              1,
              "#f0f921"
             ]
            ],
            "type": "histogram2d"
           }
          ],
          "histogram2dcontour": [
           {
            "colorbar": {
             "outlinewidth": 0,
             "ticks": ""
            },
            "colorscale": [
             [
              0,
              "#0d0887"
             ],
             [
              0.1111111111111111,
              "#46039f"
             ],
             [
              0.2222222222222222,
              "#7201a8"
             ],
             [
              0.3333333333333333,
              "#9c179e"
             ],
             [
              0.4444444444444444,
              "#bd3786"
             ],
             [
              0.5555555555555556,
              "#d8576b"
             ],
             [
              0.6666666666666666,
              "#ed7953"
             ],
             [
              0.7777777777777778,
              "#fb9f3a"
             ],
             [
              0.8888888888888888,
              "#fdca26"
             ],
             [
              1,
              "#f0f921"
             ]
            ],
            "type": "histogram2dcontour"
           }
          ],
          "mesh3d": [
           {
            "colorbar": {
             "outlinewidth": 0,
             "ticks": ""
            },
            "type": "mesh3d"
           }
          ],
          "parcoords": [
           {
            "line": {
             "colorbar": {
              "outlinewidth": 0,
              "ticks": ""
             }
            },
            "type": "parcoords"
           }
          ],
          "pie": [
           {
            "automargin": true,
            "type": "pie"
           }
          ],
          "scatter": [
           {
            "fillpattern": {
             "fillmode": "overlay",
             "size": 10,
             "solidity": 0.2
            },
            "type": "scatter"
           }
          ],
          "scatter3d": [
           {
            "line": {
             "colorbar": {
              "outlinewidth": 0,
              "ticks": ""
             }
            },
            "marker": {
             "colorbar": {
              "outlinewidth": 0,
              "ticks": ""
             }
            },
            "type": "scatter3d"
           }
          ],
          "scattercarpet": [
           {
            "marker": {
             "colorbar": {
              "outlinewidth": 0,
              "ticks": ""
             }
            },
            "type": "scattercarpet"
           }
          ],
          "scattergeo": [
           {
            "marker": {
             "colorbar": {
              "outlinewidth": 0,
              "ticks": ""
             }
            },
            "type": "scattergeo"
           }
          ],
          "scattergl": [
           {
            "marker": {
             "colorbar": {
              "outlinewidth": 0,
              "ticks": ""
             }
            },
            "type": "scattergl"
           }
          ],
          "scattermapbox": [
           {
            "marker": {
             "colorbar": {
              "outlinewidth": 0,
              "ticks": ""
             }
            },
            "type": "scattermapbox"
           }
          ],
          "scatterpolar": [
           {
            "marker": {
             "colorbar": {
              "outlinewidth": 0,
              "ticks": ""
             }
            },
            "type": "scatterpolar"
           }
          ],
          "scatterpolargl": [
           {
            "marker": {
             "colorbar": {
              "outlinewidth": 0,
              "ticks": ""
             }
            },
            "type": "scatterpolargl"
           }
          ],
          "scatterternary": [
           {
            "marker": {
             "colorbar": {
              "outlinewidth": 0,
              "ticks": ""
             }
            },
            "type": "scatterternary"
           }
          ],
          "surface": [
           {
            "colorbar": {
             "outlinewidth": 0,
             "ticks": ""
            },
            "colorscale": [
             [
              0,
              "#0d0887"
             ],
             [
              0.1111111111111111,
              "#46039f"
             ],
             [
              0.2222222222222222,
              "#7201a8"
             ],
             [
              0.3333333333333333,
              "#9c179e"
             ],
             [
              0.4444444444444444,
              "#bd3786"
             ],
             [
              0.5555555555555556,
              "#d8576b"
             ],
             [
              0.6666666666666666,
              "#ed7953"
             ],
             [
              0.7777777777777778,
              "#fb9f3a"
             ],
             [
              0.8888888888888888,
              "#fdca26"
             ],
             [
              1,
              "#f0f921"
             ]
            ],
            "type": "surface"
           }
          ],
          "table": [
           {
            "cells": {
             "fill": {
              "color": "#EBF0F8"
             },
             "line": {
              "color": "white"
             }
            },
            "header": {
             "fill": {
              "color": "#C8D4E3"
             },
             "line": {
              "color": "white"
             }
            },
            "type": "table"
           }
          ]
         },
         "layout": {
          "annotationdefaults": {
           "arrowcolor": "#2a3f5f",
           "arrowhead": 0,
           "arrowwidth": 1
          },
          "autotypenumbers": "strict",
          "coloraxis": {
           "colorbar": {
            "outlinewidth": 0,
            "ticks": ""
           }
          },
          "colorscale": {
           "diverging": [
            [
             0,
             "#8e0152"
            ],
            [
             0.1,
             "#c51b7d"
            ],
            [
             0.2,
             "#de77ae"
            ],
            [
             0.3,
             "#f1b6da"
            ],
            [
             0.4,
             "#fde0ef"
            ],
            [
             0.5,
             "#f7f7f7"
            ],
            [
             0.6,
             "#e6f5d0"
            ],
            [
             0.7,
             "#b8e186"
            ],
            [
             0.8,
             "#7fbc41"
            ],
            [
             0.9,
             "#4d9221"
            ],
            [
             1,
             "#276419"
            ]
           ],
           "sequential": [
            [
             0,
             "#0d0887"
            ],
            [
             0.1111111111111111,
             "#46039f"
            ],
            [
             0.2222222222222222,
             "#7201a8"
            ],
            [
             0.3333333333333333,
             "#9c179e"
            ],
            [
             0.4444444444444444,
             "#bd3786"
            ],
            [
             0.5555555555555556,
             "#d8576b"
            ],
            [
             0.6666666666666666,
             "#ed7953"
            ],
            [
             0.7777777777777778,
             "#fb9f3a"
            ],
            [
             0.8888888888888888,
             "#fdca26"
            ],
            [
             1,
             "#f0f921"
            ]
           ],
           "sequentialminus": [
            [
             0,
             "#0d0887"
            ],
            [
             0.1111111111111111,
             "#46039f"
            ],
            [
             0.2222222222222222,
             "#7201a8"
            ],
            [
             0.3333333333333333,
             "#9c179e"
            ],
            [
             0.4444444444444444,
             "#bd3786"
            ],
            [
             0.5555555555555556,
             "#d8576b"
            ],
            [
             0.6666666666666666,
             "#ed7953"
            ],
            [
             0.7777777777777778,
             "#fb9f3a"
            ],
            [
             0.8888888888888888,
             "#fdca26"
            ],
            [
             1,
             "#f0f921"
            ]
           ]
          },
          "colorway": [
           "#636efa",
           "#EF553B",
           "#00cc96",
           "#ab63fa",
           "#FFA15A",
           "#19d3f3",
           "#FF6692",
           "#B6E880",
           "#FF97FF",
           "#FECB52"
          ],
          "font": {
           "color": "#2a3f5f"
          },
          "geo": {
           "bgcolor": "white",
           "lakecolor": "white",
           "landcolor": "#E5ECF6",
           "showlakes": true,
           "showland": true,
           "subunitcolor": "white"
          },
          "hoverlabel": {
           "align": "left"
          },
          "hovermode": "closest",
          "mapbox": {
           "style": "light"
          },
          "paper_bgcolor": "white",
          "plot_bgcolor": "#E5ECF6",
          "polar": {
           "angularaxis": {
            "gridcolor": "white",
            "linecolor": "white",
            "ticks": ""
           },
           "bgcolor": "#E5ECF6",
           "radialaxis": {
            "gridcolor": "white",
            "linecolor": "white",
            "ticks": ""
           }
          },
          "scene": {
           "xaxis": {
            "backgroundcolor": "#E5ECF6",
            "gridcolor": "white",
            "gridwidth": 2,
            "linecolor": "white",
            "showbackground": true,
            "ticks": "",
            "zerolinecolor": "white"
           },
           "yaxis": {
            "backgroundcolor": "#E5ECF6",
            "gridcolor": "white",
            "gridwidth": 2,
            "linecolor": "white",
            "showbackground": true,
            "ticks": "",
            "zerolinecolor": "white"
           },
           "zaxis": {
            "backgroundcolor": "#E5ECF6",
            "gridcolor": "white",
            "gridwidth": 2,
            "linecolor": "white",
            "showbackground": true,
            "ticks": "",
            "zerolinecolor": "white"
           }
          },
          "shapedefaults": {
           "line": {
            "color": "#2a3f5f"
           }
          },
          "ternary": {
           "aaxis": {
            "gridcolor": "white",
            "linecolor": "white",
            "ticks": ""
           },
           "baxis": {
            "gridcolor": "white",
            "linecolor": "white",
            "ticks": ""
           },
           "bgcolor": "#E5ECF6",
           "caxis": {
            "gridcolor": "white",
            "linecolor": "white",
            "ticks": ""
           }
          },
          "title": {
           "x": 0.05
          },
          "xaxis": {
           "automargin": true,
           "gridcolor": "white",
           "linecolor": "white",
           "ticks": "",
           "title": {
            "standoff": 15
           },
           "zerolinecolor": "white",
           "zerolinewidth": 2
          },
          "yaxis": {
           "automargin": true,
           "gridcolor": "white",
           "linecolor": "white",
           "ticks": "",
           "title": {
            "standoff": 15
           },
           "zerolinecolor": "white",
           "zerolinewidth": 2
          }
         }
        },
        "xaxis": {
         "anchor": "y",
         "domain": [
          0,
          1
         ],
         "title": {
          "text": "WTEMP_CEL"
         }
        },
        "yaxis": {
         "anchor": "x",
         "domain": [
          0,
          1
         ],
         "title": {
          "text": "count"
         }
        }
       }
      }
     },
     "metadata": {},
     "output_type": "display_data"
    },
    {
     "data": {
      "application/vnd.plotly.v1+json": {
       "config": {
        "plotlyServerURL": "https://plot.ly"
       },
       "data": [
        {
         "alignmentgroup": "True",
         "bingroup": "x",
         "hovertemplate": "BIRDS_NO=%{x}<br>count=%{y}<extra></extra>",
         "legendgroup": "",
         "marker": {
          "color": "#636efa",
          "pattern": {
           "shape": ""
          }
         },
         "name": "",
         "offsetgroup": "",
         "orientation": "v",
         "showlegend": false,
         "type": "histogram",
         "x": [
          0,
          5,
          0,
          0,
          1,
          7,
          5,
          37,
          50,
          30,
          9,
          0,
          2,
          26,
          32,
          0,
          1,
          13,
          13,
          3,
          15,
          23,
          15,
          5,
          100,
          64,
          22,
          24,
          27,
          35,
          17,
          24,
          17,
          40,
          0,
          25,
          32,
          58,
          25,
          28,
          24,
          50,
          60,
          27,
          0,
          49,
          0,
          18,
          50,
          35,
          40,
          50,
          30,
          57,
          25,
          100,
          30,
          65,
          30,
          27,
          27,
          22,
          100,
          60,
          0,
          45,
          25,
          4,
          40,
          2,
          50,
          0,
          60,
          0,
          92,
          60,
          42,
          100,
          0,
          24,
          30,
          0,
          0,
          100,
          42,
          0,
          100,
          22,
          50,
          100,
          100,
          80,
          80,
          0,
          100,
          26,
          7,
          1,
          0,
          20,
          0,
          2,
          6,
          4,
          10,
          0,
          0,
          0,
          5,
          10,
          0,
          1,
          0,
          20,
          1,
          14,
          5,
          9,
          14,
          0,
          25,
          0,
          0,
          0,
          0,
          1,
          30,
          10,
          34,
          60,
          30,
          50,
          95,
          46,
          30,
          100,
          0,
          30,
          85,
          80,
          50,
          48,
          21,
          30,
          0,
          22,
          88,
          55,
          72,
          10,
          40,
          100,
          75,
          50,
          25,
          63,
          30,
          75,
          0,
          50,
          70,
          50,
          30,
          20,
          0,
          50,
          75,
          10,
          13,
          30,
          70,
          60,
          0,
          0,
          20,
          0,
          0,
          0,
          0,
          1,
          0,
          0,
          0,
          0,
          0,
          5,
          10,
          3,
          0,
          0,
          0,
          0,
          0,
          50,
          65,
          0,
          25,
          35,
          30,
          20,
          58,
          0,
          22,
          50,
          0,
          15,
          33,
          17,
          0,
          20,
          90,
          30,
          60,
          0,
          25,
          45,
          30,
          50,
          10,
          70,
          95,
          59,
          93,
          25,
          50,
          50,
          0,
          46,
          54,
          0,
          50,
          25,
          75,
          75,
          100,
          100,
          20,
          0,
          25,
          30,
          100,
          0,
          0,
          37,
          100,
          50,
          0,
          2,
          0,
          0,
          0,
          0,
          0,
          45,
          0,
          0,
          30,
          0,
          0,
          0,
          30,
          30,
          100,
          0,
          60,
          0,
          1,
          0,
          4,
          0,
          0,
          0,
          3,
          0,
          0,
          0,
          0,
          1,
          0,
          0,
          5,
          8,
          5,
          3,
          0,
          2,
          10,
          0,
          0,
          0,
          8,
          2,
          0,
          2,
          11,
          0,
          0,
          0,
          0,
          100,
          0,
          22,
          7,
          19,
          0,
          1,
          0,
          26,
          47,
          0,
          15,
          35,
          0,
          56,
          38,
          23,
          7,
          60,
          100,
          0,
          2,
          0,
          0,
          78,
          2,
          60,
          0,
          0,
          37,
          54,
          46,
          37,
          35,
          0,
          27,
          27,
          37,
          67,
          65,
          0,
          0,
          29,
          32,
          13,
          33,
          0,
          15,
          0,
          100,
          72,
          16,
          52,
          60,
          0,
          100,
          45,
          16,
          31,
          0,
          0,
          61,
          30,
          0,
          2,
          4,
          0,
          0,
          7,
          0,
          1,
          0,
          0,
          0,
          0,
          0,
          1,
          0,
          9,
          1,
          6,
          0,
          0,
          0,
          0,
          2,
          0,
          0,
          4,
          0,
          0,
          0,
          30,
          0,
          0,
          0,
          0,
          0,
          0,
          0,
          0,
          0,
          10,
          0,
          0,
          30,
          0,
          3,
          1,
          10,
          0,
          56,
          0,
          30,
          53,
          20,
          8,
          0,
          20,
          0,
          45,
          15,
          82,
          50,
          23,
          0,
          23,
          4,
          0,
          18,
          26,
          20,
          0,
          18,
          1,
          66,
          2,
          0,
          2,
          0,
          3,
          13,
          49,
          0,
          48,
          0,
          0,
          0,
          31,
          10,
          16,
          0,
          17,
          40,
          0,
          7,
          21,
          1,
          15,
          4,
          0,
          0,
          77,
          7
         ],
         "xaxis": "x",
         "yaxis": "y"
        }
       ],
       "layout": {
        "barmode": "relative",
        "legend": {
         "tracegroupgap": 0
        },
        "margin": {
         "t": 60
        },
        "template": {
         "data": {
          "bar": [
           {
            "error_x": {
             "color": "#2a3f5f"
            },
            "error_y": {
             "color": "#2a3f5f"
            },
            "marker": {
             "line": {
              "color": "#E5ECF6",
              "width": 0.5
             },
             "pattern": {
              "fillmode": "overlay",
              "size": 10,
              "solidity": 0.2
             }
            },
            "type": "bar"
           }
          ],
          "barpolar": [
           {
            "marker": {
             "line": {
              "color": "#E5ECF6",
              "width": 0.5
             },
             "pattern": {
              "fillmode": "overlay",
              "size": 10,
              "solidity": 0.2
             }
            },
            "type": "barpolar"
           }
          ],
          "carpet": [
           {
            "aaxis": {
             "endlinecolor": "#2a3f5f",
             "gridcolor": "white",
             "linecolor": "white",
             "minorgridcolor": "white",
             "startlinecolor": "#2a3f5f"
            },
            "baxis": {
             "endlinecolor": "#2a3f5f",
             "gridcolor": "white",
             "linecolor": "white",
             "minorgridcolor": "white",
             "startlinecolor": "#2a3f5f"
            },
            "type": "carpet"
           }
          ],
          "choropleth": [
           {
            "colorbar": {
             "outlinewidth": 0,
             "ticks": ""
            },
            "type": "choropleth"
           }
          ],
          "contour": [
           {
            "colorbar": {
             "outlinewidth": 0,
             "ticks": ""
            },
            "colorscale": [
             [
              0,
              "#0d0887"
             ],
             [
              0.1111111111111111,
              "#46039f"
             ],
             [
              0.2222222222222222,
              "#7201a8"
             ],
             [
              0.3333333333333333,
              "#9c179e"
             ],
             [
              0.4444444444444444,
              "#bd3786"
             ],
             [
              0.5555555555555556,
              "#d8576b"
             ],
             [
              0.6666666666666666,
              "#ed7953"
             ],
             [
              0.7777777777777778,
              "#fb9f3a"
             ],
             [
              0.8888888888888888,
              "#fdca26"
             ],
             [
              1,
              "#f0f921"
             ]
            ],
            "type": "contour"
           }
          ],
          "contourcarpet": [
           {
            "colorbar": {
             "outlinewidth": 0,
             "ticks": ""
            },
            "type": "contourcarpet"
           }
          ],
          "heatmap": [
           {
            "colorbar": {
             "outlinewidth": 0,
             "ticks": ""
            },
            "colorscale": [
             [
              0,
              "#0d0887"
             ],
             [
              0.1111111111111111,
              "#46039f"
             ],
             [
              0.2222222222222222,
              "#7201a8"
             ],
             [
              0.3333333333333333,
              "#9c179e"
             ],
             [
              0.4444444444444444,
              "#bd3786"
             ],
             [
              0.5555555555555556,
              "#d8576b"
             ],
             [
              0.6666666666666666,
              "#ed7953"
             ],
             [
              0.7777777777777778,
              "#fb9f3a"
             ],
             [
              0.8888888888888888,
              "#fdca26"
             ],
             [
              1,
              "#f0f921"
             ]
            ],
            "type": "heatmap"
           }
          ],
          "heatmapgl": [
           {
            "colorbar": {
             "outlinewidth": 0,
             "ticks": ""
            },
            "colorscale": [
             [
              0,
              "#0d0887"
             ],
             [
              0.1111111111111111,
              "#46039f"
             ],
             [
              0.2222222222222222,
              "#7201a8"
             ],
             [
              0.3333333333333333,
              "#9c179e"
             ],
             [
              0.4444444444444444,
              "#bd3786"
             ],
             [
              0.5555555555555556,
              "#d8576b"
             ],
             [
              0.6666666666666666,
              "#ed7953"
             ],
             [
              0.7777777777777778,
              "#fb9f3a"
             ],
             [
              0.8888888888888888,
              "#fdca26"
             ],
             [
              1,
              "#f0f921"
             ]
            ],
            "type": "heatmapgl"
           }
          ],
          "histogram": [
           {
            "marker": {
             "pattern": {
              "fillmode": "overlay",
              "size": 10,
              "solidity": 0.2
             }
            },
            "type": "histogram"
           }
          ],
          "histogram2d": [
           {
            "colorbar": {
             "outlinewidth": 0,
             "ticks": ""
            },
            "colorscale": [
             [
              0,
              "#0d0887"
             ],
             [
              0.1111111111111111,
              "#46039f"
             ],
             [
              0.2222222222222222,
              "#7201a8"
             ],
             [
              0.3333333333333333,
              "#9c179e"
             ],
             [
              0.4444444444444444,
              "#bd3786"
             ],
             [
              0.5555555555555556,
              "#d8576b"
             ],
             [
              0.6666666666666666,
              "#ed7953"
             ],
             [
              0.7777777777777778,
              "#fb9f3a"
             ],
             [
              0.8888888888888888,
              "#fdca26"
             ],
             [
              1,
              "#f0f921"
             ]
            ],
            "type": "histogram2d"
           }
          ],
          "histogram2dcontour": [
           {
            "colorbar": {
             "outlinewidth": 0,
             "ticks": ""
            },
            "colorscale": [
             [
              0,
              "#0d0887"
             ],
             [
              0.1111111111111111,
              "#46039f"
             ],
             [
              0.2222222222222222,
              "#7201a8"
             ],
             [
              0.3333333333333333,
              "#9c179e"
             ],
             [
              0.4444444444444444,
              "#bd3786"
             ],
             [
              0.5555555555555556,
              "#d8576b"
             ],
             [
              0.6666666666666666,
              "#ed7953"
             ],
             [
              0.7777777777777778,
              "#fb9f3a"
             ],
             [
              0.8888888888888888,
              "#fdca26"
             ],
             [
              1,
              "#f0f921"
             ]
            ],
            "type": "histogram2dcontour"
           }
          ],
          "mesh3d": [
           {
            "colorbar": {
             "outlinewidth": 0,
             "ticks": ""
            },
            "type": "mesh3d"
           }
          ],
          "parcoords": [
           {
            "line": {
             "colorbar": {
              "outlinewidth": 0,
              "ticks": ""
             }
            },
            "type": "parcoords"
           }
          ],
          "pie": [
           {
            "automargin": true,
            "type": "pie"
           }
          ],
          "scatter": [
           {
            "fillpattern": {
             "fillmode": "overlay",
             "size": 10,
             "solidity": 0.2
            },
            "type": "scatter"
           }
          ],
          "scatter3d": [
           {
            "line": {
             "colorbar": {
              "outlinewidth": 0,
              "ticks": ""
             }
            },
            "marker": {
             "colorbar": {
              "outlinewidth": 0,
              "ticks": ""
             }
            },
            "type": "scatter3d"
           }
          ],
          "scattercarpet": [
           {
            "marker": {
             "colorbar": {
              "outlinewidth": 0,
              "ticks": ""
             }
            },
            "type": "scattercarpet"
           }
          ],
          "scattergeo": [
           {
            "marker": {
             "colorbar": {
              "outlinewidth": 0,
              "ticks": ""
             }
            },
            "type": "scattergeo"
           }
          ],
          "scattergl": [
           {
            "marker": {
             "colorbar": {
              "outlinewidth": 0,
              "ticks": ""
             }
            },
            "type": "scattergl"
           }
          ],
          "scattermapbox": [
           {
            "marker": {
             "colorbar": {
              "outlinewidth": 0,
              "ticks": ""
             }
            },
            "type": "scattermapbox"
           }
          ],
          "scatterpolar": [
           {
            "marker": {
             "colorbar": {
              "outlinewidth": 0,
              "ticks": ""
             }
            },
            "type": "scatterpolar"
           }
          ],
          "scatterpolargl": [
           {
            "marker": {
             "colorbar": {
              "outlinewidth": 0,
              "ticks": ""
             }
            },
            "type": "scatterpolargl"
           }
          ],
          "scatterternary": [
           {
            "marker": {
             "colorbar": {
              "outlinewidth": 0,
              "ticks": ""
             }
            },
            "type": "scatterternary"
           }
          ],
          "surface": [
           {
            "colorbar": {
             "outlinewidth": 0,
             "ticks": ""
            },
            "colorscale": [
             [
              0,
              "#0d0887"
             ],
             [
              0.1111111111111111,
              "#46039f"
             ],
             [
              0.2222222222222222,
              "#7201a8"
             ],
             [
              0.3333333333333333,
              "#9c179e"
             ],
             [
              0.4444444444444444,
              "#bd3786"
             ],
             [
              0.5555555555555556,
              "#d8576b"
             ],
             [
              0.6666666666666666,
              "#ed7953"
             ],
             [
              0.7777777777777778,
              "#fb9f3a"
             ],
             [
              0.8888888888888888,
              "#fdca26"
             ],
             [
              1,
              "#f0f921"
             ]
            ],
            "type": "surface"
           }
          ],
          "table": [
           {
            "cells": {
             "fill": {
              "color": "#EBF0F8"
             },
             "line": {
              "color": "white"
             }
            },
            "header": {
             "fill": {
              "color": "#C8D4E3"
             },
             "line": {
              "color": "white"
             }
            },
            "type": "table"
           }
          ]
         },
         "layout": {
          "annotationdefaults": {
           "arrowcolor": "#2a3f5f",
           "arrowhead": 0,
           "arrowwidth": 1
          },
          "autotypenumbers": "strict",
          "coloraxis": {
           "colorbar": {
            "outlinewidth": 0,
            "ticks": ""
           }
          },
          "colorscale": {
           "diverging": [
            [
             0,
             "#8e0152"
            ],
            [
             0.1,
             "#c51b7d"
            ],
            [
             0.2,
             "#de77ae"
            ],
            [
             0.3,
             "#f1b6da"
            ],
            [
             0.4,
             "#fde0ef"
            ],
            [
             0.5,
             "#f7f7f7"
            ],
            [
             0.6,
             "#e6f5d0"
            ],
            [
             0.7,
             "#b8e186"
            ],
            [
             0.8,
             "#7fbc41"
            ],
            [
             0.9,
             "#4d9221"
            ],
            [
             1,
             "#276419"
            ]
           ],
           "sequential": [
            [
             0,
             "#0d0887"
            ],
            [
             0.1111111111111111,
             "#46039f"
            ],
            [
             0.2222222222222222,
             "#7201a8"
            ],
            [
             0.3333333333333333,
             "#9c179e"
            ],
            [
             0.4444444444444444,
             "#bd3786"
            ],
            [
             0.5555555555555556,
             "#d8576b"
            ],
            [
             0.6666666666666666,
             "#ed7953"
            ],
            [
             0.7777777777777778,
             "#fb9f3a"
            ],
            [
             0.8888888888888888,
             "#fdca26"
            ],
            [
             1,
             "#f0f921"
            ]
           ],
           "sequentialminus": [
            [
             0,
             "#0d0887"
            ],
            [
             0.1111111111111111,
             "#46039f"
            ],
            [
             0.2222222222222222,
             "#7201a8"
            ],
            [
             0.3333333333333333,
             "#9c179e"
            ],
            [
             0.4444444444444444,
             "#bd3786"
            ],
            [
             0.5555555555555556,
             "#d8576b"
            ],
            [
             0.6666666666666666,
             "#ed7953"
            ],
            [
             0.7777777777777778,
             "#fb9f3a"
            ],
            [
             0.8888888888888888,
             "#fdca26"
            ],
            [
             1,
             "#f0f921"
            ]
           ]
          },
          "colorway": [
           "#636efa",
           "#EF553B",
           "#00cc96",
           "#ab63fa",
           "#FFA15A",
           "#19d3f3",
           "#FF6692",
           "#B6E880",
           "#FF97FF",
           "#FECB52"
          ],
          "font": {
           "color": "#2a3f5f"
          },
          "geo": {
           "bgcolor": "white",
           "lakecolor": "white",
           "landcolor": "#E5ECF6",
           "showlakes": true,
           "showland": true,
           "subunitcolor": "white"
          },
          "hoverlabel": {
           "align": "left"
          },
          "hovermode": "closest",
          "mapbox": {
           "style": "light"
          },
          "paper_bgcolor": "white",
          "plot_bgcolor": "#E5ECF6",
          "polar": {
           "angularaxis": {
            "gridcolor": "white",
            "linecolor": "white",
            "ticks": ""
           },
           "bgcolor": "#E5ECF6",
           "radialaxis": {
            "gridcolor": "white",
            "linecolor": "white",
            "ticks": ""
           }
          },
          "scene": {
           "xaxis": {
            "backgroundcolor": "#E5ECF6",
            "gridcolor": "white",
            "gridwidth": 2,
            "linecolor": "white",
            "showbackground": true,
            "ticks": "",
            "zerolinecolor": "white"
           },
           "yaxis": {
            "backgroundcolor": "#E5ECF6",
            "gridcolor": "white",
            "gridwidth": 2,
            "linecolor": "white",
            "showbackground": true,
            "ticks": "",
            "zerolinecolor": "white"
           },
           "zaxis": {
            "backgroundcolor": "#E5ECF6",
            "gridcolor": "white",
            "gridwidth": 2,
            "linecolor": "white",
            "showbackground": true,
            "ticks": "",
            "zerolinecolor": "white"
           }
          },
          "shapedefaults": {
           "line": {
            "color": "#2a3f5f"
           }
          },
          "ternary": {
           "aaxis": {
            "gridcolor": "white",
            "linecolor": "white",
            "ticks": ""
           },
           "baxis": {
            "gridcolor": "white",
            "linecolor": "white",
            "ticks": ""
           },
           "bgcolor": "#E5ECF6",
           "caxis": {
            "gridcolor": "white",
            "linecolor": "white",
            "ticks": ""
           }
          },
          "title": {
           "x": 0.05
          },
          "xaxis": {
           "automargin": true,
           "gridcolor": "white",
           "linecolor": "white",
           "ticks": "",
           "title": {
            "standoff": 15
           },
           "zerolinecolor": "white",
           "zerolinewidth": 2
          },
          "yaxis": {
           "automargin": true,
           "gridcolor": "white",
           "linecolor": "white",
           "ticks": "",
           "title": {
            "standoff": 15
           },
           "zerolinecolor": "white",
           "zerolinewidth": 2
          }
         }
        },
        "xaxis": {
         "anchor": "y",
         "domain": [
          0,
          1
         ],
         "title": {
          "text": "BIRDS_NO"
         }
        },
        "yaxis": {
         "anchor": "x",
         "domain": [
          0,
          1
         ],
         "title": {
          "text": "count"
         }
        }
       }
      }
     },
     "metadata": {},
     "output_type": "display_data"
    },
    {
     "data": {
      "application/vnd.plotly.v1+json": {
       "config": {
        "plotlyServerURL": "https://plot.ly"
       },
       "data": [
        {
         "alignmentgroup": "True",
         "bingroup": "x",
         "hovertemplate": "CHANGELL_FT=%{x}<br>count=%{y}<extra></extra>",
         "legendgroup": "",
         "marker": {
          "color": "#636efa",
          "pattern": {
           "shape": ""
          }
         },
         "name": "",
         "offsetgroup": "",
         "orientation": "v",
         "showlegend": false,
         "type": "histogram",
         "x": [
          -0.131,
          -0.014,
          0.125,
          -0.026,
          0.016,
          0.082,
          0.118,
          -0.282,
          0.296,
          -0.23,
          -0.013,
          0.069,
          -0.036,
          0,
          -0.046,
          0.118,
          0.033,
          -0.296,
          0.22,
          0.003,
          -0.095,
          -0.131,
          0.348,
          -0.253,
          0.033,
          0.22,
          -0.053,
          -0.065,
          0.059,
          0.088,
          0.039,
          -0.282,
          0.213,
          0.213,
          -0.147,
          0.121,
          -0.115,
          0.181,
          -0.207,
          0.453,
          -0.532,
          -0.013,
          0.049,
          0.03,
          -0.138,
          0.755,
          -0.627,
          -0.016,
          0.013,
          -0.105,
          0.059,
          -0.053,
          0.02,
          0.358,
          -0.574,
          0.124,
          -0.069,
          -0.026,
          0.518,
          -0.351,
          -0.164,
          0.41,
          -0.232,
          -0.069,
          0.085,
          0.052,
          -0.111,
          -0.161,
          0.286,
          -0.184,
          -0.141,
          0.056,
          -0.05,
          0.194,
          0.308,
          -0.187,
          -0.019,
          -0.033,
          0.164,
          -0.066,
          0.178,
          -0.155,
          0.138,
          -0.269,
          0.223,
          -0.229,
          0.167,
          -0.433,
          0.177,
          0.062,
          -0.049,
          0.076,
          0.124,
          -0.144,
          -0.121,
          -0.105,
          -0.004,
          -0.003,
          0,
          0.194,
          -0.007,
          -0.203,
          -0.25,
          0.148,
          0.089,
          -0.132,
          -0.187,
          0.374,
          0.023,
          0.085,
          -0.023,
          0.135,
          0.252,
          -0.328,
          0.181,
          0.039,
          0.076,
          -0.197,
          0.042,
          -0.029,
          -0.541,
          0.741,
          0.289,
          -0.22,
          0.312,
          -0.138,
          0.01,
          0.115,
          -0.003,
          -0.269,
          0.128,
          0.059,
          0,
          0.095,
          0.072,
          -0.082,
          -0.062,
          0.197,
          0.069,
          0,
          -0.01,
          -0.138,
          0,
          -0.046,
          0.016,
          0.062,
          -0.154,
          -0.154,
          0.41,
          -0.384,
          -0.239,
          0.124,
          -0.184,
          0.102,
          -0.023,
          0.253,
          -0.154,
          -0.063,
          0.174,
          -0.325,
          0.164,
          0.079,
          -0.145,
          0.501,
          -0.633,
          -0.026,
          0.702,
          -1.04,
          0.443,
          0.03,
          -0.063,
          0.007,
          -0.027,
          -0.131,
          0.148,
          -0.443,
          0.216,
          0.059,
          0.014,
          0.423,
          -0.197,
          -0.151,
          0.473,
          -0.43,
          -0.043,
          0.249,
          -0.426,
          0.223,
          -0.151,
          -0.138,
          0.223,
          -0.19,
          -0.02,
          0.128,
          0.092,
          -0.518,
          0.312,
          0.213,
          -0.443,
          0.305,
          0.049,
          -0.098,
          0.003,
          -0.085,
          0.341,
          -0.39,
          -0.102,
          0.171,
          0.003,
          0.013,
          0.128,
          0.141,
          -0.102,
          -0.137,
          0.042,
          0.102,
          0.193,
          -0.21,
          -0.124,
          -0.217,
          0.154,
          -0.167,
          0.017,
          0.049,
          -0.056,
          0.056,
          -0.02,
          0.492,
          -0.571,
          0.158,
          -0.056,
          -0.128,
          -0.239,
          0.328,
          0.009,
          -0.131,
          0.013,
          -0.023,
          0.089,
          -0.243,
          0.181,
          -0.027,
          -0.114,
          0.144,
          -0.036,
          0.105,
          -0.22,
          0.18,
          -0.079,
          0.364,
          -0.167,
          -0.239,
          0.101,
          0.492,
          -0.449,
          0.22,
          -0.223,
          -0.338,
          0.364,
          -0.269,
          0.069,
          0.132,
          -0.157,
          0.045,
          0.073,
          -0.016,
          -0.092,
          0.335,
          -0.112,
          0.223,
          -0.236,
          -0.01,
          -0.026,
          0.134,
          -0.206,
          0.265,
          -0.226,
          -0.207,
          0.086,
          0.275,
          -0.141,
          -0.036,
          0.112,
          -0.25,
          -0.016,
          0.197,
          -0.155,
          -0.039,
          0.069,
          0.407,
          -0.423,
          -0.115,
          0.059,
          0.246,
          -0.069,
          0.174,
          0.298,
          -0.511,
          -0.04,
          -0.049,
          0.259,
          -0.134,
          -0.099,
          -0.095,
          0.01,
          0.003,
          0.076,
          -0.125,
          0.371,
          -0.371,
          0.2,
          0.026,
          -0.082,
          0.24,
          0.039,
          -0.167,
          -0.03,
          -0.029,
          -0.109,
          0.187,
          -0.16,
          -0.053,
          0.19,
          0.007,
          -0.171,
          -0.023,
          -0.187,
          0.151,
          -0.16,
          0.151,
          0.059,
          -0.082,
          -0.059,
          -0.086,
          0.791,
          -0.82,
          0.066,
          -0.01,
          -0.089,
          0.128,
          -0.039,
          0.102,
          -0.302,
          0.21,
          -0.076,
          -0.252,
          0.456,
          0.069,
          -0.368,
          -0.108,
          0.184,
          0.301,
          -0.597,
          0,
          0.125,
          -0.098,
          -0.043,
          -0.02,
          0.263,
          -0.158,
          -0.21,
          -0.528,
          0.121,
          -0.075,
          -0.102,
          0.007,
          0.078,
          -0.052,
          -0.079,
          0.085,
          -0.023,
          0.063,
          -0.046,
          0.439,
          0.076,
          -0.328,
          -0.174,
          -0.2,
          0.046,
          0.01,
          -0.283,
          0.227,
          0.193,
          0.135,
          -0.315,
          0.092,
          0.016,
          0.108,
          0.102,
          -0.315,
          -0.003,
          -0.292,
          0.249,
          0.364,
          -0.203,
          -0.203,
          0.078,
          0.325,
          -0.19,
          -0.108,
          0.242,
          -0.029,
          -0.184,
          0.089,
          0.042,
          -0.351,
          0.25,
          0.065,
          -0.036,
          -0.141,
          -0.072,
          0.121,
          -0.006,
          -0.059,
          0.128,
          -0.01,
          0.046,
          -0.282,
          0.056,
          -0.02,
          -0.328,
          0.443,
          -0.197,
          0.193,
          -0.003,
          -0.187,
          0.194,
          -0.151,
          0.029,
          -0.088,
          0.403,
          -0.351,
          0,
          0.066,
          -0.003,
          -0.119,
          0.092,
          0.217,
          -0.325,
          -0.079,
          0.033,
          -0.062,
          0,
          0,
          -0.013,
          -0.213,
          0.167,
          0,
          0,
          -0.292,
          0,
          0,
          -0.279,
          -0.308,
          0.134,
          -0.013,
          -0.069,
          0,
          0,
          -0.41,
          0.298,
          -0.026,
          0.092
         ],
         "xaxis": "x",
         "yaxis": "y"
        }
       ],
       "layout": {
        "barmode": "relative",
        "legend": {
         "tracegroupgap": 0
        },
        "margin": {
         "t": 60
        },
        "template": {
         "data": {
          "bar": [
           {
            "error_x": {
             "color": "#2a3f5f"
            },
            "error_y": {
             "color": "#2a3f5f"
            },
            "marker": {
             "line": {
              "color": "#E5ECF6",
              "width": 0.5
             },
             "pattern": {
              "fillmode": "overlay",
              "size": 10,
              "solidity": 0.2
             }
            },
            "type": "bar"
           }
          ],
          "barpolar": [
           {
            "marker": {
             "line": {
              "color": "#E5ECF6",
              "width": 0.5
             },
             "pattern": {
              "fillmode": "overlay",
              "size": 10,
              "solidity": 0.2
             }
            },
            "type": "barpolar"
           }
          ],
          "carpet": [
           {
            "aaxis": {
             "endlinecolor": "#2a3f5f",
             "gridcolor": "white",
             "linecolor": "white",
             "minorgridcolor": "white",
             "startlinecolor": "#2a3f5f"
            },
            "baxis": {
             "endlinecolor": "#2a3f5f",
             "gridcolor": "white",
             "linecolor": "white",
             "minorgridcolor": "white",
             "startlinecolor": "#2a3f5f"
            },
            "type": "carpet"
           }
          ],
          "choropleth": [
           {
            "colorbar": {
             "outlinewidth": 0,
             "ticks": ""
            },
            "type": "choropleth"
           }
          ],
          "contour": [
           {
            "colorbar": {
             "outlinewidth": 0,
             "ticks": ""
            },
            "colorscale": [
             [
              0,
              "#0d0887"
             ],
             [
              0.1111111111111111,
              "#46039f"
             ],
             [
              0.2222222222222222,
              "#7201a8"
             ],
             [
              0.3333333333333333,
              "#9c179e"
             ],
             [
              0.4444444444444444,
              "#bd3786"
             ],
             [
              0.5555555555555556,
              "#d8576b"
             ],
             [
              0.6666666666666666,
              "#ed7953"
             ],
             [
              0.7777777777777778,
              "#fb9f3a"
             ],
             [
              0.8888888888888888,
              "#fdca26"
             ],
             [
              1,
              "#f0f921"
             ]
            ],
            "type": "contour"
           }
          ],
          "contourcarpet": [
           {
            "colorbar": {
             "outlinewidth": 0,
             "ticks": ""
            },
            "type": "contourcarpet"
           }
          ],
          "heatmap": [
           {
            "colorbar": {
             "outlinewidth": 0,
             "ticks": ""
            },
            "colorscale": [
             [
              0,
              "#0d0887"
             ],
             [
              0.1111111111111111,
              "#46039f"
             ],
             [
              0.2222222222222222,
              "#7201a8"
             ],
             [
              0.3333333333333333,
              "#9c179e"
             ],
             [
              0.4444444444444444,
              "#bd3786"
             ],
             [
              0.5555555555555556,
              "#d8576b"
             ],
             [
              0.6666666666666666,
              "#ed7953"
             ],
             [
              0.7777777777777778,
              "#fb9f3a"
             ],
             [
              0.8888888888888888,
              "#fdca26"
             ],
             [
              1,
              "#f0f921"
             ]
            ],
            "type": "heatmap"
           }
          ],
          "heatmapgl": [
           {
            "colorbar": {
             "outlinewidth": 0,
             "ticks": ""
            },
            "colorscale": [
             [
              0,
              "#0d0887"
             ],
             [
              0.1111111111111111,
              "#46039f"
             ],
             [
              0.2222222222222222,
              "#7201a8"
             ],
             [
              0.3333333333333333,
              "#9c179e"
             ],
             [
              0.4444444444444444,
              "#bd3786"
             ],
             [
              0.5555555555555556,
              "#d8576b"
             ],
             [
              0.6666666666666666,
              "#ed7953"
             ],
             [
              0.7777777777777778,
              "#fb9f3a"
             ],
             [
              0.8888888888888888,
              "#fdca26"
             ],
             [
              1,
              "#f0f921"
             ]
            ],
            "type": "heatmapgl"
           }
          ],
          "histogram": [
           {
            "marker": {
             "pattern": {
              "fillmode": "overlay",
              "size": 10,
              "solidity": 0.2
             }
            },
            "type": "histogram"
           }
          ],
          "histogram2d": [
           {
            "colorbar": {
             "outlinewidth": 0,
             "ticks": ""
            },
            "colorscale": [
             [
              0,
              "#0d0887"
             ],
             [
              0.1111111111111111,
              "#46039f"
             ],
             [
              0.2222222222222222,
              "#7201a8"
             ],
             [
              0.3333333333333333,
              "#9c179e"
             ],
             [
              0.4444444444444444,
              "#bd3786"
             ],
             [
              0.5555555555555556,
              "#d8576b"
             ],
             [
              0.6666666666666666,
              "#ed7953"
             ],
             [
              0.7777777777777778,
              "#fb9f3a"
             ],
             [
              0.8888888888888888,
              "#fdca26"
             ],
             [
              1,
              "#f0f921"
             ]
            ],
            "type": "histogram2d"
           }
          ],
          "histogram2dcontour": [
           {
            "colorbar": {
             "outlinewidth": 0,
             "ticks": ""
            },
            "colorscale": [
             [
              0,
              "#0d0887"
             ],
             [
              0.1111111111111111,
              "#46039f"
             ],
             [
              0.2222222222222222,
              "#7201a8"
             ],
             [
              0.3333333333333333,
              "#9c179e"
             ],
             [
              0.4444444444444444,
              "#bd3786"
             ],
             [
              0.5555555555555556,
              "#d8576b"
             ],
             [
              0.6666666666666666,
              "#ed7953"
             ],
             [
              0.7777777777777778,
              "#fb9f3a"
             ],
             [
              0.8888888888888888,
              "#fdca26"
             ],
             [
              1,
              "#f0f921"
             ]
            ],
            "type": "histogram2dcontour"
           }
          ],
          "mesh3d": [
           {
            "colorbar": {
             "outlinewidth": 0,
             "ticks": ""
            },
            "type": "mesh3d"
           }
          ],
          "parcoords": [
           {
            "line": {
             "colorbar": {
              "outlinewidth": 0,
              "ticks": ""
             }
            },
            "type": "parcoords"
           }
          ],
          "pie": [
           {
            "automargin": true,
            "type": "pie"
           }
          ],
          "scatter": [
           {
            "fillpattern": {
             "fillmode": "overlay",
             "size": 10,
             "solidity": 0.2
            },
            "type": "scatter"
           }
          ],
          "scatter3d": [
           {
            "line": {
             "colorbar": {
              "outlinewidth": 0,
              "ticks": ""
             }
            },
            "marker": {
             "colorbar": {
              "outlinewidth": 0,
              "ticks": ""
             }
            },
            "type": "scatter3d"
           }
          ],
          "scattercarpet": [
           {
            "marker": {
             "colorbar": {
              "outlinewidth": 0,
              "ticks": ""
             }
            },
            "type": "scattercarpet"
           }
          ],
          "scattergeo": [
           {
            "marker": {
             "colorbar": {
              "outlinewidth": 0,
              "ticks": ""
             }
            },
            "type": "scattergeo"
           }
          ],
          "scattergl": [
           {
            "marker": {
             "colorbar": {
              "outlinewidth": 0,
              "ticks": ""
             }
            },
            "type": "scattergl"
           }
          ],
          "scattermapbox": [
           {
            "marker": {
             "colorbar": {
              "outlinewidth": 0,
              "ticks": ""
             }
            },
            "type": "scattermapbox"
           }
          ],
          "scatterpolar": [
           {
            "marker": {
             "colorbar": {
              "outlinewidth": 0,
              "ticks": ""
             }
            },
            "type": "scatterpolar"
           }
          ],
          "scatterpolargl": [
           {
            "marker": {
             "colorbar": {
              "outlinewidth": 0,
              "ticks": ""
             }
            },
            "type": "scatterpolargl"
           }
          ],
          "scatterternary": [
           {
            "marker": {
             "colorbar": {
              "outlinewidth": 0,
              "ticks": ""
             }
            },
            "type": "scatterternary"
           }
          ],
          "surface": [
           {
            "colorbar": {
             "outlinewidth": 0,
             "ticks": ""
            },
            "colorscale": [
             [
              0,
              "#0d0887"
             ],
             [
              0.1111111111111111,
              "#46039f"
             ],
             [
              0.2222222222222222,
              "#7201a8"
             ],
             [
              0.3333333333333333,
              "#9c179e"
             ],
             [
              0.4444444444444444,
              "#bd3786"
             ],
             [
              0.5555555555555556,
              "#d8576b"
             ],
             [
              0.6666666666666666,
              "#ed7953"
             ],
             [
              0.7777777777777778,
              "#fb9f3a"
             ],
             [
              0.8888888888888888,
              "#fdca26"
             ],
             [
              1,
              "#f0f921"
             ]
            ],
            "type": "surface"
           }
          ],
          "table": [
           {
            "cells": {
             "fill": {
              "color": "#EBF0F8"
             },
             "line": {
              "color": "white"
             }
            },
            "header": {
             "fill": {
              "color": "#C8D4E3"
             },
             "line": {
              "color": "white"
             }
            },
            "type": "table"
           }
          ]
         },
         "layout": {
          "annotationdefaults": {
           "arrowcolor": "#2a3f5f",
           "arrowhead": 0,
           "arrowwidth": 1
          },
          "autotypenumbers": "strict",
          "coloraxis": {
           "colorbar": {
            "outlinewidth": 0,
            "ticks": ""
           }
          },
          "colorscale": {
           "diverging": [
            [
             0,
             "#8e0152"
            ],
            [
             0.1,
             "#c51b7d"
            ],
            [
             0.2,
             "#de77ae"
            ],
            [
             0.3,
             "#f1b6da"
            ],
            [
             0.4,
             "#fde0ef"
            ],
            [
             0.5,
             "#f7f7f7"
            ],
            [
             0.6,
             "#e6f5d0"
            ],
            [
             0.7,
             "#b8e186"
            ],
            [
             0.8,
             "#7fbc41"
            ],
            [
             0.9,
             "#4d9221"
            ],
            [
             1,
             "#276419"
            ]
           ],
           "sequential": [
            [
             0,
             "#0d0887"
            ],
            [
             0.1111111111111111,
             "#46039f"
            ],
            [
             0.2222222222222222,
             "#7201a8"
            ],
            [
             0.3333333333333333,
             "#9c179e"
            ],
            [
             0.4444444444444444,
             "#bd3786"
            ],
            [
             0.5555555555555556,
             "#d8576b"
            ],
            [
             0.6666666666666666,
             "#ed7953"
            ],
            [
             0.7777777777777778,
             "#fb9f3a"
            ],
            [
             0.8888888888888888,
             "#fdca26"
            ],
            [
             1,
             "#f0f921"
            ]
           ],
           "sequentialminus": [
            [
             0,
             "#0d0887"
            ],
            [
             0.1111111111111111,
             "#46039f"
            ],
            [
             0.2222222222222222,
             "#7201a8"
            ],
            [
             0.3333333333333333,
             "#9c179e"
            ],
            [
             0.4444444444444444,
             "#bd3786"
            ],
            [
             0.5555555555555556,
             "#d8576b"
            ],
            [
             0.6666666666666666,
             "#ed7953"
            ],
            [
             0.7777777777777778,
             "#fb9f3a"
            ],
            [
             0.8888888888888888,
             "#fdca26"
            ],
            [
             1,
             "#f0f921"
            ]
           ]
          },
          "colorway": [
           "#636efa",
           "#EF553B",
           "#00cc96",
           "#ab63fa",
           "#FFA15A",
           "#19d3f3",
           "#FF6692",
           "#B6E880",
           "#FF97FF",
           "#FECB52"
          ],
          "font": {
           "color": "#2a3f5f"
          },
          "geo": {
           "bgcolor": "white",
           "lakecolor": "white",
           "landcolor": "#E5ECF6",
           "showlakes": true,
           "showland": true,
           "subunitcolor": "white"
          },
          "hoverlabel": {
           "align": "left"
          },
          "hovermode": "closest",
          "mapbox": {
           "style": "light"
          },
          "paper_bgcolor": "white",
          "plot_bgcolor": "#E5ECF6",
          "polar": {
           "angularaxis": {
            "gridcolor": "white",
            "linecolor": "white",
            "ticks": ""
           },
           "bgcolor": "#E5ECF6",
           "radialaxis": {
            "gridcolor": "white",
            "linecolor": "white",
            "ticks": ""
           }
          },
          "scene": {
           "xaxis": {
            "backgroundcolor": "#E5ECF6",
            "gridcolor": "white",
            "gridwidth": 2,
            "linecolor": "white",
            "showbackground": true,
            "ticks": "",
            "zerolinecolor": "white"
           },
           "yaxis": {
            "backgroundcolor": "#E5ECF6",
            "gridcolor": "white",
            "gridwidth": 2,
            "linecolor": "white",
            "showbackground": true,
            "ticks": "",
            "zerolinecolor": "white"
           },
           "zaxis": {
            "backgroundcolor": "#E5ECF6",
            "gridcolor": "white",
            "gridwidth": 2,
            "linecolor": "white",
            "showbackground": true,
            "ticks": "",
            "zerolinecolor": "white"
           }
          },
          "shapedefaults": {
           "line": {
            "color": "#2a3f5f"
           }
          },
          "ternary": {
           "aaxis": {
            "gridcolor": "white",
            "linecolor": "white",
            "ticks": ""
           },
           "baxis": {
            "gridcolor": "white",
            "linecolor": "white",
            "ticks": ""
           },
           "bgcolor": "#E5ECF6",
           "caxis": {
            "gridcolor": "white",
            "linecolor": "white",
            "ticks": ""
           }
          },
          "title": {
           "x": 0.05
          },
          "xaxis": {
           "automargin": true,
           "gridcolor": "white",
           "linecolor": "white",
           "ticks": "",
           "title": {
            "standoff": 15
           },
           "zerolinecolor": "white",
           "zerolinewidth": 2
          },
          "yaxis": {
           "automargin": true,
           "gridcolor": "white",
           "linecolor": "white",
           "ticks": "",
           "title": {
            "standoff": 15
           },
           "zerolinecolor": "white",
           "zerolinewidth": 2
          }
         }
        },
        "xaxis": {
         "anchor": "y",
         "domain": [
          0,
          1
         ],
         "title": {
          "text": "CHANGELL_FT"
         }
        },
        "yaxis": {
         "anchor": "x",
         "domain": [
          0,
          1
         ],
         "title": {
          "text": "count"
         }
        }
       }
      }
     },
     "metadata": {},
     "output_type": "display_data"
    },
    {
     "data": {
      "application/vnd.plotly.v1+json": {
       "config": {
        "plotlyServerURL": "https://plot.ly"
       },
       "data": [
        {
         "alignmentgroup": "True",
         "bingroup": "x",
         "hovertemplate": "AirportWindSpInst_mph=%{x}<br>count=%{y}<extra></extra>",
         "legendgroup": "",
         "marker": {
          "color": "#636efa",
          "pattern": {
           "shape": ""
          }
         },
         "name": "",
         "offsetgroup": "",
         "orientation": "v",
         "showlegend": false,
         "type": "histogram",
         "x": [
          6,
          0,
          6,
          14,
          14,
          11,
          6,
          5,
          6,
          0,
          9,
          7,
          6,
          6,
          11,
          6,
          9,
          6,
          10,
          8,
          6,
          8,
          0,
          5,
          3,
          8,
          14,
          0,
          7,
          3,
          8,
          22,
          8,
          6,
          8,
          3,
          10,
          10,
          14,
          6,
          5,
          0,
          5,
          16,
          6,
          11,
          7,
          8,
          6,
          5,
          8,
          0,
          7,
          7,
          14,
          7,
          9,
          7,
          9,
          7,
          6,
          10,
          8,
          6,
          0,
          8,
          3,
          7,
          5,
          3,
          0,
          10,
          14,
          13,
          14,
          14,
          9,
          10,
          3,
          0,
          13,
          6,
          5,
          11,
          8,
          9,
          10,
          7,
          16,
          14,
          9,
          13,
          8,
          7,
          9,
          9,
          13,
          7,
          14,
          11,
          15,
          14,
          5,
          9,
          9,
          16,
          14,
          5,
          6,
          11,
          0,
          9,
          10,
          5,
          9,
          10,
          13,
          3,
          8,
          11,
          10,
          6,
          8,
          10,
          11,
          8,
          5,
          8,
          9,
          10,
          0,
          0,
          5,
          15,
          15,
          5,
          14,
          10,
          5,
          7,
          9,
          9,
          7,
          10,
          0,
          7,
          8,
          10,
          5,
          7,
          6,
          7,
          0,
          8,
          7,
          9,
          9,
          9,
          14,
          0,
          7,
          7,
          15,
          13,
          0,
          0,
          9,
          5,
          7,
          6,
          13,
          10,
          5,
          5,
          0,
          6,
          8,
          5,
          3,
          10,
          16,
          13,
          14,
          8,
          7,
          18,
          15,
          9,
          0,
          3,
          0,
          13,
          6,
          10,
          10,
          0,
          6,
          5,
          10,
          0,
          11,
          8,
          6,
          11,
          10,
          8,
          7,
          5,
          7,
          10,
          11,
          13,
          7,
          6,
          9,
          9,
          11,
          8,
          9,
          0,
          13,
          5,
          6,
          7,
          14,
          5,
          0,
          10,
          7,
          7,
          3,
          0,
          9,
          9,
          5,
          7,
          7,
          9,
          9,
          10,
          6,
          0,
          13,
          9,
          5,
          13,
          13,
          6,
          13,
          6,
          5,
          10,
          9,
          14,
          9,
          7,
          5,
          6,
          7,
          13,
          6,
          6,
          10,
          0,
          0,
          0,
          0,
          12,
          6,
          6,
          8,
          7,
          4,
          5,
          10,
          10,
          10,
          0,
          8,
          10,
          9,
          9,
          8,
          4,
          6,
          7,
          12,
          15,
          6,
          8,
          3,
          8,
          12,
          8,
          7,
          8,
          10,
          8,
          14,
          3,
          4,
          7,
          3,
          0,
          5,
          7,
          8,
          7,
          7,
          10,
          8,
          14,
          6,
          8,
          7,
          5,
          6,
          5,
          6,
          5,
          4,
          0,
          6,
          9,
          7,
          5,
          8,
          6,
          0,
          6,
          5,
          8,
          8,
          12,
          12,
          5,
          4,
          6,
          9,
          9,
          4,
          3,
          3,
          6,
          0,
          5,
          11,
          5,
          6,
          7,
          15,
          7,
          0,
          0,
          6,
          10,
          15,
          12,
          7,
          9,
          7,
          9,
          7,
          5,
          8,
          5,
          0,
          12,
          15,
          9,
          11,
          10,
          8,
          8,
          9,
          6,
          0,
          8,
          10,
          5,
          14,
          8,
          8,
          0,
          9,
          3,
          10,
          13,
          4,
          0,
          8,
          12,
          7,
          9,
          13,
          11,
          9,
          8,
          7,
          5,
          8,
          4,
          0,
          5,
          8,
          3,
          9,
          5,
          8,
          0,
          5,
          6,
          0,
          7,
          8,
          8,
          4,
          12,
          15,
          5,
          11,
          11,
          4,
          5,
          6,
          6,
          4,
          6,
          5,
          9,
          6,
          5,
          5,
          6,
          7,
          6,
          9,
          3,
          0,
          0,
          0,
          4,
          4,
          8,
          6,
          11,
          8,
          0,
          9,
          12,
          8,
          6,
          7,
          13,
          5,
          0,
          13,
          11,
          9,
          0,
          10,
          11,
          7
         ],
         "xaxis": "x",
         "yaxis": "y"
        }
       ],
       "layout": {
        "barmode": "relative",
        "legend": {
         "tracegroupgap": 0
        },
        "margin": {
         "t": 60
        },
        "template": {
         "data": {
          "bar": [
           {
            "error_x": {
             "color": "#2a3f5f"
            },
            "error_y": {
             "color": "#2a3f5f"
            },
            "marker": {
             "line": {
              "color": "#E5ECF6",
              "width": 0.5
             },
             "pattern": {
              "fillmode": "overlay",
              "size": 10,
              "solidity": 0.2
             }
            },
            "type": "bar"
           }
          ],
          "barpolar": [
           {
            "marker": {
             "line": {
              "color": "#E5ECF6",
              "width": 0.5
             },
             "pattern": {
              "fillmode": "overlay",
              "size": 10,
              "solidity": 0.2
             }
            },
            "type": "barpolar"
           }
          ],
          "carpet": [
           {
            "aaxis": {
             "endlinecolor": "#2a3f5f",
             "gridcolor": "white",
             "linecolor": "white",
             "minorgridcolor": "white",
             "startlinecolor": "#2a3f5f"
            },
            "baxis": {
             "endlinecolor": "#2a3f5f",
             "gridcolor": "white",
             "linecolor": "white",
             "minorgridcolor": "white",
             "startlinecolor": "#2a3f5f"
            },
            "type": "carpet"
           }
          ],
          "choropleth": [
           {
            "colorbar": {
             "outlinewidth": 0,
             "ticks": ""
            },
            "type": "choropleth"
           }
          ],
          "contour": [
           {
            "colorbar": {
             "outlinewidth": 0,
             "ticks": ""
            },
            "colorscale": [
             [
              0,
              "#0d0887"
             ],
             [
              0.1111111111111111,
              "#46039f"
             ],
             [
              0.2222222222222222,
              "#7201a8"
             ],
             [
              0.3333333333333333,
              "#9c179e"
             ],
             [
              0.4444444444444444,
              "#bd3786"
             ],
             [
              0.5555555555555556,
              "#d8576b"
             ],
             [
              0.6666666666666666,
              "#ed7953"
             ],
             [
              0.7777777777777778,
              "#fb9f3a"
             ],
             [
              0.8888888888888888,
              "#fdca26"
             ],
             [
              1,
              "#f0f921"
             ]
            ],
            "type": "contour"
           }
          ],
          "contourcarpet": [
           {
            "colorbar": {
             "outlinewidth": 0,
             "ticks": ""
            },
            "type": "contourcarpet"
           }
          ],
          "heatmap": [
           {
            "colorbar": {
             "outlinewidth": 0,
             "ticks": ""
            },
            "colorscale": [
             [
              0,
              "#0d0887"
             ],
             [
              0.1111111111111111,
              "#46039f"
             ],
             [
              0.2222222222222222,
              "#7201a8"
             ],
             [
              0.3333333333333333,
              "#9c179e"
             ],
             [
              0.4444444444444444,
              "#bd3786"
             ],
             [
              0.5555555555555556,
              "#d8576b"
             ],
             [
              0.6666666666666666,
              "#ed7953"
             ],
             [
              0.7777777777777778,
              "#fb9f3a"
             ],
             [
              0.8888888888888888,
              "#fdca26"
             ],
             [
              1,
              "#f0f921"
             ]
            ],
            "type": "heatmap"
           }
          ],
          "heatmapgl": [
           {
            "colorbar": {
             "outlinewidth": 0,
             "ticks": ""
            },
            "colorscale": [
             [
              0,
              "#0d0887"
             ],
             [
              0.1111111111111111,
              "#46039f"
             ],
             [
              0.2222222222222222,
              "#7201a8"
             ],
             [
              0.3333333333333333,
              "#9c179e"
             ],
             [
              0.4444444444444444,
              "#bd3786"
             ],
             [
              0.5555555555555556,
              "#d8576b"
             ],
             [
              0.6666666666666666,
              "#ed7953"
             ],
             [
              0.7777777777777778,
              "#fb9f3a"
             ],
             [
              0.8888888888888888,
              "#fdca26"
             ],
             [
              1,
              "#f0f921"
             ]
            ],
            "type": "heatmapgl"
           }
          ],
          "histogram": [
           {
            "marker": {
             "pattern": {
              "fillmode": "overlay",
              "size": 10,
              "solidity": 0.2
             }
            },
            "type": "histogram"
           }
          ],
          "histogram2d": [
           {
            "colorbar": {
             "outlinewidth": 0,
             "ticks": ""
            },
            "colorscale": [
             [
              0,
              "#0d0887"
             ],
             [
              0.1111111111111111,
              "#46039f"
             ],
             [
              0.2222222222222222,
              "#7201a8"
             ],
             [
              0.3333333333333333,
              "#9c179e"
             ],
             [
              0.4444444444444444,
              "#bd3786"
             ],
             [
              0.5555555555555556,
              "#d8576b"
             ],
             [
              0.6666666666666666,
              "#ed7953"
             ],
             [
              0.7777777777777778,
              "#fb9f3a"
             ],
             [
              0.8888888888888888,
              "#fdca26"
             ],
             [
              1,
              "#f0f921"
             ]
            ],
            "type": "histogram2d"
           }
          ],
          "histogram2dcontour": [
           {
            "colorbar": {
             "outlinewidth": 0,
             "ticks": ""
            },
            "colorscale": [
             [
              0,
              "#0d0887"
             ],
             [
              0.1111111111111111,
              "#46039f"
             ],
             [
              0.2222222222222222,
              "#7201a8"
             ],
             [
              0.3333333333333333,
              "#9c179e"
             ],
             [
              0.4444444444444444,
              "#bd3786"
             ],
             [
              0.5555555555555556,
              "#d8576b"
             ],
             [
              0.6666666666666666,
              "#ed7953"
             ],
             [
              0.7777777777777778,
              "#fb9f3a"
             ],
             [
              0.8888888888888888,
              "#fdca26"
             ],
             [
              1,
              "#f0f921"
             ]
            ],
            "type": "histogram2dcontour"
           }
          ],
          "mesh3d": [
           {
            "colorbar": {
             "outlinewidth": 0,
             "ticks": ""
            },
            "type": "mesh3d"
           }
          ],
          "parcoords": [
           {
            "line": {
             "colorbar": {
              "outlinewidth": 0,
              "ticks": ""
             }
            },
            "type": "parcoords"
           }
          ],
          "pie": [
           {
            "automargin": true,
            "type": "pie"
           }
          ],
          "scatter": [
           {
            "fillpattern": {
             "fillmode": "overlay",
             "size": 10,
             "solidity": 0.2
            },
            "type": "scatter"
           }
          ],
          "scatter3d": [
           {
            "line": {
             "colorbar": {
              "outlinewidth": 0,
              "ticks": ""
             }
            },
            "marker": {
             "colorbar": {
              "outlinewidth": 0,
              "ticks": ""
             }
            },
            "type": "scatter3d"
           }
          ],
          "scattercarpet": [
           {
            "marker": {
             "colorbar": {
              "outlinewidth": 0,
              "ticks": ""
             }
            },
            "type": "scattercarpet"
           }
          ],
          "scattergeo": [
           {
            "marker": {
             "colorbar": {
              "outlinewidth": 0,
              "ticks": ""
             }
            },
            "type": "scattergeo"
           }
          ],
          "scattergl": [
           {
            "marker": {
             "colorbar": {
              "outlinewidth": 0,
              "ticks": ""
             }
            },
            "type": "scattergl"
           }
          ],
          "scattermapbox": [
           {
            "marker": {
             "colorbar": {
              "outlinewidth": 0,
              "ticks": ""
             }
            },
            "type": "scattermapbox"
           }
          ],
          "scatterpolar": [
           {
            "marker": {
             "colorbar": {
              "outlinewidth": 0,
              "ticks": ""
             }
            },
            "type": "scatterpolar"
           }
          ],
          "scatterpolargl": [
           {
            "marker": {
             "colorbar": {
              "outlinewidth": 0,
              "ticks": ""
             }
            },
            "type": "scatterpolargl"
           }
          ],
          "scatterternary": [
           {
            "marker": {
             "colorbar": {
              "outlinewidth": 0,
              "ticks": ""
             }
            },
            "type": "scatterternary"
           }
          ],
          "surface": [
           {
            "colorbar": {
             "outlinewidth": 0,
             "ticks": ""
            },
            "colorscale": [
             [
              0,
              "#0d0887"
             ],
             [
              0.1111111111111111,
              "#46039f"
             ],
             [
              0.2222222222222222,
              "#7201a8"
             ],
             [
              0.3333333333333333,
              "#9c179e"
             ],
             [
              0.4444444444444444,
              "#bd3786"
             ],
             [
              0.5555555555555556,
              "#d8576b"
             ],
             [
              0.6666666666666666,
              "#ed7953"
             ],
             [
              0.7777777777777778,
              "#fb9f3a"
             ],
             [
              0.8888888888888888,
              "#fdca26"
             ],
             [
              1,
              "#f0f921"
             ]
            ],
            "type": "surface"
           }
          ],
          "table": [
           {
            "cells": {
             "fill": {
              "color": "#EBF0F8"
             },
             "line": {
              "color": "white"
             }
            },
            "header": {
             "fill": {
              "color": "#C8D4E3"
             },
             "line": {
              "color": "white"
             }
            },
            "type": "table"
           }
          ]
         },
         "layout": {
          "annotationdefaults": {
           "arrowcolor": "#2a3f5f",
           "arrowhead": 0,
           "arrowwidth": 1
          },
          "autotypenumbers": "strict",
          "coloraxis": {
           "colorbar": {
            "outlinewidth": 0,
            "ticks": ""
           }
          },
          "colorscale": {
           "diverging": [
            [
             0,
             "#8e0152"
            ],
            [
             0.1,
             "#c51b7d"
            ],
            [
             0.2,
             "#de77ae"
            ],
            [
             0.3,
             "#f1b6da"
            ],
            [
             0.4,
             "#fde0ef"
            ],
            [
             0.5,
             "#f7f7f7"
            ],
            [
             0.6,
             "#e6f5d0"
            ],
            [
             0.7,
             "#b8e186"
            ],
            [
             0.8,
             "#7fbc41"
            ],
            [
             0.9,
             "#4d9221"
            ],
            [
             1,
             "#276419"
            ]
           ],
           "sequential": [
            [
             0,
             "#0d0887"
            ],
            [
             0.1111111111111111,
             "#46039f"
            ],
            [
             0.2222222222222222,
             "#7201a8"
            ],
            [
             0.3333333333333333,
             "#9c179e"
            ],
            [
             0.4444444444444444,
             "#bd3786"
            ],
            [
             0.5555555555555556,
             "#d8576b"
            ],
            [
             0.6666666666666666,
             "#ed7953"
            ],
            [
             0.7777777777777778,
             "#fb9f3a"
            ],
            [
             0.8888888888888888,
             "#fdca26"
            ],
            [
             1,
             "#f0f921"
            ]
           ],
           "sequentialminus": [
            [
             0,
             "#0d0887"
            ],
            [
             0.1111111111111111,
             "#46039f"
            ],
            [
             0.2222222222222222,
             "#7201a8"
            ],
            [
             0.3333333333333333,
             "#9c179e"
            ],
            [
             0.4444444444444444,
             "#bd3786"
            ],
            [
             0.5555555555555556,
             "#d8576b"
            ],
            [
             0.6666666666666666,
             "#ed7953"
            ],
            [
             0.7777777777777778,
             "#fb9f3a"
            ],
            [
             0.8888888888888888,
             "#fdca26"
            ],
            [
             1,
             "#f0f921"
            ]
           ]
          },
          "colorway": [
           "#636efa",
           "#EF553B",
           "#00cc96",
           "#ab63fa",
           "#FFA15A",
           "#19d3f3",
           "#FF6692",
           "#B6E880",
           "#FF97FF",
           "#FECB52"
          ],
          "font": {
           "color": "#2a3f5f"
          },
          "geo": {
           "bgcolor": "white",
           "lakecolor": "white",
           "landcolor": "#E5ECF6",
           "showlakes": true,
           "showland": true,
           "subunitcolor": "white"
          },
          "hoverlabel": {
           "align": "left"
          },
          "hovermode": "closest",
          "mapbox": {
           "style": "light"
          },
          "paper_bgcolor": "white",
          "plot_bgcolor": "#E5ECF6",
          "polar": {
           "angularaxis": {
            "gridcolor": "white",
            "linecolor": "white",
            "ticks": ""
           },
           "bgcolor": "#E5ECF6",
           "radialaxis": {
            "gridcolor": "white",
            "linecolor": "white",
            "ticks": ""
           }
          },
          "scene": {
           "xaxis": {
            "backgroundcolor": "#E5ECF6",
            "gridcolor": "white",
            "gridwidth": 2,
            "linecolor": "white",
            "showbackground": true,
            "ticks": "",
            "zerolinecolor": "white"
           },
           "yaxis": {
            "backgroundcolor": "#E5ECF6",
            "gridcolor": "white",
            "gridwidth": 2,
            "linecolor": "white",
            "showbackground": true,
            "ticks": "",
            "zerolinecolor": "white"
           },
           "zaxis": {
            "backgroundcolor": "#E5ECF6",
            "gridcolor": "white",
            "gridwidth": 2,
            "linecolor": "white",
            "showbackground": true,
            "ticks": "",
            "zerolinecolor": "white"
           }
          },
          "shapedefaults": {
           "line": {
            "color": "#2a3f5f"
           }
          },
          "ternary": {
           "aaxis": {
            "gridcolor": "white",
            "linecolor": "white",
            "ticks": ""
           },
           "baxis": {
            "gridcolor": "white",
            "linecolor": "white",
            "ticks": ""
           },
           "bgcolor": "#E5ECF6",
           "caxis": {
            "gridcolor": "white",
            "linecolor": "white",
            "ticks": ""
           }
          },
          "title": {
           "x": 0.05
          },
          "xaxis": {
           "automargin": true,
           "gridcolor": "white",
           "linecolor": "white",
           "ticks": "",
           "title": {
            "standoff": 15
           },
           "zerolinecolor": "white",
           "zerolinewidth": 2
          },
          "yaxis": {
           "automargin": true,
           "gridcolor": "white",
           "linecolor": "white",
           "ticks": "",
           "title": {
            "standoff": 15
           },
           "zerolinecolor": "white",
           "zerolinewidth": 2
          }
         }
        },
        "xaxis": {
         "anchor": "y",
         "domain": [
          0,
          1
         ],
         "title": {
          "text": "AirportWindSpInst_mph"
         }
        },
        "yaxis": {
         "anchor": "x",
         "domain": [
          0,
          1
         ],
         "title": {
          "text": "count"
         }
        }
       }
      }
     },
     "metadata": {},
     "output_type": "display_data"
    },
    {
     "data": {
      "application/vnd.plotly.v1+json": {
       "config": {
        "plotlyServerURL": "https://plot.ly"
       },
       "data": [
        {
         "alignmentgroup": "True",
         "bingroup": "x",
         "hovertemplate": "AirportRain48W_in=%{x}<br>count=%{y}<extra></extra>",
         "legendgroup": "",
         "marker": {
          "color": "#636efa",
          "pattern": {
           "shape": ""
          }
         },
         "name": "",
         "offsetgroup": "",
         "orientation": "v",
         "showlegend": false,
         "type": "histogram",
         "x": [
          0.075,
          0,
          0,
          0,
          0,
          0.58,
          0.29,
          0.25,
          0.125,
          0,
          0,
          1.0922000000000012,
          1.07,
          0.03,
          0.205,
          1.005,
          1.0922000000000012,
          0.5,
          0.01,
          0.005,
          1.0922000000000012,
          1.0922000000000012,
          0.28,
          0,
          0,
          0,
          0.12,
          0.9,
          1.03,
          0.305,
          1.0922000000000012,
          0.8,
          0.17,
          0.165,
          0.06,
          0.01,
          0,
          0.47,
          0.315,
          1.0922000000000012,
          1.0922000000000012,
          0,
          0,
          0.15,
          0.125,
          0.175,
          0.075,
          0.02,
          0.02,
          0.465,
          0.59,
          0.18,
          0,
          0,
          0.13,
          0.065,
          0.02,
          0.06,
          1.0922000000000012,
          0.62,
          0.32,
          0.195,
          0.025,
          1.0922000000000012,
          1.0922000000000012,
          0.36,
          0,
          0.1,
          0.05,
          0,
          0,
          0,
          0,
          0.35,
          1.0922000000000012,
          0.78,
          0.005,
          0,
          0.13,
          0,
          1.02,
          0.91,
          0.2,
          0.01,
          0.005,
          0,
          0,
          0,
          0,
          0.05,
          1.0922000000000012,
          0.7,
          0.905,
          0.44,
          0,
          0.11,
          0.195,
          0.61,
          0.27,
          0,
          1.0922000000000012,
          1.0922000000000012,
          0,
          0,
          0,
          0,
          0,
          0.19,
          1.025,
          1.0922000000000012,
          0.6,
          0.025,
          0.08,
          0.035,
          0,
          0,
          0.69,
          0.425,
          0.04,
          0,
          0.03,
          1.0922000000000012,
          1.0922000000000012,
          0.84,
          0.485,
          0.1,
          0,
          0,
          0,
          0.735,
          1.0922000000000012,
          0,
          0,
          0.34,
          0.45,
          0.14,
          0.01,
          0.045,
          0,
          0,
          0,
          0,
          0,
          0,
          0,
          0,
          0.01,
          0.07,
          0.045,
          0.005,
          0,
          0,
          0,
          0,
          0,
          0.76,
          0.38,
          0,
          0,
          0.34,
          0.18,
          0.005,
          0.245,
          0.625,
          0.295,
          0,
          0,
          0.22,
          0.65,
          0.45,
          0.04,
          0.015,
          0.02,
          0.01,
          0,
          0,
          0.08,
          0.04,
          0,
          0.17,
          1.0922000000000012,
          0.71,
          0.49,
          0.305,
          0.035,
          0,
          0,
          0,
          0,
          0,
          0,
          0.09,
          0.045,
          0,
          0,
          0.01,
          0.005,
          0.01,
          0.015,
          0.005,
          0,
          1.0922000000000012,
          0.72,
          0.02,
          0.04,
          0.015,
          0,
          0.16,
          0.08,
          0.7,
          1.07,
          1.0922000000000012,
          1.0922000000000012,
          0.015,
          0,
          0,
          0.09,
          0.295,
          0.125,
          0,
          0.04,
          0.02,
          0,
          0,
          1.0922000000000012,
          0.62,
          0,
          0.01,
          0.375,
          0.185,
          0,
          0,
          0.77,
          0.395,
          0.035,
          0.055,
          0.02,
          0,
          0,
          0.01,
          0.015,
          0.005,
          0,
          1.0922000000000012,
          1.0922000000000012,
          0.38,
          0.185,
          1.04,
          0.12,
          0.695,
          0.34,
          0.02,
          0.025,
          0.08,
          0.795,
          0.27,
          0.445,
          0.155,
          0.01,
          0.005,
          0,
          0.02,
          1.0922000000000012,
          0.01,
          0,
          0.78,
          0,
          0.9,
          0.93,
          0.24,
          0.01,
          0,
          0,
          0.09,
          1.0922000000000012,
          0.58,
          0.15,
          0.08,
          0.01,
          0.69,
          0.23,
          0,
          0,
          0,
          1.0922000000000012,
          0.96,
          0.02,
          0.06,
          1.0922000000000012,
          1.0922000000000012,
          0.64,
          0.16,
          0.54,
          1.0922000000000012,
          0.61,
          0.18,
          0.54,
          0.16,
          0,
          0.57,
          0.94,
          0.34,
          0.03,
          0,
          0,
          0,
          0,
          0.03,
          0.01,
          0,
          0.73,
          0.73,
          0.2,
          0.01,
          0,
          0.03,
          0.01,
          0,
          0,
          0,
          0,
          0.03,
          0.01,
          0,
          0,
          0,
          0,
          0,
          0,
          0,
          0,
          0,
          0,
          0.57,
          1.09,
          0.3,
          0,
          0,
          0,
          0.03,
          0.28,
          0.09,
          0,
          0,
          0,
          0,
          0.72,
          0.24,
          0,
          0,
          0,
          1.0922000000000012,
          0.71,
          0.24,
          0.08,
          0,
          0,
          0,
          0,
          0,
          0,
          0,
          0.01,
          0,
          0,
          0.1,
          0.05,
          0,
          0,
          0.02,
          0.01,
          0,
          0,
          0.16,
          0.08,
          0,
          0,
          0,
          0,
          0.38,
          0.33,
          0.07,
          1.0922000000000012,
          0.6,
          0,
          0,
          0,
          0,
          1.0922000000000012,
          1.06,
          0.2,
          0.12,
          0.71,
          1.0922000000000012,
          0.71,
          0.04,
          0,
          0.88,
          0.44,
          0,
          0,
          0,
          0,
          0,
          0,
          0.2,
          0.1,
          0,
          0,
          0,
          0,
          0,
          0,
          0,
          0,
          0.1,
          0.05,
          0,
          0,
          0,
          1.0922000000000012,
          0.89,
          0.15,
          0.2,
          0.1,
          0.58,
          0.63,
          0.27,
          0.07,
          0.01,
          0,
          0.04,
          0.02,
          0,
          0,
          0,
          0.04,
          0.72,
          0.35,
          0.92,
          0.46,
          0,
          0,
          0.68,
          0.34,
          0,
          0.08,
          1.0922000000000012,
          0.69,
          0,
          0.04,
          0.26,
          0.16,
          0.02,
          0,
          0,
          0.32,
          0.16,
          0,
          0.88,
          0.44,
          0,
          0
         ],
         "xaxis": "x",
         "yaxis": "y"
        }
       ],
       "layout": {
        "barmode": "relative",
        "legend": {
         "tracegroupgap": 0
        },
        "margin": {
         "t": 60
        },
        "template": {
         "data": {
          "bar": [
           {
            "error_x": {
             "color": "#2a3f5f"
            },
            "error_y": {
             "color": "#2a3f5f"
            },
            "marker": {
             "line": {
              "color": "#E5ECF6",
              "width": 0.5
             },
             "pattern": {
              "fillmode": "overlay",
              "size": 10,
              "solidity": 0.2
             }
            },
            "type": "bar"
           }
          ],
          "barpolar": [
           {
            "marker": {
             "line": {
              "color": "#E5ECF6",
              "width": 0.5
             },
             "pattern": {
              "fillmode": "overlay",
              "size": 10,
              "solidity": 0.2
             }
            },
            "type": "barpolar"
           }
          ],
          "carpet": [
           {
            "aaxis": {
             "endlinecolor": "#2a3f5f",
             "gridcolor": "white",
             "linecolor": "white",
             "minorgridcolor": "white",
             "startlinecolor": "#2a3f5f"
            },
            "baxis": {
             "endlinecolor": "#2a3f5f",
             "gridcolor": "white",
             "linecolor": "white",
             "minorgridcolor": "white",
             "startlinecolor": "#2a3f5f"
            },
            "type": "carpet"
           }
          ],
          "choropleth": [
           {
            "colorbar": {
             "outlinewidth": 0,
             "ticks": ""
            },
            "type": "choropleth"
           }
          ],
          "contour": [
           {
            "colorbar": {
             "outlinewidth": 0,
             "ticks": ""
            },
            "colorscale": [
             [
              0,
              "#0d0887"
             ],
             [
              0.1111111111111111,
              "#46039f"
             ],
             [
              0.2222222222222222,
              "#7201a8"
             ],
             [
              0.3333333333333333,
              "#9c179e"
             ],
             [
              0.4444444444444444,
              "#bd3786"
             ],
             [
              0.5555555555555556,
              "#d8576b"
             ],
             [
              0.6666666666666666,
              "#ed7953"
             ],
             [
              0.7777777777777778,
              "#fb9f3a"
             ],
             [
              0.8888888888888888,
              "#fdca26"
             ],
             [
              1,
              "#f0f921"
             ]
            ],
            "type": "contour"
           }
          ],
          "contourcarpet": [
           {
            "colorbar": {
             "outlinewidth": 0,
             "ticks": ""
            },
            "type": "contourcarpet"
           }
          ],
          "heatmap": [
           {
            "colorbar": {
             "outlinewidth": 0,
             "ticks": ""
            },
            "colorscale": [
             [
              0,
              "#0d0887"
             ],
             [
              0.1111111111111111,
              "#46039f"
             ],
             [
              0.2222222222222222,
              "#7201a8"
             ],
             [
              0.3333333333333333,
              "#9c179e"
             ],
             [
              0.4444444444444444,
              "#bd3786"
             ],
             [
              0.5555555555555556,
              "#d8576b"
             ],
             [
              0.6666666666666666,
              "#ed7953"
             ],
             [
              0.7777777777777778,
              "#fb9f3a"
             ],
             [
              0.8888888888888888,
              "#fdca26"
             ],
             [
              1,
              "#f0f921"
             ]
            ],
            "type": "heatmap"
           }
          ],
          "heatmapgl": [
           {
            "colorbar": {
             "outlinewidth": 0,
             "ticks": ""
            },
            "colorscale": [
             [
              0,
              "#0d0887"
             ],
             [
              0.1111111111111111,
              "#46039f"
             ],
             [
              0.2222222222222222,
              "#7201a8"
             ],
             [
              0.3333333333333333,
              "#9c179e"
             ],
             [
              0.4444444444444444,
              "#bd3786"
             ],
             [
              0.5555555555555556,
              "#d8576b"
             ],
             [
              0.6666666666666666,
              "#ed7953"
             ],
             [
              0.7777777777777778,
              "#fb9f3a"
             ],
             [
              0.8888888888888888,
              "#fdca26"
             ],
             [
              1,
              "#f0f921"
             ]
            ],
            "type": "heatmapgl"
           }
          ],
          "histogram": [
           {
            "marker": {
             "pattern": {
              "fillmode": "overlay",
              "size": 10,
              "solidity": 0.2
             }
            },
            "type": "histogram"
           }
          ],
          "histogram2d": [
           {
            "colorbar": {
             "outlinewidth": 0,
             "ticks": ""
            },
            "colorscale": [
             [
              0,
              "#0d0887"
             ],
             [
              0.1111111111111111,
              "#46039f"
             ],
             [
              0.2222222222222222,
              "#7201a8"
             ],
             [
              0.3333333333333333,
              "#9c179e"
             ],
             [
              0.4444444444444444,
              "#bd3786"
             ],
             [
              0.5555555555555556,
              "#d8576b"
             ],
             [
              0.6666666666666666,
              "#ed7953"
             ],
             [
              0.7777777777777778,
              "#fb9f3a"
             ],
             [
              0.8888888888888888,
              "#fdca26"
             ],
             [
              1,
              "#f0f921"
             ]
            ],
            "type": "histogram2d"
           }
          ],
          "histogram2dcontour": [
           {
            "colorbar": {
             "outlinewidth": 0,
             "ticks": ""
            },
            "colorscale": [
             [
              0,
              "#0d0887"
             ],
             [
              0.1111111111111111,
              "#46039f"
             ],
             [
              0.2222222222222222,
              "#7201a8"
             ],
             [
              0.3333333333333333,
              "#9c179e"
             ],
             [
              0.4444444444444444,
              "#bd3786"
             ],
             [
              0.5555555555555556,
              "#d8576b"
             ],
             [
              0.6666666666666666,
              "#ed7953"
             ],
             [
              0.7777777777777778,
              "#fb9f3a"
             ],
             [
              0.8888888888888888,
              "#fdca26"
             ],
             [
              1,
              "#f0f921"
             ]
            ],
            "type": "histogram2dcontour"
           }
          ],
          "mesh3d": [
           {
            "colorbar": {
             "outlinewidth": 0,
             "ticks": ""
            },
            "type": "mesh3d"
           }
          ],
          "parcoords": [
           {
            "line": {
             "colorbar": {
              "outlinewidth": 0,
              "ticks": ""
             }
            },
            "type": "parcoords"
           }
          ],
          "pie": [
           {
            "automargin": true,
            "type": "pie"
           }
          ],
          "scatter": [
           {
            "fillpattern": {
             "fillmode": "overlay",
             "size": 10,
             "solidity": 0.2
            },
            "type": "scatter"
           }
          ],
          "scatter3d": [
           {
            "line": {
             "colorbar": {
              "outlinewidth": 0,
              "ticks": ""
             }
            },
            "marker": {
             "colorbar": {
              "outlinewidth": 0,
              "ticks": ""
             }
            },
            "type": "scatter3d"
           }
          ],
          "scattercarpet": [
           {
            "marker": {
             "colorbar": {
              "outlinewidth": 0,
              "ticks": ""
             }
            },
            "type": "scattercarpet"
           }
          ],
          "scattergeo": [
           {
            "marker": {
             "colorbar": {
              "outlinewidth": 0,
              "ticks": ""
             }
            },
            "type": "scattergeo"
           }
          ],
          "scattergl": [
           {
            "marker": {
             "colorbar": {
              "outlinewidth": 0,
              "ticks": ""
             }
            },
            "type": "scattergl"
           }
          ],
          "scattermapbox": [
           {
            "marker": {
             "colorbar": {
              "outlinewidth": 0,
              "ticks": ""
             }
            },
            "type": "scattermapbox"
           }
          ],
          "scatterpolar": [
           {
            "marker": {
             "colorbar": {
              "outlinewidth": 0,
              "ticks": ""
             }
            },
            "type": "scatterpolar"
           }
          ],
          "scatterpolargl": [
           {
            "marker": {
             "colorbar": {
              "outlinewidth": 0,
              "ticks": ""
             }
            },
            "type": "scatterpolargl"
           }
          ],
          "scatterternary": [
           {
            "marker": {
             "colorbar": {
              "outlinewidth": 0,
              "ticks": ""
             }
            },
            "type": "scatterternary"
           }
          ],
          "surface": [
           {
            "colorbar": {
             "outlinewidth": 0,
             "ticks": ""
            },
            "colorscale": [
             [
              0,
              "#0d0887"
             ],
             [
              0.1111111111111111,
              "#46039f"
             ],
             [
              0.2222222222222222,
              "#7201a8"
             ],
             [
              0.3333333333333333,
              "#9c179e"
             ],
             [
              0.4444444444444444,
              "#bd3786"
             ],
             [
              0.5555555555555556,
              "#d8576b"
             ],
             [
              0.6666666666666666,
              "#ed7953"
             ],
             [
              0.7777777777777778,
              "#fb9f3a"
             ],
             [
              0.8888888888888888,
              "#fdca26"
             ],
             [
              1,
              "#f0f921"
             ]
            ],
            "type": "surface"
           }
          ],
          "table": [
           {
            "cells": {
             "fill": {
              "color": "#EBF0F8"
             },
             "line": {
              "color": "white"
             }
            },
            "header": {
             "fill": {
              "color": "#C8D4E3"
             },
             "line": {
              "color": "white"
             }
            },
            "type": "table"
           }
          ]
         },
         "layout": {
          "annotationdefaults": {
           "arrowcolor": "#2a3f5f",
           "arrowhead": 0,
           "arrowwidth": 1
          },
          "autotypenumbers": "strict",
          "coloraxis": {
           "colorbar": {
            "outlinewidth": 0,
            "ticks": ""
           }
          },
          "colorscale": {
           "diverging": [
            [
             0,
             "#8e0152"
            ],
            [
             0.1,
             "#c51b7d"
            ],
            [
             0.2,
             "#de77ae"
            ],
            [
             0.3,
             "#f1b6da"
            ],
            [
             0.4,
             "#fde0ef"
            ],
            [
             0.5,
             "#f7f7f7"
            ],
            [
             0.6,
             "#e6f5d0"
            ],
            [
             0.7,
             "#b8e186"
            ],
            [
             0.8,
             "#7fbc41"
            ],
            [
             0.9,
             "#4d9221"
            ],
            [
             1,
             "#276419"
            ]
           ],
           "sequential": [
            [
             0,
             "#0d0887"
            ],
            [
             0.1111111111111111,
             "#46039f"
            ],
            [
             0.2222222222222222,
             "#7201a8"
            ],
            [
             0.3333333333333333,
             "#9c179e"
            ],
            [
             0.4444444444444444,
             "#bd3786"
            ],
            [
             0.5555555555555556,
             "#d8576b"
            ],
            [
             0.6666666666666666,
             "#ed7953"
            ],
            [
             0.7777777777777778,
             "#fb9f3a"
            ],
            [
             0.8888888888888888,
             "#fdca26"
            ],
            [
             1,
             "#f0f921"
            ]
           ],
           "sequentialminus": [
            [
             0,
             "#0d0887"
            ],
            [
             0.1111111111111111,
             "#46039f"
            ],
            [
             0.2222222222222222,
             "#7201a8"
            ],
            [
             0.3333333333333333,
             "#9c179e"
            ],
            [
             0.4444444444444444,
             "#bd3786"
            ],
            [
             0.5555555555555556,
             "#d8576b"
            ],
            [
             0.6666666666666666,
             "#ed7953"
            ],
            [
             0.7777777777777778,
             "#fb9f3a"
            ],
            [
             0.8888888888888888,
             "#fdca26"
            ],
            [
             1,
             "#f0f921"
            ]
           ]
          },
          "colorway": [
           "#636efa",
           "#EF553B",
           "#00cc96",
           "#ab63fa",
           "#FFA15A",
           "#19d3f3",
           "#FF6692",
           "#B6E880",
           "#FF97FF",
           "#FECB52"
          ],
          "font": {
           "color": "#2a3f5f"
          },
          "geo": {
           "bgcolor": "white",
           "lakecolor": "white",
           "landcolor": "#E5ECF6",
           "showlakes": true,
           "showland": true,
           "subunitcolor": "white"
          },
          "hoverlabel": {
           "align": "left"
          },
          "hovermode": "closest",
          "mapbox": {
           "style": "light"
          },
          "paper_bgcolor": "white",
          "plot_bgcolor": "#E5ECF6",
          "polar": {
           "angularaxis": {
            "gridcolor": "white",
            "linecolor": "white",
            "ticks": ""
           },
           "bgcolor": "#E5ECF6",
           "radialaxis": {
            "gridcolor": "white",
            "linecolor": "white",
            "ticks": ""
           }
          },
          "scene": {
           "xaxis": {
            "backgroundcolor": "#E5ECF6",
            "gridcolor": "white",
            "gridwidth": 2,
            "linecolor": "white",
            "showbackground": true,
            "ticks": "",
            "zerolinecolor": "white"
           },
           "yaxis": {
            "backgroundcolor": "#E5ECF6",
            "gridcolor": "white",
            "gridwidth": 2,
            "linecolor": "white",
            "showbackground": true,
            "ticks": "",
            "zerolinecolor": "white"
           },
           "zaxis": {
            "backgroundcolor": "#E5ECF6",
            "gridcolor": "white",
            "gridwidth": 2,
            "linecolor": "white",
            "showbackground": true,
            "ticks": "",
            "zerolinecolor": "white"
           }
          },
          "shapedefaults": {
           "line": {
            "color": "#2a3f5f"
           }
          },
          "ternary": {
           "aaxis": {
            "gridcolor": "white",
            "linecolor": "white",
            "ticks": ""
           },
           "baxis": {
            "gridcolor": "white",
            "linecolor": "white",
            "ticks": ""
           },
           "bgcolor": "#E5ECF6",
           "caxis": {
            "gridcolor": "white",
            "linecolor": "white",
            "ticks": ""
           }
          },
          "title": {
           "x": 0.05
          },
          "xaxis": {
           "automargin": true,
           "gridcolor": "white",
           "linecolor": "white",
           "ticks": "",
           "title": {
            "standoff": 15
           },
           "zerolinecolor": "white",
           "zerolinewidth": 2
          },
          "yaxis": {
           "automargin": true,
           "gridcolor": "white",
           "linecolor": "white",
           "ticks": "",
           "title": {
            "standoff": 15
           },
           "zerolinecolor": "white",
           "zerolinewidth": 2
          }
         }
        },
        "xaxis": {
         "anchor": "y",
         "domain": [
          0,
          1
         ],
         "title": {
          "text": "AirportRain48W_in"
         }
        },
        "yaxis": {
         "anchor": "x",
         "domain": [
          0,
          1
         ],
         "title": {
          "text": "count"
         }
        }
       }
      }
     },
     "metadata": {},
     "output_type": "display_data"
    }
   ],
   "source": [
    "for col in colhead:\n",
    "    fig=px.histogram(df,x=col)\n",
    "    fig.show()"
   ]
  },
  {
   "cell_type": "code",
   "execution_count": 13,
   "metadata": {},
   "outputs": [
    {
     "data": {
      "application/vnd.plotly.v1+json": {
       "config": {
        "plotlyServerURL": "https://plot.ly"
       },
       "data": [
        {
         "hovertemplate": "TURB_NTRU=%{x}<br>ECOLI_LOG10=%{y}<extra></extra>",
         "legendgroup": "",
         "marker": {
          "color": "#636efa",
          "symbol": "circle"
         },
         "mode": "markers",
         "name": "",
         "orientation": "v",
         "showlegend": false,
         "type": "scatter",
         "x": [
          9.81,
          3.255,
          1.895,
          1.9725,
          3.1425,
          23.25,
          14.525,
          46.938,
          6.69,
          2.585,
          2.2225,
          21.825,
          3.0575,
          2.91,
          3.1825,
          2.6025,
          23.025,
          6.4975,
          3.92,
          6.65,
          12.8,
          4.125,
          3.95,
          2.8,
          4.725,
          1.855,
          4.655,
          11.95,
          15.075,
          3.575,
          19.225,
          20.95,
          20.925,
          7.275,
          29.925,
          10.1,
          8.675,
          46.938,
          46.938,
          46.938,
          4.025,
          1.63,
          1.665,
          11.25,
          8.875,
          22.325,
          41.125,
          7.665,
          6.39,
          2.45,
          2.515,
          1.4675,
          1.0875,
          8.2325,
          23.7,
          6.545,
          11.2,
          12,
          9.285,
          23.175,
          12.95,
          17.825,
          9.425,
          3.25,
          2.2,
          1.4375,
          1.7475,
          2.125,
          11.1975,
          2.12,
          1.5075,
          1.4,
          1.1375,
          8.68,
          19.35,
          16.125,
          12.775,
          14.775,
          3.1675,
          1.8375,
          2.625,
          4.1725,
          1.835,
          5.2925,
          4.16,
          1.2425,
          1.5325,
          1.9425,
          1.3,
          8.765,
          6.63,
          18.125,
          14.65,
          4.325,
          7.885,
          8.5075,
          10.45,
          12.325,
          1.51,
          6.635,
          46.938,
          46.938,
          4.8,
          1.815,
          6.7,
          46.938,
          2.985,
          28.1,
          26.95,
          10.9,
          4.02,
          1.2325,
          6.455,
          1.575,
          5.7425,
          16.225,
          46.938,
          6.4525,
          1.8025,
          6.49,
          9.0575,
          9.8,
          5.6875,
          2.4975,
          8.945,
          5.8875,
          1.42,
          2.335,
          1.3275,
          21.85,
          1.445,
          2.4725,
          2.37,
          4.2,
          46.938,
          3.85,
          2.695,
          12.65,
          15.225,
          9.9725,
          27.275,
          5.3875,
          3.535,
          2.0875,
          0.83,
          1.49,
          11.5,
          24.8,
          14.3,
          9.0375,
          2.825,
          1.5575,
          1.825,
          3.42,
          1.97,
          16.525,
          14.05,
          5.59,
          35.675,
          11.825,
          2.0675,
          4.2275,
          1.6675,
          46.938,
          7.525,
          3.4425,
          16.525,
          46.925,
          11.3,
          8.9425,
          2.565,
          4.71,
          5.225,
          6.6,
          1.75,
          3.9,
          1.175,
          2,
          2.1,
          20.575,
          46.938,
          20.525,
          23.325,
          9.59,
          6.275,
          9.5625,
          25.25,
          22.525,
          3.595,
          2.0025,
          1.36,
          1.7125,
          0.81,
          0.5975,
          6.65,
          14.625,
          4.7525,
          2.025,
          1.05,
          0.775,
          1.425,
          12.375,
          8.725,
          2.925,
          8.525,
          4.4,
          2.2,
          2.675,
          4.625,
          2.125,
          3.75,
          9.875,
          9.975,
          2.85,
          1.1,
          5.975,
          20.725,
          35.375,
          8.3,
          1.6,
          22.525,
          6.4025,
          3.7575,
          1.385,
          14.15,
          10.3275,
          2.1175,
          15.35,
          8.2675,
          2.4575,
          1.05,
          2.515,
          1.25,
          1.45,
          1.125,
          1.1075,
          0.885,
          0.825,
          3.1975,
          15.025,
          5.45,
          2.33,
          0.9375,
          2.9475,
          1.22,
          14.975,
          16.3,
          46.938,
          5.1925,
          14.75,
          10.2275,
          3.46,
          6.9775,
          26.575,
          12.1,
          12.175,
          21.9,
          2.2125,
          6.0675,
          5.0975,
          0.91,
          3.205,
          6.14,
          3.075,
          1.83,
          9.195,
          3.0175,
          10.375,
          9.46,
          10.755,
          11.25,
          4.175,
          2.0825,
          1.8675,
          5.4225,
          11.2,
          43.75,
          5.985,
          10.675,
          8.6325,
          13.275,
          8.535,
          4.3,
          1.6025,
          2.9725,
          4.1725,
          4.96,
          7.75,
          20.475,
          46.938,
          35.4,
          4.5725,
          19.775,
          45.875,
          46.938,
          46.938,
          46.938,
          45.325,
          30.95,
          19.225,
          31.5,
          13.1,
          10.7,
          5.48,
          2.3325,
          1.93,
          13.325,
          14.45,
          13.25,
          17.6,
          8.0875,
          25.4,
          10.05,
          8.27,
          6.17,
          8.5975,
          2.3325,
          1.7025,
          2.585,
          7.835,
          2.7375,
          2.7625,
          7.3125,
          21.4,
          2.875,
          2.275,
          9.335,
          16.425,
          14.5,
          5.71,
          4.5625,
          3.1275,
          3.9375,
          4.315,
          46.938,
          29.15,
          21.25,
          11.45,
          3.93,
          7.7575,
          11.55,
          14,
          3.4225,
          5.125,
          4.91,
          1.6375,
          10.025,
          38.05,
          2.585,
          5.1225,
          10.2675,
          24.25,
          12.975,
          5.455,
          2.115,
          1.6125,
          2.585,
          1.515,
          1.845,
          29.15,
          4.825,
          4.15,
          7.6225,
          4.8,
          3.2,
          2.375,
          3.975,
          1.675,
          2.55,
          5.0225,
          2.4825,
          13.975,
          2.675,
          46.938,
          46.938,
          19.025,
          7.8925,
          3.42,
          2.155,
          1.7175,
          2.665,
          2.2325,
          9.19,
          19.45,
          8.02,
          2.04,
          1.965,
          2.6925,
          8.955,
          1.7825,
          1.6275,
          9.3575,
          1.42,
          7.54,
          4.3725,
          1.3125,
          2.275,
          5.94,
          4.6025,
          2.0825,
          2.13,
          3.135,
          2.1775,
          1.6225,
          1.7,
          11.04,
          4.0225,
          2.4775,
          7.195,
          9.95,
          1.76,
          1.515,
          4.035,
          1.62,
          1.84,
          9.5,
          12.175,
          4.125,
          1.35,
          1.4125,
          12.275,
          1.9975,
          1.72,
          2.1875,
          3.3525,
          12.15,
          7.84,
          3.38,
          2.33,
          1.2275,
          3.775,
          11.725,
          2.99,
          3.94,
          2.445,
          3.855,
          13.25,
          7.645,
          9.1975,
          5.77,
          3.07,
          6.5125,
          1.5225,
          2.255,
          10.825,
          3.875,
          14.275,
          6.9,
          2.8,
          1.425,
          1.4125,
          34.2,
          14.25,
          9.75,
          7.75,
          14.975,
          6.845,
          15.45,
          18.2,
          17.75,
          1.93,
          1.45,
          18.675
         ],
         "xaxis": "x",
         "y": [
          0.6021,
          0.301,
          0.301,
          0.301,
          1.0792,
          2.4378,
          1.5563,
          1.5563,
          1.2041,
          0.301,
          0.301,
          2.3729,
          0.6021,
          1.3802,
          2.1271,
          1.3802,
          2.0934,
          1.6232,
          2.3424,
          2.0414,
          1.7634,
          2.0645,
          0.7782,
          2.2253,
          0.301,
          1.6628,
          2.444,
          2.0934,
          2.4969,
          1.4771,
          2.3464,
          2.3945,
          1.9542,
          1.6812,
          2.2923,
          2.2648,
          1.415,
          1.699,
          1.8921,
          2.4314,
          2,
          1,
          0.7782,
          1.7782,
          1.6021,
          2.6758,
          1.6628,
          1,
          0.7782,
          1.415,
          2.3655,
          1.8062,
          0.301,
          2.3766,
          2.2742,
          2.2304,
          2.0086,
          2.0864,
          1.9912,
          1.716,
          1.3424,
          1.5051,
          1.3802,
          1.2041,
          2.5159,
          1.7324,
          1.5563,
          2.3181,
          2.3464,
          1.4771,
          1.301,
          1.301,
          2.0934,
          2.2148,
          2.6848,
          2.2923,
          1.7924,
          1.5315,
          1.2553,
          1.0792,
          2.1004,
          1.415,
          1.301,
          2.0334,
          1.6232,
          1.3424,
          1.415,
          1.5563,
          1.4472,
          2.301,
          1.9243,
          2.1584,
          2.1206,
          1.1461,
          1.9243,
          1.2041,
          0.301,
          1.2553,
          0.301,
          1.1461,
          2.4502,
          3.0017,
          0.6021,
          0.301,
          0.9031,
          2.8704,
          1,
          2.5416,
          2.8998,
          1.9494,
          1.1461,
          0.301,
          2.5821,
          1.1461,
          1.9823,
          1.8573,
          2.7364,
          1.8451,
          0.4771,
          1.7853,
          1.8573,
          1.8367,
          1.3617,
          0.8129,
          1.7033,
          1.0792,
          0.301,
          1.0792,
          1.3802,
          2.5465,
          1,
          1.2553,
          2.1523,
          2.9647,
          2.7578,
          1.9395,
          1.6628,
          1.9912,
          2.0607,
          2.1861,
          2.0719,
          1.9031,
          0.301,
          1.2041,
          0.301,
          0.6021,
          1.2175,
          1.8195,
          1.5378,
          1,
          0.6021,
          0.9031,
          1.0792,
          1,
          1.5315,
          2.4955,
          2.2188,
          1.5798,
          1.9395,
          1.2041,
          0.7782,
          1.0792,
          1.3424,
          2.2833,
          0.301,
          0.301,
          1.5911,
          1.7033,
          1.1461,
          1.1461,
          1.301,
          1.7324,
          0.301,
          2.0864,
          0.7782,
          0.9031,
          0.301,
          0.301,
          1.7924,
          2.6758,
          2.5729,
          2.0253,
          2.1089,
          1.4624,
          0.7782,
          1.2041,
          1.2041,
          0.9031,
          0.301,
          0.6021,
          1.6021,
          1.2553,
          0.301,
          1.2041,
          2.1523,
          1.415,
          2.0253,
          1.0792,
          1.3424,
          1,
          2.2648,
          2.534,
          2.0645,
          1.2041,
          2.1139,
          1.4472,
          1,
          2.4997,
          1.9345,
          1.1461,
          2.2095,
          2.2878,
          2.0569,
          0.6021,
          1.5798,
          1.9638,
          2.4314,
          1.9912,
          1.301,
          1.2041,
          2.2405,
          1.2041,
          1.3802,
          0.301,
          2.3054,
          1.8062,
          1.0792,
          2.2833,
          1.8451,
          1.1461,
          0.6021,
          2.4683,
          1.4472,
          1.8573,
          1.5051,
          1.9542,
          1.5315,
          1,
          2.5416,
          2.1072,
          1.716,
          1.301,
          0.301,
          2.0569,
          1.2041,
          2.1931,
          2.017,
          2.1761,
          2.4314,
          1.9542,
          2.1931,
          1.301,
          1.9243,
          2.6107,
          1.2041,
          2.3139,
          1.8451,
          1.2553,
          1.5563,
          1.7782,
          0.9031,
          2.2201,
          1.6435,
          1,
          0.301,
          1.6232,
          0.301,
          1.0792,
          0.9031,
          1.2553,
          1.2041,
          0.6021,
          0.301,
          1.4771,
          1.1461,
          1.6435,
          2.4314,
          1.1461,
          1,
          1,
          1.7482,
          0.9031,
          0.301,
          0.301,
          1.2304,
          1.2553,
          1.301,
          1.6021,
          2.0719,
          2.5024,
          2.2788,
          0.6021,
          1.9445,
          2.5132,
          2.3304,
          2.0569,
          1.8921,
          1.6021,
          1.6232,
          0.7782,
          1.7924,
          1.6628,
          1.1461,
          2.3345,
          1.2041,
          0.301,
          2.8727,
          1.3424,
          1.6232,
          1.2553,
          1.9823,
          2.7404,
          1.7634,
          1.3424,
          0.7782,
          1.2041,
          0.9031,
          0.9031,
          1.1461,
          1.6232,
          1.1461,
          1.415,
          2.6294,
          2.0934,
          1,
          1.0792,
          1.7634,
          1.7324,
          1.8195,
          1.7782,
          1.6021,
          0.7782,
          1.2041,
          1.9138,
          2.2253,
          0.9031,
          1.9445,
          1.415,
          1,
          2.4314,
          1.5315,
          2.2041,
          1.0792,
          1.9243,
          1.9445,
          0.7782,
          2.4314,
          2.1206,
          1.5315,
          0.9031,
          1.5315,
          2,
          1,
          1.1461,
          2.2648,
          1,
          1.5051,
          1.0792,
          1.5051,
          2.3464,
          1.2041,
          1.1461,
          0.6021,
          0.301,
          0.301,
          0.301,
          0.9031,
          0.301,
          0.301,
          1.6435,
          0.301,
          1.0792,
          0.301,
          2.2833,
          2.1072,
          0.301,
          0.301,
          0.301,
          0.301,
          1,
          1.3424,
          0.7782,
          2.4502,
          1.9823,
          1.1461,
          0.301,
          1.6435,
          1.301,
          1.415,
          1.3802,
          0.301,
          1.5798,
          0.301,
          2.3541,
          1.5563,
          0.301,
          0.301,
          1.9638,
          0.7782,
          1,
          0.7782,
          0.9031,
          1.301,
          0.301,
          1.5051,
          1.5798,
          2.3385,
          1.3802,
          1.9445,
          1.8921,
          0.6021,
          0.6021,
          2.6107,
          1.2041,
          1.6812,
          2.4742,
          1.9731,
          0.7782,
          1.1461,
          1.716,
          2.1931,
          1.3424,
          1.3424,
          1.7924,
          1.4771,
          2.2304,
          1.6232,
          1.301,
          0.9031,
          0.301,
          1.8062,
          2.017,
          1.2041,
          1.6812,
          1.415,
          1.4472,
          2.0414,
          1.3424,
          2.0864,
          1.415,
          1.3424,
          2.1818,
          1.0792,
          2.7243,
          2.3201,
          1.5798,
          1.6021,
          1.9031,
          1.2041,
          0.7782,
          1.5798,
          2.4564,
          1.8195,
          2.2878,
          1.0792,
          1.7924,
          1.8921,
          2.2355,
          1.6021,
          1.9823,
          1.5051,
          1.3424,
          2.3424
         ],
         "yaxis": "y"
        }
       ],
       "layout": {
        "legend": {
         "tracegroupgap": 0
        },
        "margin": {
         "t": 60
        },
        "template": {
         "data": {
          "bar": [
           {
            "error_x": {
             "color": "#2a3f5f"
            },
            "error_y": {
             "color": "#2a3f5f"
            },
            "marker": {
             "line": {
              "color": "#E5ECF6",
              "width": 0.5
             },
             "pattern": {
              "fillmode": "overlay",
              "size": 10,
              "solidity": 0.2
             }
            },
            "type": "bar"
           }
          ],
          "barpolar": [
           {
            "marker": {
             "line": {
              "color": "#E5ECF6",
              "width": 0.5
             },
             "pattern": {
              "fillmode": "overlay",
              "size": 10,
              "solidity": 0.2
             }
            },
            "type": "barpolar"
           }
          ],
          "carpet": [
           {
            "aaxis": {
             "endlinecolor": "#2a3f5f",
             "gridcolor": "white",
             "linecolor": "white",
             "minorgridcolor": "white",
             "startlinecolor": "#2a3f5f"
            },
            "baxis": {
             "endlinecolor": "#2a3f5f",
             "gridcolor": "white",
             "linecolor": "white",
             "minorgridcolor": "white",
             "startlinecolor": "#2a3f5f"
            },
            "type": "carpet"
           }
          ],
          "choropleth": [
           {
            "colorbar": {
             "outlinewidth": 0,
             "ticks": ""
            },
            "type": "choropleth"
           }
          ],
          "contour": [
           {
            "colorbar": {
             "outlinewidth": 0,
             "ticks": ""
            },
            "colorscale": [
             [
              0,
              "#0d0887"
             ],
             [
              0.1111111111111111,
              "#46039f"
             ],
             [
              0.2222222222222222,
              "#7201a8"
             ],
             [
              0.3333333333333333,
              "#9c179e"
             ],
             [
              0.4444444444444444,
              "#bd3786"
             ],
             [
              0.5555555555555556,
              "#d8576b"
             ],
             [
              0.6666666666666666,
              "#ed7953"
             ],
             [
              0.7777777777777778,
              "#fb9f3a"
             ],
             [
              0.8888888888888888,
              "#fdca26"
             ],
             [
              1,
              "#f0f921"
             ]
            ],
            "type": "contour"
           }
          ],
          "contourcarpet": [
           {
            "colorbar": {
             "outlinewidth": 0,
             "ticks": ""
            },
            "type": "contourcarpet"
           }
          ],
          "heatmap": [
           {
            "colorbar": {
             "outlinewidth": 0,
             "ticks": ""
            },
            "colorscale": [
             [
              0,
              "#0d0887"
             ],
             [
              0.1111111111111111,
              "#46039f"
             ],
             [
              0.2222222222222222,
              "#7201a8"
             ],
             [
              0.3333333333333333,
              "#9c179e"
             ],
             [
              0.4444444444444444,
              "#bd3786"
             ],
             [
              0.5555555555555556,
              "#d8576b"
             ],
             [
              0.6666666666666666,
              "#ed7953"
             ],
             [
              0.7777777777777778,
              "#fb9f3a"
             ],
             [
              0.8888888888888888,
              "#fdca26"
             ],
             [
              1,
              "#f0f921"
             ]
            ],
            "type": "heatmap"
           }
          ],
          "heatmapgl": [
           {
            "colorbar": {
             "outlinewidth": 0,
             "ticks": ""
            },
            "colorscale": [
             [
              0,
              "#0d0887"
             ],
             [
              0.1111111111111111,
              "#46039f"
             ],
             [
              0.2222222222222222,
              "#7201a8"
             ],
             [
              0.3333333333333333,
              "#9c179e"
             ],
             [
              0.4444444444444444,
              "#bd3786"
             ],
             [
              0.5555555555555556,
              "#d8576b"
             ],
             [
              0.6666666666666666,
              "#ed7953"
             ],
             [
              0.7777777777777778,
              "#fb9f3a"
             ],
             [
              0.8888888888888888,
              "#fdca26"
             ],
             [
              1,
              "#f0f921"
             ]
            ],
            "type": "heatmapgl"
           }
          ],
          "histogram": [
           {
            "marker": {
             "pattern": {
              "fillmode": "overlay",
              "size": 10,
              "solidity": 0.2
             }
            },
            "type": "histogram"
           }
          ],
          "histogram2d": [
           {
            "colorbar": {
             "outlinewidth": 0,
             "ticks": ""
            },
            "colorscale": [
             [
              0,
              "#0d0887"
             ],
             [
              0.1111111111111111,
              "#46039f"
             ],
             [
              0.2222222222222222,
              "#7201a8"
             ],
             [
              0.3333333333333333,
              "#9c179e"
             ],
             [
              0.4444444444444444,
              "#bd3786"
             ],
             [
              0.5555555555555556,
              "#d8576b"
             ],
             [
              0.6666666666666666,
              "#ed7953"
             ],
             [
              0.7777777777777778,
              "#fb9f3a"
             ],
             [
              0.8888888888888888,
              "#fdca26"
             ],
             [
              1,
              "#f0f921"
             ]
            ],
            "type": "histogram2d"
           }
          ],
          "histogram2dcontour": [
           {
            "colorbar": {
             "outlinewidth": 0,
             "ticks": ""
            },
            "colorscale": [
             [
              0,
              "#0d0887"
             ],
             [
              0.1111111111111111,
              "#46039f"
             ],
             [
              0.2222222222222222,
              "#7201a8"
             ],
             [
              0.3333333333333333,
              "#9c179e"
             ],
             [
              0.4444444444444444,
              "#bd3786"
             ],
             [
              0.5555555555555556,
              "#d8576b"
             ],
             [
              0.6666666666666666,
              "#ed7953"
             ],
             [
              0.7777777777777778,
              "#fb9f3a"
             ],
             [
              0.8888888888888888,
              "#fdca26"
             ],
             [
              1,
              "#f0f921"
             ]
            ],
            "type": "histogram2dcontour"
           }
          ],
          "mesh3d": [
           {
            "colorbar": {
             "outlinewidth": 0,
             "ticks": ""
            },
            "type": "mesh3d"
           }
          ],
          "parcoords": [
           {
            "line": {
             "colorbar": {
              "outlinewidth": 0,
              "ticks": ""
             }
            },
            "type": "parcoords"
           }
          ],
          "pie": [
           {
            "automargin": true,
            "type": "pie"
           }
          ],
          "scatter": [
           {
            "fillpattern": {
             "fillmode": "overlay",
             "size": 10,
             "solidity": 0.2
            },
            "type": "scatter"
           }
          ],
          "scatter3d": [
           {
            "line": {
             "colorbar": {
              "outlinewidth": 0,
              "ticks": ""
             }
            },
            "marker": {
             "colorbar": {
              "outlinewidth": 0,
              "ticks": ""
             }
            },
            "type": "scatter3d"
           }
          ],
          "scattercarpet": [
           {
            "marker": {
             "colorbar": {
              "outlinewidth": 0,
              "ticks": ""
             }
            },
            "type": "scattercarpet"
           }
          ],
          "scattergeo": [
           {
            "marker": {
             "colorbar": {
              "outlinewidth": 0,
              "ticks": ""
             }
            },
            "type": "scattergeo"
           }
          ],
          "scattergl": [
           {
            "marker": {
             "colorbar": {
              "outlinewidth": 0,
              "ticks": ""
             }
            },
            "type": "scattergl"
           }
          ],
          "scattermapbox": [
           {
            "marker": {
             "colorbar": {
              "outlinewidth": 0,
              "ticks": ""
             }
            },
            "type": "scattermapbox"
           }
          ],
          "scatterpolar": [
           {
            "marker": {
             "colorbar": {
              "outlinewidth": 0,
              "ticks": ""
             }
            },
            "type": "scatterpolar"
           }
          ],
          "scatterpolargl": [
           {
            "marker": {
             "colorbar": {
              "outlinewidth": 0,
              "ticks": ""
             }
            },
            "type": "scatterpolargl"
           }
          ],
          "scatterternary": [
           {
            "marker": {
             "colorbar": {
              "outlinewidth": 0,
              "ticks": ""
             }
            },
            "type": "scatterternary"
           }
          ],
          "surface": [
           {
            "colorbar": {
             "outlinewidth": 0,
             "ticks": ""
            },
            "colorscale": [
             [
              0,
              "#0d0887"
             ],
             [
              0.1111111111111111,
              "#46039f"
             ],
             [
              0.2222222222222222,
              "#7201a8"
             ],
             [
              0.3333333333333333,
              "#9c179e"
             ],
             [
              0.4444444444444444,
              "#bd3786"
             ],
             [
              0.5555555555555556,
              "#d8576b"
             ],
             [
              0.6666666666666666,
              "#ed7953"
             ],
             [
              0.7777777777777778,
              "#fb9f3a"
             ],
             [
              0.8888888888888888,
              "#fdca26"
             ],
             [
              1,
              "#f0f921"
             ]
            ],
            "type": "surface"
           }
          ],
          "table": [
           {
            "cells": {
             "fill": {
              "color": "#EBF0F8"
             },
             "line": {
              "color": "white"
             }
            },
            "header": {
             "fill": {
              "color": "#C8D4E3"
             },
             "line": {
              "color": "white"
             }
            },
            "type": "table"
           }
          ]
         },
         "layout": {
          "annotationdefaults": {
           "arrowcolor": "#2a3f5f",
           "arrowhead": 0,
           "arrowwidth": 1
          },
          "autotypenumbers": "strict",
          "coloraxis": {
           "colorbar": {
            "outlinewidth": 0,
            "ticks": ""
           }
          },
          "colorscale": {
           "diverging": [
            [
             0,
             "#8e0152"
            ],
            [
             0.1,
             "#c51b7d"
            ],
            [
             0.2,
             "#de77ae"
            ],
            [
             0.3,
             "#f1b6da"
            ],
            [
             0.4,
             "#fde0ef"
            ],
            [
             0.5,
             "#f7f7f7"
            ],
            [
             0.6,
             "#e6f5d0"
            ],
            [
             0.7,
             "#b8e186"
            ],
            [
             0.8,
             "#7fbc41"
            ],
            [
             0.9,
             "#4d9221"
            ],
            [
             1,
             "#276419"
            ]
           ],
           "sequential": [
            [
             0,
             "#0d0887"
            ],
            [
             0.1111111111111111,
             "#46039f"
            ],
            [
             0.2222222222222222,
             "#7201a8"
            ],
            [
             0.3333333333333333,
             "#9c179e"
            ],
            [
             0.4444444444444444,
             "#bd3786"
            ],
            [
             0.5555555555555556,
             "#d8576b"
            ],
            [
             0.6666666666666666,
             "#ed7953"
            ],
            [
             0.7777777777777778,
             "#fb9f3a"
            ],
            [
             0.8888888888888888,
             "#fdca26"
            ],
            [
             1,
             "#f0f921"
            ]
           ],
           "sequentialminus": [
            [
             0,
             "#0d0887"
            ],
            [
             0.1111111111111111,
             "#46039f"
            ],
            [
             0.2222222222222222,
             "#7201a8"
            ],
            [
             0.3333333333333333,
             "#9c179e"
            ],
            [
             0.4444444444444444,
             "#bd3786"
            ],
            [
             0.5555555555555556,
             "#d8576b"
            ],
            [
             0.6666666666666666,
             "#ed7953"
            ],
            [
             0.7777777777777778,
             "#fb9f3a"
            ],
            [
             0.8888888888888888,
             "#fdca26"
            ],
            [
             1,
             "#f0f921"
            ]
           ]
          },
          "colorway": [
           "#636efa",
           "#EF553B",
           "#00cc96",
           "#ab63fa",
           "#FFA15A",
           "#19d3f3",
           "#FF6692",
           "#B6E880",
           "#FF97FF",
           "#FECB52"
          ],
          "font": {
           "color": "#2a3f5f"
          },
          "geo": {
           "bgcolor": "white",
           "lakecolor": "white",
           "landcolor": "#E5ECF6",
           "showlakes": true,
           "showland": true,
           "subunitcolor": "white"
          },
          "hoverlabel": {
           "align": "left"
          },
          "hovermode": "closest",
          "mapbox": {
           "style": "light"
          },
          "paper_bgcolor": "white",
          "plot_bgcolor": "#E5ECF6",
          "polar": {
           "angularaxis": {
            "gridcolor": "white",
            "linecolor": "white",
            "ticks": ""
           },
           "bgcolor": "#E5ECF6",
           "radialaxis": {
            "gridcolor": "white",
            "linecolor": "white",
            "ticks": ""
           }
          },
          "scene": {
           "xaxis": {
            "backgroundcolor": "#E5ECF6",
            "gridcolor": "white",
            "gridwidth": 2,
            "linecolor": "white",
            "showbackground": true,
            "ticks": "",
            "zerolinecolor": "white"
           },
           "yaxis": {
            "backgroundcolor": "#E5ECF6",
            "gridcolor": "white",
            "gridwidth": 2,
            "linecolor": "white",
            "showbackground": true,
            "ticks": "",
            "zerolinecolor": "white"
           },
           "zaxis": {
            "backgroundcolor": "#E5ECF6",
            "gridcolor": "white",
            "gridwidth": 2,
            "linecolor": "white",
            "showbackground": true,
            "ticks": "",
            "zerolinecolor": "white"
           }
          },
          "shapedefaults": {
           "line": {
            "color": "#2a3f5f"
           }
          },
          "ternary": {
           "aaxis": {
            "gridcolor": "white",
            "linecolor": "white",
            "ticks": ""
           },
           "baxis": {
            "gridcolor": "white",
            "linecolor": "white",
            "ticks": ""
           },
           "bgcolor": "#E5ECF6",
           "caxis": {
            "gridcolor": "white",
            "linecolor": "white",
            "ticks": ""
           }
          },
          "title": {
           "x": 0.05
          },
          "xaxis": {
           "automargin": true,
           "gridcolor": "white",
           "linecolor": "white",
           "ticks": "",
           "title": {
            "standoff": 15
           },
           "zerolinecolor": "white",
           "zerolinewidth": 2
          },
          "yaxis": {
           "automargin": true,
           "gridcolor": "white",
           "linecolor": "white",
           "ticks": "",
           "title": {
            "standoff": 15
           },
           "zerolinecolor": "white",
           "zerolinewidth": 2
          }
         }
        },
        "xaxis": {
         "anchor": "y",
         "domain": [
          0,
          1
         ],
         "title": {
          "text": "TURB_NTRU"
         }
        },
        "yaxis": {
         "anchor": "x",
         "domain": [
          0,
          1
         ],
         "title": {
          "text": "ECOLI_LOG10"
         }
        }
       }
      }
     },
     "metadata": {},
     "output_type": "display_data"
    },
    {
     "data": {
      "application/vnd.plotly.v1+json": {
       "config": {
        "plotlyServerURL": "https://plot.ly"
       },
       "data": [
        {
         "hovertemplate": "RHUM_PCT=%{x}<br>ECOLI_LOG10=%{y}<extra></extra>",
         "legendgroup": "",
         "marker": {
          "color": "#636efa",
          "symbol": "circle"
         },
         "mode": "markers",
         "name": "",
         "orientation": "v",
         "showlegend": false,
         "type": "scatter",
         "x": [
          79,
          91,
          73,
          42,
          64,
          87,
          61,
          77,
          77,
          72,
          64,
          77,
          83,
          76,
          77,
          81,
          72,
          69,
          63,
          74,
          88,
          90,
          55,
          69,
          60,
          74,
          76,
          93,
          91,
          80,
          81,
          72,
          83,
          77,
          70,
          56,
          57,
          88,
          80,
          80,
          67,
          70,
          63,
          81,
          71,
          81,
          69,
          68,
          55,
          93,
          81,
          82,
          81,
          84,
          71,
          74,
          64,
          79,
          81,
          66,
          92,
          78,
          71,
          78,
          87,
          74,
          74,
          85,
          63,
          81,
          75,
          73,
          67,
          82,
          78,
          69,
          68,
          65,
          81,
          83,
          83,
          83,
          86,
          89,
          67,
          67,
          64,
          67,
          65,
          82,
          86,
          82,
          88,
          73,
          71,
          70,
          73,
          74,
          54,
          69,
          90,
          86,
          79,
          66,
          67,
          71,
          51,
          83,
          90,
          92,
          80,
          90,
          83,
          90,
          86,
          82,
          89,
          74,
          59,
          82,
          84,
          90,
          73,
          88,
          85,
          81,
          63,
          78,
          70,
          77,
          83,
          72,
          77,
          73,
          78,
          64,
          65,
          84,
          84,
          77,
          60,
          61,
          58,
          52,
          70,
          67,
          68,
          65,
          70,
          66,
          69,
          71,
          70,
          72,
          69,
          83,
          78,
          67,
          66,
          85,
          71,
          72,
          81,
          46,
          76,
          71,
          66,
          88,
          70,
          73,
          74,
          66,
          71,
          78,
          68,
          71,
          84,
          76,
          68,
          78,
          75,
          77,
          61,
          51,
          57,
          77,
          51,
          66,
          59,
          65,
          80,
          70,
          60,
          47,
          52,
          49,
          60,
          77,
          51,
          68,
          54,
          88,
          67,
          58,
          57,
          54,
          56,
          78,
          67,
          77,
          80,
          77,
          76,
          66,
          60,
          76,
          78,
          77,
          74,
          68,
          76,
          51,
          67,
          54,
          84,
          84,
          72,
          74,
          65,
          62,
          67,
          78,
          90,
          76,
          113,
          75,
          66,
          72,
          75,
          63,
          62,
          73,
          64,
          87,
          80,
          76,
          71,
          79,
          71,
          80,
          81,
          74,
          79,
          65,
          60,
          85,
          78,
          77,
          79,
          71,
          70,
          121.05600000000231,
          70,
          78,
          68,
          78,
          79,
          80,
          69,
          54,
          68,
          67,
          49,
          71,
          88,
          77,
          76,
          76,
          56,
          73,
          55,
          57,
          72,
          71,
          70,
          75,
          72,
          62,
          77,
          76,
          71,
          53,
          77,
          69,
          59,
          60,
          66,
          65,
          53,
          90,
          88,
          73,
          63,
          78,
          65,
          77,
          78,
          79,
          62,
          53,
          85,
          85,
          83,
          71,
          68,
          74,
          76,
          72,
          68,
          72,
          72,
          83,
          76,
          69,
          71,
          73,
          78,
          76,
          65,
          78,
          68,
          59,
          70,
          71,
          66,
          72,
          74,
          56,
          59,
          76,
          81,
          70,
          66,
          68,
          79,
          61,
          78,
          77,
          64,
          72,
          68,
          57,
          63,
          83,
          61,
          62,
          62,
          64,
          73,
          78,
          62,
          60,
          73,
          84,
          49,
          78,
          78,
          73,
          64,
          71,
          76,
          78,
          72,
          79,
          84,
          67,
          59,
          80,
          55,
          86,
          63,
          59,
          87,
          65,
          66,
          49,
          79,
          71,
          81,
          65,
          80,
          66,
          85,
          84,
          81,
          51,
          75,
          90,
          70,
          65,
          61,
          64,
          73,
          82,
          74,
          64,
          53,
          55,
          72,
          66,
          63,
          52,
          61,
          62,
          69,
          62,
          74,
          66,
          56,
          61,
          89,
          76,
          71,
          87,
          70,
          77,
          70,
          78,
          79,
          74,
          75,
          78,
          77,
          71,
          68,
          68,
          76,
          77,
          84,
          86,
          71,
          66,
          76,
          86,
          80,
          73,
          79,
          83,
          83,
          77,
          87,
          76,
          59,
          57,
          79,
          77,
          90,
          68,
          68,
          65,
          81,
          79,
          83
         ],
         "xaxis": "x",
         "y": [
          0.6021,
          0.301,
          0.301,
          0.301,
          1.0792,
          2.4378,
          1.5563,
          1.5563,
          1.2041,
          0.301,
          0.301,
          2.3729,
          0.6021,
          1.3802,
          2.1271,
          1.3802,
          2.0934,
          1.6232,
          2.3424,
          2.0414,
          1.7634,
          2.0645,
          0.7782,
          2.2253,
          0.301,
          1.6628,
          2.444,
          2.0934,
          2.4969,
          1.4771,
          2.3464,
          2.3945,
          1.9542,
          1.6812,
          2.2923,
          2.2648,
          1.415,
          1.699,
          1.8921,
          2.4314,
          2,
          1,
          0.7782,
          1.7782,
          1.6021,
          2.6758,
          1.6628,
          1,
          0.7782,
          1.415,
          2.3655,
          1.8062,
          0.301,
          2.3766,
          2.2742,
          2.2304,
          2.0086,
          2.0864,
          1.9912,
          1.716,
          1.3424,
          1.5051,
          1.3802,
          1.2041,
          2.5159,
          1.7324,
          1.5563,
          2.3181,
          2.3464,
          1.4771,
          1.301,
          1.301,
          2.0934,
          2.2148,
          2.6848,
          2.2923,
          1.7924,
          1.5315,
          1.2553,
          1.0792,
          2.1004,
          1.415,
          1.301,
          2.0334,
          1.6232,
          1.3424,
          1.415,
          1.5563,
          1.4472,
          2.301,
          1.9243,
          2.1584,
          2.1206,
          1.1461,
          1.9243,
          1.2041,
          0.301,
          1.2553,
          0.301,
          1.1461,
          2.4502,
          3.0017,
          0.6021,
          0.301,
          0.9031,
          2.8704,
          1,
          2.5416,
          2.8998,
          1.9494,
          1.1461,
          0.301,
          2.5821,
          1.1461,
          1.9823,
          1.8573,
          2.7364,
          1.8451,
          0.4771,
          1.7853,
          1.8573,
          1.8367,
          1.3617,
          0.8129,
          1.7033,
          1.0792,
          0.301,
          1.0792,
          1.3802,
          2.5465,
          1,
          1.2553,
          2.1523,
          2.9647,
          2.7578,
          1.9395,
          1.6628,
          1.9912,
          2.0607,
          2.1861,
          2.0719,
          1.9031,
          0.301,
          1.2041,
          0.301,
          0.6021,
          1.2175,
          1.8195,
          1.5378,
          1,
          0.6021,
          0.9031,
          1.0792,
          1,
          1.5315,
          2.4955,
          2.2188,
          1.5798,
          1.9395,
          1.2041,
          0.7782,
          1.0792,
          1.3424,
          2.2833,
          0.301,
          0.301,
          1.5911,
          1.7033,
          1.1461,
          1.1461,
          1.301,
          1.7324,
          0.301,
          2.0864,
          0.7782,
          0.9031,
          0.301,
          0.301,
          1.7924,
          2.6758,
          2.5729,
          2.0253,
          2.1089,
          1.4624,
          0.7782,
          1.2041,
          1.2041,
          0.9031,
          0.301,
          0.6021,
          1.6021,
          1.2553,
          0.301,
          1.2041,
          2.1523,
          1.415,
          2.0253,
          1.0792,
          1.3424,
          1,
          2.2648,
          2.534,
          2.0645,
          1.2041,
          2.1139,
          1.4472,
          1,
          2.4997,
          1.9345,
          1.1461,
          2.2095,
          2.2878,
          2.0569,
          0.6021,
          1.5798,
          1.9638,
          2.4314,
          1.9912,
          1.301,
          1.2041,
          2.2405,
          1.2041,
          1.3802,
          0.301,
          2.3054,
          1.8062,
          1.0792,
          2.2833,
          1.8451,
          1.1461,
          0.6021,
          2.4683,
          1.4472,
          1.8573,
          1.5051,
          1.9542,
          1.5315,
          1,
          2.5416,
          2.1072,
          1.716,
          1.301,
          0.301,
          2.0569,
          1.2041,
          2.1931,
          2.017,
          2.1761,
          2.4314,
          1.9542,
          2.1931,
          1.301,
          1.9243,
          2.6107,
          1.2041,
          2.3139,
          1.8451,
          1.2553,
          1.5563,
          1.7782,
          0.9031,
          2.2201,
          1.6435,
          1,
          0.301,
          1.6232,
          0.301,
          1.0792,
          0.9031,
          1.2553,
          1.2041,
          0.6021,
          0.301,
          1.4771,
          1.1461,
          1.6435,
          2.4314,
          1.1461,
          1,
          1,
          1.7482,
          0.9031,
          0.301,
          0.301,
          1.2304,
          1.2553,
          1.301,
          1.6021,
          2.0719,
          2.5024,
          2.2788,
          0.6021,
          1.9445,
          2.5132,
          2.3304,
          2.0569,
          1.8921,
          1.6021,
          1.6232,
          0.7782,
          1.7924,
          1.6628,
          1.1461,
          2.3345,
          1.2041,
          0.301,
          2.8727,
          1.3424,
          1.6232,
          1.2553,
          1.9823,
          2.7404,
          1.7634,
          1.3424,
          0.7782,
          1.2041,
          0.9031,
          0.9031,
          1.1461,
          1.6232,
          1.1461,
          1.415,
          2.6294,
          2.0934,
          1,
          1.0792,
          1.7634,
          1.7324,
          1.8195,
          1.7782,
          1.6021,
          0.7782,
          1.2041,
          1.9138,
          2.2253,
          0.9031,
          1.9445,
          1.415,
          1,
          2.4314,
          1.5315,
          2.2041,
          1.0792,
          1.9243,
          1.9445,
          0.7782,
          2.4314,
          2.1206,
          1.5315,
          0.9031,
          1.5315,
          2,
          1,
          1.1461,
          2.2648,
          1,
          1.5051,
          1.0792,
          1.5051,
          2.3464,
          1.2041,
          1.1461,
          0.6021,
          0.301,
          0.301,
          0.301,
          0.9031,
          0.301,
          0.301,
          1.6435,
          0.301,
          1.0792,
          0.301,
          2.2833,
          2.1072,
          0.301,
          0.301,
          0.301,
          0.301,
          1,
          1.3424,
          0.7782,
          2.4502,
          1.9823,
          1.1461,
          0.301,
          1.6435,
          1.301,
          1.415,
          1.3802,
          0.301,
          1.5798,
          0.301,
          2.3541,
          1.5563,
          0.301,
          0.301,
          1.9638,
          0.7782,
          1,
          0.7782,
          0.9031,
          1.301,
          0.301,
          1.5051,
          1.5798,
          2.3385,
          1.3802,
          1.9445,
          1.8921,
          0.6021,
          0.6021,
          2.6107,
          1.2041,
          1.6812,
          2.4742,
          1.9731,
          0.7782,
          1.1461,
          1.716,
          2.1931,
          1.3424,
          1.3424,
          1.7924,
          1.4771,
          2.2304,
          1.6232,
          1.301,
          0.9031,
          0.301,
          1.8062,
          2.017,
          1.2041,
          1.6812,
          1.415,
          1.4472,
          2.0414,
          1.3424,
          2.0864,
          1.415,
          1.3424,
          2.1818,
          1.0792,
          2.7243,
          2.3201,
          1.5798,
          1.6021,
          1.9031,
          1.2041,
          0.7782,
          1.5798,
          2.4564,
          1.8195,
          2.2878,
          1.0792,
          1.7924,
          1.8921,
          2.2355,
          1.6021,
          1.9823,
          1.5051,
          1.3424,
          2.3424
         ],
         "yaxis": "y"
        }
       ],
       "layout": {
        "legend": {
         "tracegroupgap": 0
        },
        "margin": {
         "t": 60
        },
        "template": {
         "data": {
          "bar": [
           {
            "error_x": {
             "color": "#2a3f5f"
            },
            "error_y": {
             "color": "#2a3f5f"
            },
            "marker": {
             "line": {
              "color": "#E5ECF6",
              "width": 0.5
             },
             "pattern": {
              "fillmode": "overlay",
              "size": 10,
              "solidity": 0.2
             }
            },
            "type": "bar"
           }
          ],
          "barpolar": [
           {
            "marker": {
             "line": {
              "color": "#E5ECF6",
              "width": 0.5
             },
             "pattern": {
              "fillmode": "overlay",
              "size": 10,
              "solidity": 0.2
             }
            },
            "type": "barpolar"
           }
          ],
          "carpet": [
           {
            "aaxis": {
             "endlinecolor": "#2a3f5f",
             "gridcolor": "white",
             "linecolor": "white",
             "minorgridcolor": "white",
             "startlinecolor": "#2a3f5f"
            },
            "baxis": {
             "endlinecolor": "#2a3f5f",
             "gridcolor": "white",
             "linecolor": "white",
             "minorgridcolor": "white",
             "startlinecolor": "#2a3f5f"
            },
            "type": "carpet"
           }
          ],
          "choropleth": [
           {
            "colorbar": {
             "outlinewidth": 0,
             "ticks": ""
            },
            "type": "choropleth"
           }
          ],
          "contour": [
           {
            "colorbar": {
             "outlinewidth": 0,
             "ticks": ""
            },
            "colorscale": [
             [
              0,
              "#0d0887"
             ],
             [
              0.1111111111111111,
              "#46039f"
             ],
             [
              0.2222222222222222,
              "#7201a8"
             ],
             [
              0.3333333333333333,
              "#9c179e"
             ],
             [
              0.4444444444444444,
              "#bd3786"
             ],
             [
              0.5555555555555556,
              "#d8576b"
             ],
             [
              0.6666666666666666,
              "#ed7953"
             ],
             [
              0.7777777777777778,
              "#fb9f3a"
             ],
             [
              0.8888888888888888,
              "#fdca26"
             ],
             [
              1,
              "#f0f921"
             ]
            ],
            "type": "contour"
           }
          ],
          "contourcarpet": [
           {
            "colorbar": {
             "outlinewidth": 0,
             "ticks": ""
            },
            "type": "contourcarpet"
           }
          ],
          "heatmap": [
           {
            "colorbar": {
             "outlinewidth": 0,
             "ticks": ""
            },
            "colorscale": [
             [
              0,
              "#0d0887"
             ],
             [
              0.1111111111111111,
              "#46039f"
             ],
             [
              0.2222222222222222,
              "#7201a8"
             ],
             [
              0.3333333333333333,
              "#9c179e"
             ],
             [
              0.4444444444444444,
              "#bd3786"
             ],
             [
              0.5555555555555556,
              "#d8576b"
             ],
             [
              0.6666666666666666,
              "#ed7953"
             ],
             [
              0.7777777777777778,
              "#fb9f3a"
             ],
             [
              0.8888888888888888,
              "#fdca26"
             ],
             [
              1,
              "#f0f921"
             ]
            ],
            "type": "heatmap"
           }
          ],
          "heatmapgl": [
           {
            "colorbar": {
             "outlinewidth": 0,
             "ticks": ""
            },
            "colorscale": [
             [
              0,
              "#0d0887"
             ],
             [
              0.1111111111111111,
              "#46039f"
             ],
             [
              0.2222222222222222,
              "#7201a8"
             ],
             [
              0.3333333333333333,
              "#9c179e"
             ],
             [
              0.4444444444444444,
              "#bd3786"
             ],
             [
              0.5555555555555556,
              "#d8576b"
             ],
             [
              0.6666666666666666,
              "#ed7953"
             ],
             [
              0.7777777777777778,
              "#fb9f3a"
             ],
             [
              0.8888888888888888,
              "#fdca26"
             ],
             [
              1,
              "#f0f921"
             ]
            ],
            "type": "heatmapgl"
           }
          ],
          "histogram": [
           {
            "marker": {
             "pattern": {
              "fillmode": "overlay",
              "size": 10,
              "solidity": 0.2
             }
            },
            "type": "histogram"
           }
          ],
          "histogram2d": [
           {
            "colorbar": {
             "outlinewidth": 0,
             "ticks": ""
            },
            "colorscale": [
             [
              0,
              "#0d0887"
             ],
             [
              0.1111111111111111,
              "#46039f"
             ],
             [
              0.2222222222222222,
              "#7201a8"
             ],
             [
              0.3333333333333333,
              "#9c179e"
             ],
             [
              0.4444444444444444,
              "#bd3786"
             ],
             [
              0.5555555555555556,
              "#d8576b"
             ],
             [
              0.6666666666666666,
              "#ed7953"
             ],
             [
              0.7777777777777778,
              "#fb9f3a"
             ],
             [
              0.8888888888888888,
              "#fdca26"
             ],
             [
              1,
              "#f0f921"
             ]
            ],
            "type": "histogram2d"
           }
          ],
          "histogram2dcontour": [
           {
            "colorbar": {
             "outlinewidth": 0,
             "ticks": ""
            },
            "colorscale": [
             [
              0,
              "#0d0887"
             ],
             [
              0.1111111111111111,
              "#46039f"
             ],
             [
              0.2222222222222222,
              "#7201a8"
             ],
             [
              0.3333333333333333,
              "#9c179e"
             ],
             [
              0.4444444444444444,
              "#bd3786"
             ],
             [
              0.5555555555555556,
              "#d8576b"
             ],
             [
              0.6666666666666666,
              "#ed7953"
             ],
             [
              0.7777777777777778,
              "#fb9f3a"
             ],
             [
              0.8888888888888888,
              "#fdca26"
             ],
             [
              1,
              "#f0f921"
             ]
            ],
            "type": "histogram2dcontour"
           }
          ],
          "mesh3d": [
           {
            "colorbar": {
             "outlinewidth": 0,
             "ticks": ""
            },
            "type": "mesh3d"
           }
          ],
          "parcoords": [
           {
            "line": {
             "colorbar": {
              "outlinewidth": 0,
              "ticks": ""
             }
            },
            "type": "parcoords"
           }
          ],
          "pie": [
           {
            "automargin": true,
            "type": "pie"
           }
          ],
          "scatter": [
           {
            "fillpattern": {
             "fillmode": "overlay",
             "size": 10,
             "solidity": 0.2
            },
            "type": "scatter"
           }
          ],
          "scatter3d": [
           {
            "line": {
             "colorbar": {
              "outlinewidth": 0,
              "ticks": ""
             }
            },
            "marker": {
             "colorbar": {
              "outlinewidth": 0,
              "ticks": ""
             }
            },
            "type": "scatter3d"
           }
          ],
          "scattercarpet": [
           {
            "marker": {
             "colorbar": {
              "outlinewidth": 0,
              "ticks": ""
             }
            },
            "type": "scattercarpet"
           }
          ],
          "scattergeo": [
           {
            "marker": {
             "colorbar": {
              "outlinewidth": 0,
              "ticks": ""
             }
            },
            "type": "scattergeo"
           }
          ],
          "scattergl": [
           {
            "marker": {
             "colorbar": {
              "outlinewidth": 0,
              "ticks": ""
             }
            },
            "type": "scattergl"
           }
          ],
          "scattermapbox": [
           {
            "marker": {
             "colorbar": {
              "outlinewidth": 0,
              "ticks": ""
             }
            },
            "type": "scattermapbox"
           }
          ],
          "scatterpolar": [
           {
            "marker": {
             "colorbar": {
              "outlinewidth": 0,
              "ticks": ""
             }
            },
            "type": "scatterpolar"
           }
          ],
          "scatterpolargl": [
           {
            "marker": {
             "colorbar": {
              "outlinewidth": 0,
              "ticks": ""
             }
            },
            "type": "scatterpolargl"
           }
          ],
          "scatterternary": [
           {
            "marker": {
             "colorbar": {
              "outlinewidth": 0,
              "ticks": ""
             }
            },
            "type": "scatterternary"
           }
          ],
          "surface": [
           {
            "colorbar": {
             "outlinewidth": 0,
             "ticks": ""
            },
            "colorscale": [
             [
              0,
              "#0d0887"
             ],
             [
              0.1111111111111111,
              "#46039f"
             ],
             [
              0.2222222222222222,
              "#7201a8"
             ],
             [
              0.3333333333333333,
              "#9c179e"
             ],
             [
              0.4444444444444444,
              "#bd3786"
             ],
             [
              0.5555555555555556,
              "#d8576b"
             ],
             [
              0.6666666666666666,
              "#ed7953"
             ],
             [
              0.7777777777777778,
              "#fb9f3a"
             ],
             [
              0.8888888888888888,
              "#fdca26"
             ],
             [
              1,
              "#f0f921"
             ]
            ],
            "type": "surface"
           }
          ],
          "table": [
           {
            "cells": {
             "fill": {
              "color": "#EBF0F8"
             },
             "line": {
              "color": "white"
             }
            },
            "header": {
             "fill": {
              "color": "#C8D4E3"
             },
             "line": {
              "color": "white"
             }
            },
            "type": "table"
           }
          ]
         },
         "layout": {
          "annotationdefaults": {
           "arrowcolor": "#2a3f5f",
           "arrowhead": 0,
           "arrowwidth": 1
          },
          "autotypenumbers": "strict",
          "coloraxis": {
           "colorbar": {
            "outlinewidth": 0,
            "ticks": ""
           }
          },
          "colorscale": {
           "diverging": [
            [
             0,
             "#8e0152"
            ],
            [
             0.1,
             "#c51b7d"
            ],
            [
             0.2,
             "#de77ae"
            ],
            [
             0.3,
             "#f1b6da"
            ],
            [
             0.4,
             "#fde0ef"
            ],
            [
             0.5,
             "#f7f7f7"
            ],
            [
             0.6,
             "#e6f5d0"
            ],
            [
             0.7,
             "#b8e186"
            ],
            [
             0.8,
             "#7fbc41"
            ],
            [
             0.9,
             "#4d9221"
            ],
            [
             1,
             "#276419"
            ]
           ],
           "sequential": [
            [
             0,
             "#0d0887"
            ],
            [
             0.1111111111111111,
             "#46039f"
            ],
            [
             0.2222222222222222,
             "#7201a8"
            ],
            [
             0.3333333333333333,
             "#9c179e"
            ],
            [
             0.4444444444444444,
             "#bd3786"
            ],
            [
             0.5555555555555556,
             "#d8576b"
            ],
            [
             0.6666666666666666,
             "#ed7953"
            ],
            [
             0.7777777777777778,
             "#fb9f3a"
            ],
            [
             0.8888888888888888,
             "#fdca26"
            ],
            [
             1,
             "#f0f921"
            ]
           ],
           "sequentialminus": [
            [
             0,
             "#0d0887"
            ],
            [
             0.1111111111111111,
             "#46039f"
            ],
            [
             0.2222222222222222,
             "#7201a8"
            ],
            [
             0.3333333333333333,
             "#9c179e"
            ],
            [
             0.4444444444444444,
             "#bd3786"
            ],
            [
             0.5555555555555556,
             "#d8576b"
            ],
            [
             0.6666666666666666,
             "#ed7953"
            ],
            [
             0.7777777777777778,
             "#fb9f3a"
            ],
            [
             0.8888888888888888,
             "#fdca26"
            ],
            [
             1,
             "#f0f921"
            ]
           ]
          },
          "colorway": [
           "#636efa",
           "#EF553B",
           "#00cc96",
           "#ab63fa",
           "#FFA15A",
           "#19d3f3",
           "#FF6692",
           "#B6E880",
           "#FF97FF",
           "#FECB52"
          ],
          "font": {
           "color": "#2a3f5f"
          },
          "geo": {
           "bgcolor": "white",
           "lakecolor": "white",
           "landcolor": "#E5ECF6",
           "showlakes": true,
           "showland": true,
           "subunitcolor": "white"
          },
          "hoverlabel": {
           "align": "left"
          },
          "hovermode": "closest",
          "mapbox": {
           "style": "light"
          },
          "paper_bgcolor": "white",
          "plot_bgcolor": "#E5ECF6",
          "polar": {
           "angularaxis": {
            "gridcolor": "white",
            "linecolor": "white",
            "ticks": ""
           },
           "bgcolor": "#E5ECF6",
           "radialaxis": {
            "gridcolor": "white",
            "linecolor": "white",
            "ticks": ""
           }
          },
          "scene": {
           "xaxis": {
            "backgroundcolor": "#E5ECF6",
            "gridcolor": "white",
            "gridwidth": 2,
            "linecolor": "white",
            "showbackground": true,
            "ticks": "",
            "zerolinecolor": "white"
           },
           "yaxis": {
            "backgroundcolor": "#E5ECF6",
            "gridcolor": "white",
            "gridwidth": 2,
            "linecolor": "white",
            "showbackground": true,
            "ticks": "",
            "zerolinecolor": "white"
           },
           "zaxis": {
            "backgroundcolor": "#E5ECF6",
            "gridcolor": "white",
            "gridwidth": 2,
            "linecolor": "white",
            "showbackground": true,
            "ticks": "",
            "zerolinecolor": "white"
           }
          },
          "shapedefaults": {
           "line": {
            "color": "#2a3f5f"
           }
          },
          "ternary": {
           "aaxis": {
            "gridcolor": "white",
            "linecolor": "white",
            "ticks": ""
           },
           "baxis": {
            "gridcolor": "white",
            "linecolor": "white",
            "ticks": ""
           },
           "bgcolor": "#E5ECF6",
           "caxis": {
            "gridcolor": "white",
            "linecolor": "white",
            "ticks": ""
           }
          },
          "title": {
           "x": 0.05
          },
          "xaxis": {
           "automargin": true,
           "gridcolor": "white",
           "linecolor": "white",
           "ticks": "",
           "title": {
            "standoff": 15
           },
           "zerolinecolor": "white",
           "zerolinewidth": 2
          },
          "yaxis": {
           "automargin": true,
           "gridcolor": "white",
           "linecolor": "white",
           "ticks": "",
           "title": {
            "standoff": 15
           },
           "zerolinecolor": "white",
           "zerolinewidth": 2
          }
         }
        },
        "xaxis": {
         "anchor": "y",
         "domain": [
          0,
          1
         ],
         "title": {
          "text": "RHUM_PCT"
         }
        },
        "yaxis": {
         "anchor": "x",
         "domain": [
          0,
          1
         ],
         "title": {
          "text": "ECOLI_LOG10"
         }
        }
       }
      }
     },
     "metadata": {},
     "output_type": "display_data"
    },
    {
     "data": {
      "application/vnd.plotly.v1+json": {
       "config": {
        "plotlyServerURL": "https://plot.ly"
       },
       "data": [
        {
         "hovertemplate": "WTEMP_CEL=%{x}<br>ECOLI_LOG10=%{y}<extra></extra>",
         "legendgroup": "",
         "marker": {
          "color": "#636efa",
          "symbol": "circle"
         },
         "mode": "markers",
         "name": "",
         "orientation": "v",
         "showlegend": false,
         "type": "scatter",
         "x": [
          15.44,
          10.56,
          16.83,
          9.22,
          10.56,
          13.5,
          15.89,
          16.17,
          16.61,
          17.78,
          17.56,
          17.61,
          17.89,
          17.28,
          18.83,
          18.78,
          17.33,
          18.94,
          18.39,
          20.72,
          20.83,
          20.56,
          19.56,
          17.39,
          18.83,
          17.17,
          19.5,
          20.11,
          21.11,
          22.06,
          22.5,
          23.89,
          23.17,
          24.22,
          21.83,
          22.56,
          22.72,
          22.5,
          23.67,
          22.56,
          23.33,
          23.11,
          22.11,
          22.44,
          23.78,
          24.78,
          21.78,
          22.39,
          22.17,
          21.78,
          22.22,
          22.72,
          23.39,
          23.72,
          21.56,
          21.61,
          22.33,
          23.56,
          22.78,
          21.39,
          21.44,
          21.33,
          21.39,
          22.78,
          22.17,
          23.06,
          23.56,
          23.11,
          23.44,
          22.83,
          22.72,
          23.17,
          22.39,
          22.39,
          21.22,
          20.78,
          19.61,
          19.22,
          21.06,
          21.56,
          21.06,
          21.67,
          23.06,
          21.83,
          22.94,
          21.67,
          21.94,
          21.61,
          21.72,
          22.39,
          22.39,
          23.33,
          22.44,
          22.67,
          22.89,
          18.67,
          19.39,
          18.94,
          18.17,
          18.72,
          17.5,
          15.11,
          13,
          12.61,
          11.94,
          13.39,
          12.33,
          14.83,
          14.44,
          19.39,
          19.17,
          19.39,
          18.78,
          18.06,
          18.94,
          20.22,
          21.28,
          21.28,
          21.5,
          20.61,
          26.89,
          21.78,
          19.11,
          22.11,
          20,
          20.56,
          19.72,
          18.67,
          21.44,
          20.78,
          20.94,
          21.78,
          21.67,
          21.22,
          20.33,
          19.83,
          19.06,
          20.5,
          23.44,
          23.28,
          21.94,
          22.28,
          23.33,
          22.39,
          24.39,
          24.22,
          24.39,
          24.22,
          24,
          23.72,
          23.72,
          23.78,
          23.5,
          23.44,
          24,
          23.56,
          22.89,
          21.83,
          22.22,
          23.28,
          24.28,
          25,
          24.89,
          22.78,
          22.83,
          22.61,
          22.67,
          21.17,
          20.78,
          20.83,
          24,
          24.39,
          20.78,
          20,
          20,
          19.11,
          16.67,
          20,
          19.83,
          21.11,
          17.78,
          18.33,
          17.67,
          17.22,
          18.06,
          18.61,
          18.94,
          18.33,
          18.33,
          18.61,
          18.56,
          18.72,
          19.5,
          19.28,
          20.56,
          21.11,
          20.33,
          21.17,
          20.33,
          20.78,
          21,
          22.17,
          22.17,
          21.44,
          20.83,
          21.5,
          21.78,
          21.72,
          22.89,
          23.56,
          24.22,
          23.61,
          23.67,
          24.44,
          23.78,
          24.67,
          24.72,
          25.17,
          24,
          24.11,
          24.5,
          24.17,
          23.83,
          24.06,
          24.72,
          25.72,
          26.44,
          26,
          29.78,
          25.72,
          28.72,
          25.5,
          24.83,
          26.67,
          27.39,
          25.61,
          27.44,
          25.28,
          24.72,
          24.89,
          24.89,
          25.11,
          24.67,
          25.56,
          26.89,
          27,
          26.06,
          26,
          25.44,
          25.33,
          25,
          24.78,
          24.72,
          25.28,
          24.67,
          25.06,
          25.33,
          25.28,
          25.33,
          24.72,
          24.67,
          24.28,
          23.39,
          22.94,
          23,
          14.5,
          15.89,
          15,
          16.72,
          17.17,
          17,
          16.56,
          17.39,
          17.06,
          17.94,
          17.56,
          15.67,
          17.33,
          17.78,
          18.17,
          19.56,
          20.56,
          21.11,
          20,
          19.56,
          21.56,
          22.11,
          22.61,
          22,
          21.39,
          21.56,
          22.39,
          22.44,
          22.06,
          21.67,
          20.78,
          20,
          19.72,
          21,
          22.06,
          22.28,
          22.5,
          22.89,
          22.72,
          21.94,
          22.44,
          23.06,
          23.06,
          22.17,
          22.5,
          23.67,
          23.78,
          24.5,
          23.61,
          24.5,
          24.44,
          24.89,
          25.39,
          26.11,
          26.28,
          25.28,
          25.78,
          25.94,
          22.17,
          22.78,
          23.17,
          23.17,
          22.94,
          21.89,
          23.17,
          23.89,
          23.78,
          24,
          24.44,
          22,
          21,
          20.89,
          21.39,
          22.17,
          22.61,
          21.17,
          21.67,
          21.78,
          21.78,
          22.39,
          22,
          23.39,
          23.17,
          22.56,
          23.39,
          24.11,
          22.72,
          21.06,
          22.44,
          21.39,
          21.72,
          21.22,
          20.67,
          21.28,
          21.06,
          20.61,
          19.28,
          13.61,
          15.83,
          16.28,
          16.44,
          16,
          18.39,
          13.56,
          15.5,
          16.11,
          16.44,
          12.78,
          14.5,
          15.11,
          14.39,
          15.56,
          17.56,
          16.28,
          14.89,
          15.39,
          16.17,
          16.56,
          16.89,
          18.67,
          19.61,
          19,
          21.06,
          20.17,
          19.17,
          17.89,
          12.78,
          14.72,
          17.39,
          16.5,
          13.17,
          14.39,
          17.06,
          18.72,
          20.44,
          20.78,
          22.28,
          23.39,
          23.78,
          23.89,
          24.28,
          23.72,
          22.28,
          23.28,
          22.56,
          22.39,
          23.61,
          23.5,
          23.56,
          24.06,
          25.83,
          24.06,
          24.89,
          23.17,
          22.83,
          20.78,
          21.39,
          21.89,
          22.06,
          22.78,
          23.11,
          23.22,
          23.5,
          22.67,
          22.67,
          22.39,
          22,
          23.67,
          23.56,
          23.5,
          24.28,
          24.28,
          24.17,
          23.78,
          25.11,
          24.33,
          24,
          24,
          23.39,
          23.89,
          24.5,
          24.83,
          24.44,
          24.72,
          23.28,
          23.56,
          23.72,
          22.72,
          22.72,
          22.83,
          22,
          23.72,
          24.5,
          25.17,
          23.44,
          23.39,
          23.72,
          23.61
         ],
         "xaxis": "x",
         "y": [
          0.6021,
          0.301,
          0.301,
          0.301,
          1.0792,
          2.4378,
          1.5563,
          1.5563,
          1.2041,
          0.301,
          0.301,
          2.3729,
          0.6021,
          1.3802,
          2.1271,
          1.3802,
          2.0934,
          1.6232,
          2.3424,
          2.0414,
          1.7634,
          2.0645,
          0.7782,
          2.2253,
          0.301,
          1.6628,
          2.444,
          2.0934,
          2.4969,
          1.4771,
          2.3464,
          2.3945,
          1.9542,
          1.6812,
          2.2923,
          2.2648,
          1.415,
          1.699,
          1.8921,
          2.4314,
          2,
          1,
          0.7782,
          1.7782,
          1.6021,
          2.6758,
          1.6628,
          1,
          0.7782,
          1.415,
          2.3655,
          1.8062,
          0.301,
          2.3766,
          2.2742,
          2.2304,
          2.0086,
          2.0864,
          1.9912,
          1.716,
          1.3424,
          1.5051,
          1.3802,
          1.2041,
          2.5159,
          1.7324,
          1.5563,
          2.3181,
          2.3464,
          1.4771,
          1.301,
          1.301,
          2.0934,
          2.2148,
          2.6848,
          2.2923,
          1.7924,
          1.5315,
          1.2553,
          1.0792,
          2.1004,
          1.415,
          1.301,
          2.0334,
          1.6232,
          1.3424,
          1.415,
          1.5563,
          1.4472,
          2.301,
          1.9243,
          2.1584,
          2.1206,
          1.1461,
          1.9243,
          1.2041,
          0.301,
          1.2553,
          0.301,
          1.1461,
          2.4502,
          3.0017,
          0.6021,
          0.301,
          0.9031,
          2.8704,
          1,
          2.5416,
          2.8998,
          1.9494,
          1.1461,
          0.301,
          2.5821,
          1.1461,
          1.9823,
          1.8573,
          2.7364,
          1.8451,
          0.4771,
          1.7853,
          1.8573,
          1.8367,
          1.3617,
          0.8129,
          1.7033,
          1.0792,
          0.301,
          1.0792,
          1.3802,
          2.5465,
          1,
          1.2553,
          2.1523,
          2.9647,
          2.7578,
          1.9395,
          1.6628,
          1.9912,
          2.0607,
          2.1861,
          2.0719,
          1.9031,
          0.301,
          1.2041,
          0.301,
          0.6021,
          1.2175,
          1.8195,
          1.5378,
          1,
          0.6021,
          0.9031,
          1.0792,
          1,
          1.5315,
          2.4955,
          2.2188,
          1.5798,
          1.9395,
          1.2041,
          0.7782,
          1.0792,
          1.3424,
          2.2833,
          0.301,
          0.301,
          1.5911,
          1.7033,
          1.1461,
          1.1461,
          1.301,
          1.7324,
          0.301,
          2.0864,
          0.7782,
          0.9031,
          0.301,
          0.301,
          1.7924,
          2.6758,
          2.5729,
          2.0253,
          2.1089,
          1.4624,
          0.7782,
          1.2041,
          1.2041,
          0.9031,
          0.301,
          0.6021,
          1.6021,
          1.2553,
          0.301,
          1.2041,
          2.1523,
          1.415,
          2.0253,
          1.0792,
          1.3424,
          1,
          2.2648,
          2.534,
          2.0645,
          1.2041,
          2.1139,
          1.4472,
          1,
          2.4997,
          1.9345,
          1.1461,
          2.2095,
          2.2878,
          2.0569,
          0.6021,
          1.5798,
          1.9638,
          2.4314,
          1.9912,
          1.301,
          1.2041,
          2.2405,
          1.2041,
          1.3802,
          0.301,
          2.3054,
          1.8062,
          1.0792,
          2.2833,
          1.8451,
          1.1461,
          0.6021,
          2.4683,
          1.4472,
          1.8573,
          1.5051,
          1.9542,
          1.5315,
          1,
          2.5416,
          2.1072,
          1.716,
          1.301,
          0.301,
          2.0569,
          1.2041,
          2.1931,
          2.017,
          2.1761,
          2.4314,
          1.9542,
          2.1931,
          1.301,
          1.9243,
          2.6107,
          1.2041,
          2.3139,
          1.8451,
          1.2553,
          1.5563,
          1.7782,
          0.9031,
          2.2201,
          1.6435,
          1,
          0.301,
          1.6232,
          0.301,
          1.0792,
          0.9031,
          1.2553,
          1.2041,
          0.6021,
          0.301,
          1.4771,
          1.1461,
          1.6435,
          2.4314,
          1.1461,
          1,
          1,
          1.7482,
          0.9031,
          0.301,
          0.301,
          1.2304,
          1.2553,
          1.301,
          1.6021,
          2.0719,
          2.5024,
          2.2788,
          0.6021,
          1.9445,
          2.5132,
          2.3304,
          2.0569,
          1.8921,
          1.6021,
          1.6232,
          0.7782,
          1.7924,
          1.6628,
          1.1461,
          2.3345,
          1.2041,
          0.301,
          2.8727,
          1.3424,
          1.6232,
          1.2553,
          1.9823,
          2.7404,
          1.7634,
          1.3424,
          0.7782,
          1.2041,
          0.9031,
          0.9031,
          1.1461,
          1.6232,
          1.1461,
          1.415,
          2.6294,
          2.0934,
          1,
          1.0792,
          1.7634,
          1.7324,
          1.8195,
          1.7782,
          1.6021,
          0.7782,
          1.2041,
          1.9138,
          2.2253,
          0.9031,
          1.9445,
          1.415,
          1,
          2.4314,
          1.5315,
          2.2041,
          1.0792,
          1.9243,
          1.9445,
          0.7782,
          2.4314,
          2.1206,
          1.5315,
          0.9031,
          1.5315,
          2,
          1,
          1.1461,
          2.2648,
          1,
          1.5051,
          1.0792,
          1.5051,
          2.3464,
          1.2041,
          1.1461,
          0.6021,
          0.301,
          0.301,
          0.301,
          0.9031,
          0.301,
          0.301,
          1.6435,
          0.301,
          1.0792,
          0.301,
          2.2833,
          2.1072,
          0.301,
          0.301,
          0.301,
          0.301,
          1,
          1.3424,
          0.7782,
          2.4502,
          1.9823,
          1.1461,
          0.301,
          1.6435,
          1.301,
          1.415,
          1.3802,
          0.301,
          1.5798,
          0.301,
          2.3541,
          1.5563,
          0.301,
          0.301,
          1.9638,
          0.7782,
          1,
          0.7782,
          0.9031,
          1.301,
          0.301,
          1.5051,
          1.5798,
          2.3385,
          1.3802,
          1.9445,
          1.8921,
          0.6021,
          0.6021,
          2.6107,
          1.2041,
          1.6812,
          2.4742,
          1.9731,
          0.7782,
          1.1461,
          1.716,
          2.1931,
          1.3424,
          1.3424,
          1.7924,
          1.4771,
          2.2304,
          1.6232,
          1.301,
          0.9031,
          0.301,
          1.8062,
          2.017,
          1.2041,
          1.6812,
          1.415,
          1.4472,
          2.0414,
          1.3424,
          2.0864,
          1.415,
          1.3424,
          2.1818,
          1.0792,
          2.7243,
          2.3201,
          1.5798,
          1.6021,
          1.9031,
          1.2041,
          0.7782,
          1.5798,
          2.4564,
          1.8195,
          2.2878,
          1.0792,
          1.7924,
          1.8921,
          2.2355,
          1.6021,
          1.9823,
          1.5051,
          1.3424,
          2.3424
         ],
         "yaxis": "y"
        }
       ],
       "layout": {
        "legend": {
         "tracegroupgap": 0
        },
        "margin": {
         "t": 60
        },
        "template": {
         "data": {
          "bar": [
           {
            "error_x": {
             "color": "#2a3f5f"
            },
            "error_y": {
             "color": "#2a3f5f"
            },
            "marker": {
             "line": {
              "color": "#E5ECF6",
              "width": 0.5
             },
             "pattern": {
              "fillmode": "overlay",
              "size": 10,
              "solidity": 0.2
             }
            },
            "type": "bar"
           }
          ],
          "barpolar": [
           {
            "marker": {
             "line": {
              "color": "#E5ECF6",
              "width": 0.5
             },
             "pattern": {
              "fillmode": "overlay",
              "size": 10,
              "solidity": 0.2
             }
            },
            "type": "barpolar"
           }
          ],
          "carpet": [
           {
            "aaxis": {
             "endlinecolor": "#2a3f5f",
             "gridcolor": "white",
             "linecolor": "white",
             "minorgridcolor": "white",
             "startlinecolor": "#2a3f5f"
            },
            "baxis": {
             "endlinecolor": "#2a3f5f",
             "gridcolor": "white",
             "linecolor": "white",
             "minorgridcolor": "white",
             "startlinecolor": "#2a3f5f"
            },
            "type": "carpet"
           }
          ],
          "choropleth": [
           {
            "colorbar": {
             "outlinewidth": 0,
             "ticks": ""
            },
            "type": "choropleth"
           }
          ],
          "contour": [
           {
            "colorbar": {
             "outlinewidth": 0,
             "ticks": ""
            },
            "colorscale": [
             [
              0,
              "#0d0887"
             ],
             [
              0.1111111111111111,
              "#46039f"
             ],
             [
              0.2222222222222222,
              "#7201a8"
             ],
             [
              0.3333333333333333,
              "#9c179e"
             ],
             [
              0.4444444444444444,
              "#bd3786"
             ],
             [
              0.5555555555555556,
              "#d8576b"
             ],
             [
              0.6666666666666666,
              "#ed7953"
             ],
             [
              0.7777777777777778,
              "#fb9f3a"
             ],
             [
              0.8888888888888888,
              "#fdca26"
             ],
             [
              1,
              "#f0f921"
             ]
            ],
            "type": "contour"
           }
          ],
          "contourcarpet": [
           {
            "colorbar": {
             "outlinewidth": 0,
             "ticks": ""
            },
            "type": "contourcarpet"
           }
          ],
          "heatmap": [
           {
            "colorbar": {
             "outlinewidth": 0,
             "ticks": ""
            },
            "colorscale": [
             [
              0,
              "#0d0887"
             ],
             [
              0.1111111111111111,
              "#46039f"
             ],
             [
              0.2222222222222222,
              "#7201a8"
             ],
             [
              0.3333333333333333,
              "#9c179e"
             ],
             [
              0.4444444444444444,
              "#bd3786"
             ],
             [
              0.5555555555555556,
              "#d8576b"
             ],
             [
              0.6666666666666666,
              "#ed7953"
             ],
             [
              0.7777777777777778,
              "#fb9f3a"
             ],
             [
              0.8888888888888888,
              "#fdca26"
             ],
             [
              1,
              "#f0f921"
             ]
            ],
            "type": "heatmap"
           }
          ],
          "heatmapgl": [
           {
            "colorbar": {
             "outlinewidth": 0,
             "ticks": ""
            },
            "colorscale": [
             [
              0,
              "#0d0887"
             ],
             [
              0.1111111111111111,
              "#46039f"
             ],
             [
              0.2222222222222222,
              "#7201a8"
             ],
             [
              0.3333333333333333,
              "#9c179e"
             ],
             [
              0.4444444444444444,
              "#bd3786"
             ],
             [
              0.5555555555555556,
              "#d8576b"
             ],
             [
              0.6666666666666666,
              "#ed7953"
             ],
             [
              0.7777777777777778,
              "#fb9f3a"
             ],
             [
              0.8888888888888888,
              "#fdca26"
             ],
             [
              1,
              "#f0f921"
             ]
            ],
            "type": "heatmapgl"
           }
          ],
          "histogram": [
           {
            "marker": {
             "pattern": {
              "fillmode": "overlay",
              "size": 10,
              "solidity": 0.2
             }
            },
            "type": "histogram"
           }
          ],
          "histogram2d": [
           {
            "colorbar": {
             "outlinewidth": 0,
             "ticks": ""
            },
            "colorscale": [
             [
              0,
              "#0d0887"
             ],
             [
              0.1111111111111111,
              "#46039f"
             ],
             [
              0.2222222222222222,
              "#7201a8"
             ],
             [
              0.3333333333333333,
              "#9c179e"
             ],
             [
              0.4444444444444444,
              "#bd3786"
             ],
             [
              0.5555555555555556,
              "#d8576b"
             ],
             [
              0.6666666666666666,
              "#ed7953"
             ],
             [
              0.7777777777777778,
              "#fb9f3a"
             ],
             [
              0.8888888888888888,
              "#fdca26"
             ],
             [
              1,
              "#f0f921"
             ]
            ],
            "type": "histogram2d"
           }
          ],
          "histogram2dcontour": [
           {
            "colorbar": {
             "outlinewidth": 0,
             "ticks": ""
            },
            "colorscale": [
             [
              0,
              "#0d0887"
             ],
             [
              0.1111111111111111,
              "#46039f"
             ],
             [
              0.2222222222222222,
              "#7201a8"
             ],
             [
              0.3333333333333333,
              "#9c179e"
             ],
             [
              0.4444444444444444,
              "#bd3786"
             ],
             [
              0.5555555555555556,
              "#d8576b"
             ],
             [
              0.6666666666666666,
              "#ed7953"
             ],
             [
              0.7777777777777778,
              "#fb9f3a"
             ],
             [
              0.8888888888888888,
              "#fdca26"
             ],
             [
              1,
              "#f0f921"
             ]
            ],
            "type": "histogram2dcontour"
           }
          ],
          "mesh3d": [
           {
            "colorbar": {
             "outlinewidth": 0,
             "ticks": ""
            },
            "type": "mesh3d"
           }
          ],
          "parcoords": [
           {
            "line": {
             "colorbar": {
              "outlinewidth": 0,
              "ticks": ""
             }
            },
            "type": "parcoords"
           }
          ],
          "pie": [
           {
            "automargin": true,
            "type": "pie"
           }
          ],
          "scatter": [
           {
            "fillpattern": {
             "fillmode": "overlay",
             "size": 10,
             "solidity": 0.2
            },
            "type": "scatter"
           }
          ],
          "scatter3d": [
           {
            "line": {
             "colorbar": {
              "outlinewidth": 0,
              "ticks": ""
             }
            },
            "marker": {
             "colorbar": {
              "outlinewidth": 0,
              "ticks": ""
             }
            },
            "type": "scatter3d"
           }
          ],
          "scattercarpet": [
           {
            "marker": {
             "colorbar": {
              "outlinewidth": 0,
              "ticks": ""
             }
            },
            "type": "scattercarpet"
           }
          ],
          "scattergeo": [
           {
            "marker": {
             "colorbar": {
              "outlinewidth": 0,
              "ticks": ""
             }
            },
            "type": "scattergeo"
           }
          ],
          "scattergl": [
           {
            "marker": {
             "colorbar": {
              "outlinewidth": 0,
              "ticks": ""
             }
            },
            "type": "scattergl"
           }
          ],
          "scattermapbox": [
           {
            "marker": {
             "colorbar": {
              "outlinewidth": 0,
              "ticks": ""
             }
            },
            "type": "scattermapbox"
           }
          ],
          "scatterpolar": [
           {
            "marker": {
             "colorbar": {
              "outlinewidth": 0,
              "ticks": ""
             }
            },
            "type": "scatterpolar"
           }
          ],
          "scatterpolargl": [
           {
            "marker": {
             "colorbar": {
              "outlinewidth": 0,
              "ticks": ""
             }
            },
            "type": "scatterpolargl"
           }
          ],
          "scatterternary": [
           {
            "marker": {
             "colorbar": {
              "outlinewidth": 0,
              "ticks": ""
             }
            },
            "type": "scatterternary"
           }
          ],
          "surface": [
           {
            "colorbar": {
             "outlinewidth": 0,
             "ticks": ""
            },
            "colorscale": [
             [
              0,
              "#0d0887"
             ],
             [
              0.1111111111111111,
              "#46039f"
             ],
             [
              0.2222222222222222,
              "#7201a8"
             ],
             [
              0.3333333333333333,
              "#9c179e"
             ],
             [
              0.4444444444444444,
              "#bd3786"
             ],
             [
              0.5555555555555556,
              "#d8576b"
             ],
             [
              0.6666666666666666,
              "#ed7953"
             ],
             [
              0.7777777777777778,
              "#fb9f3a"
             ],
             [
              0.8888888888888888,
              "#fdca26"
             ],
             [
              1,
              "#f0f921"
             ]
            ],
            "type": "surface"
           }
          ],
          "table": [
           {
            "cells": {
             "fill": {
              "color": "#EBF0F8"
             },
             "line": {
              "color": "white"
             }
            },
            "header": {
             "fill": {
              "color": "#C8D4E3"
             },
             "line": {
              "color": "white"
             }
            },
            "type": "table"
           }
          ]
         },
         "layout": {
          "annotationdefaults": {
           "arrowcolor": "#2a3f5f",
           "arrowhead": 0,
           "arrowwidth": 1
          },
          "autotypenumbers": "strict",
          "coloraxis": {
           "colorbar": {
            "outlinewidth": 0,
            "ticks": ""
           }
          },
          "colorscale": {
           "diverging": [
            [
             0,
             "#8e0152"
            ],
            [
             0.1,
             "#c51b7d"
            ],
            [
             0.2,
             "#de77ae"
            ],
            [
             0.3,
             "#f1b6da"
            ],
            [
             0.4,
             "#fde0ef"
            ],
            [
             0.5,
             "#f7f7f7"
            ],
            [
             0.6,
             "#e6f5d0"
            ],
            [
             0.7,
             "#b8e186"
            ],
            [
             0.8,
             "#7fbc41"
            ],
            [
             0.9,
             "#4d9221"
            ],
            [
             1,
             "#276419"
            ]
           ],
           "sequential": [
            [
             0,
             "#0d0887"
            ],
            [
             0.1111111111111111,
             "#46039f"
            ],
            [
             0.2222222222222222,
             "#7201a8"
            ],
            [
             0.3333333333333333,
             "#9c179e"
            ],
            [
             0.4444444444444444,
             "#bd3786"
            ],
            [
             0.5555555555555556,
             "#d8576b"
            ],
            [
             0.6666666666666666,
             "#ed7953"
            ],
            [
             0.7777777777777778,
             "#fb9f3a"
            ],
            [
             0.8888888888888888,
             "#fdca26"
            ],
            [
             1,
             "#f0f921"
            ]
           ],
           "sequentialminus": [
            [
             0,
             "#0d0887"
            ],
            [
             0.1111111111111111,
             "#46039f"
            ],
            [
             0.2222222222222222,
             "#7201a8"
            ],
            [
             0.3333333333333333,
             "#9c179e"
            ],
            [
             0.4444444444444444,
             "#bd3786"
            ],
            [
             0.5555555555555556,
             "#d8576b"
            ],
            [
             0.6666666666666666,
             "#ed7953"
            ],
            [
             0.7777777777777778,
             "#fb9f3a"
            ],
            [
             0.8888888888888888,
             "#fdca26"
            ],
            [
             1,
             "#f0f921"
            ]
           ]
          },
          "colorway": [
           "#636efa",
           "#EF553B",
           "#00cc96",
           "#ab63fa",
           "#FFA15A",
           "#19d3f3",
           "#FF6692",
           "#B6E880",
           "#FF97FF",
           "#FECB52"
          ],
          "font": {
           "color": "#2a3f5f"
          },
          "geo": {
           "bgcolor": "white",
           "lakecolor": "white",
           "landcolor": "#E5ECF6",
           "showlakes": true,
           "showland": true,
           "subunitcolor": "white"
          },
          "hoverlabel": {
           "align": "left"
          },
          "hovermode": "closest",
          "mapbox": {
           "style": "light"
          },
          "paper_bgcolor": "white",
          "plot_bgcolor": "#E5ECF6",
          "polar": {
           "angularaxis": {
            "gridcolor": "white",
            "linecolor": "white",
            "ticks": ""
           },
           "bgcolor": "#E5ECF6",
           "radialaxis": {
            "gridcolor": "white",
            "linecolor": "white",
            "ticks": ""
           }
          },
          "scene": {
           "xaxis": {
            "backgroundcolor": "#E5ECF6",
            "gridcolor": "white",
            "gridwidth": 2,
            "linecolor": "white",
            "showbackground": true,
            "ticks": "",
            "zerolinecolor": "white"
           },
           "yaxis": {
            "backgroundcolor": "#E5ECF6",
            "gridcolor": "white",
            "gridwidth": 2,
            "linecolor": "white",
            "showbackground": true,
            "ticks": "",
            "zerolinecolor": "white"
           },
           "zaxis": {
            "backgroundcolor": "#E5ECF6",
            "gridcolor": "white",
            "gridwidth": 2,
            "linecolor": "white",
            "showbackground": true,
            "ticks": "",
            "zerolinecolor": "white"
           }
          },
          "shapedefaults": {
           "line": {
            "color": "#2a3f5f"
           }
          },
          "ternary": {
           "aaxis": {
            "gridcolor": "white",
            "linecolor": "white",
            "ticks": ""
           },
           "baxis": {
            "gridcolor": "white",
            "linecolor": "white",
            "ticks": ""
           },
           "bgcolor": "#E5ECF6",
           "caxis": {
            "gridcolor": "white",
            "linecolor": "white",
            "ticks": ""
           }
          },
          "title": {
           "x": 0.05
          },
          "xaxis": {
           "automargin": true,
           "gridcolor": "white",
           "linecolor": "white",
           "ticks": "",
           "title": {
            "standoff": 15
           },
           "zerolinecolor": "white",
           "zerolinewidth": 2
          },
          "yaxis": {
           "automargin": true,
           "gridcolor": "white",
           "linecolor": "white",
           "ticks": "",
           "title": {
            "standoff": 15
           },
           "zerolinecolor": "white",
           "zerolinewidth": 2
          }
         }
        },
        "xaxis": {
         "anchor": "y",
         "domain": [
          0,
          1
         ],
         "title": {
          "text": "WTEMP_CEL"
         }
        },
        "yaxis": {
         "anchor": "x",
         "domain": [
          0,
          1
         ],
         "title": {
          "text": "ECOLI_LOG10"
         }
        }
       }
      }
     },
     "metadata": {},
     "output_type": "display_data"
    },
    {
     "data": {
      "application/vnd.plotly.v1+json": {
       "config": {
        "plotlyServerURL": "https://plot.ly"
       },
       "data": [
        {
         "hovertemplate": "BIRDS_NO=%{x}<br>ECOLI_LOG10=%{y}<extra></extra>",
         "legendgroup": "",
         "marker": {
          "color": "#636efa",
          "symbol": "circle"
         },
         "mode": "markers",
         "name": "",
         "orientation": "v",
         "showlegend": false,
         "type": "scatter",
         "x": [
          0,
          5,
          0,
          0,
          1,
          7,
          5,
          37,
          50,
          30,
          9,
          0,
          2,
          26,
          32,
          0,
          1,
          13,
          13,
          3,
          15,
          23,
          15,
          5,
          100,
          64,
          22,
          24,
          27,
          35,
          17,
          24,
          17,
          40,
          0,
          25,
          32,
          58,
          25,
          28,
          24,
          50,
          60,
          27,
          0,
          49,
          0,
          18,
          50,
          35,
          40,
          50,
          30,
          57,
          25,
          100,
          30,
          65,
          30,
          27,
          27,
          22,
          100,
          60,
          0,
          45,
          25,
          4,
          40,
          2,
          50,
          0,
          60,
          0,
          92,
          60,
          42,
          100,
          0,
          24,
          30,
          0,
          0,
          100,
          42,
          0,
          100,
          22,
          50,
          100,
          100,
          80,
          80,
          0,
          100,
          26,
          7,
          1,
          0,
          20,
          0,
          2,
          6,
          4,
          10,
          0,
          0,
          0,
          5,
          10,
          0,
          1,
          0,
          20,
          1,
          14,
          5,
          9,
          14,
          0,
          25,
          0,
          0,
          0,
          0,
          1,
          30,
          10,
          34,
          60,
          30,
          50,
          95,
          46,
          30,
          100,
          0,
          30,
          85,
          80,
          50,
          48,
          21,
          30,
          0,
          22,
          88,
          55,
          72,
          10,
          40,
          100,
          75,
          50,
          25,
          63,
          30,
          75,
          0,
          50,
          70,
          50,
          30,
          20,
          0,
          50,
          75,
          10,
          13,
          30,
          70,
          60,
          0,
          0,
          20,
          0,
          0,
          0,
          0,
          1,
          0,
          0,
          0,
          0,
          0,
          5,
          10,
          3,
          0,
          0,
          0,
          0,
          0,
          50,
          65,
          0,
          25,
          35,
          30,
          20,
          58,
          0,
          22,
          50,
          0,
          15,
          33,
          17,
          0,
          20,
          90,
          30,
          60,
          0,
          25,
          45,
          30,
          50,
          10,
          70,
          95,
          59,
          93,
          25,
          50,
          50,
          0,
          46,
          54,
          0,
          50,
          25,
          75,
          75,
          100,
          100,
          20,
          0,
          25,
          30,
          100,
          0,
          0,
          37,
          100,
          50,
          0,
          2,
          0,
          0,
          0,
          0,
          0,
          45,
          0,
          0,
          30,
          0,
          0,
          0,
          30,
          30,
          100,
          0,
          60,
          0,
          1,
          0,
          4,
          0,
          0,
          0,
          3,
          0,
          0,
          0,
          0,
          1,
          0,
          0,
          5,
          8,
          5,
          3,
          0,
          2,
          10,
          0,
          0,
          0,
          8,
          2,
          0,
          2,
          11,
          0,
          0,
          0,
          0,
          100,
          0,
          22,
          7,
          19,
          0,
          1,
          0,
          26,
          47,
          0,
          15,
          35,
          0,
          56,
          38,
          23,
          7,
          60,
          100,
          0,
          2,
          0,
          0,
          78,
          2,
          60,
          0,
          0,
          37,
          54,
          46,
          37,
          35,
          0,
          27,
          27,
          37,
          67,
          65,
          0,
          0,
          29,
          32,
          13,
          33,
          0,
          15,
          0,
          100,
          72,
          16,
          52,
          60,
          0,
          100,
          45,
          16,
          31,
          0,
          0,
          61,
          30,
          0,
          2,
          4,
          0,
          0,
          7,
          0,
          1,
          0,
          0,
          0,
          0,
          0,
          1,
          0,
          9,
          1,
          6,
          0,
          0,
          0,
          0,
          2,
          0,
          0,
          4,
          0,
          0,
          0,
          30,
          0,
          0,
          0,
          0,
          0,
          0,
          0,
          0,
          0,
          10,
          0,
          0,
          30,
          0,
          3,
          1,
          10,
          0,
          56,
          0,
          30,
          53,
          20,
          8,
          0,
          20,
          0,
          45,
          15,
          82,
          50,
          23,
          0,
          23,
          4,
          0,
          18,
          26,
          20,
          0,
          18,
          1,
          66,
          2,
          0,
          2,
          0,
          3,
          13,
          49,
          0,
          48,
          0,
          0,
          0,
          31,
          10,
          16,
          0,
          17,
          40,
          0,
          7,
          21,
          1,
          15,
          4,
          0,
          0,
          77,
          7
         ],
         "xaxis": "x",
         "y": [
          0.6021,
          0.301,
          0.301,
          0.301,
          1.0792,
          2.4378,
          1.5563,
          1.5563,
          1.2041,
          0.301,
          0.301,
          2.3729,
          0.6021,
          1.3802,
          2.1271,
          1.3802,
          2.0934,
          1.6232,
          2.3424,
          2.0414,
          1.7634,
          2.0645,
          0.7782,
          2.2253,
          0.301,
          1.6628,
          2.444,
          2.0934,
          2.4969,
          1.4771,
          2.3464,
          2.3945,
          1.9542,
          1.6812,
          2.2923,
          2.2648,
          1.415,
          1.699,
          1.8921,
          2.4314,
          2,
          1,
          0.7782,
          1.7782,
          1.6021,
          2.6758,
          1.6628,
          1,
          0.7782,
          1.415,
          2.3655,
          1.8062,
          0.301,
          2.3766,
          2.2742,
          2.2304,
          2.0086,
          2.0864,
          1.9912,
          1.716,
          1.3424,
          1.5051,
          1.3802,
          1.2041,
          2.5159,
          1.7324,
          1.5563,
          2.3181,
          2.3464,
          1.4771,
          1.301,
          1.301,
          2.0934,
          2.2148,
          2.6848,
          2.2923,
          1.7924,
          1.5315,
          1.2553,
          1.0792,
          2.1004,
          1.415,
          1.301,
          2.0334,
          1.6232,
          1.3424,
          1.415,
          1.5563,
          1.4472,
          2.301,
          1.9243,
          2.1584,
          2.1206,
          1.1461,
          1.9243,
          1.2041,
          0.301,
          1.2553,
          0.301,
          1.1461,
          2.4502,
          3.0017,
          0.6021,
          0.301,
          0.9031,
          2.8704,
          1,
          2.5416,
          2.8998,
          1.9494,
          1.1461,
          0.301,
          2.5821,
          1.1461,
          1.9823,
          1.8573,
          2.7364,
          1.8451,
          0.4771,
          1.7853,
          1.8573,
          1.8367,
          1.3617,
          0.8129,
          1.7033,
          1.0792,
          0.301,
          1.0792,
          1.3802,
          2.5465,
          1,
          1.2553,
          2.1523,
          2.9647,
          2.7578,
          1.9395,
          1.6628,
          1.9912,
          2.0607,
          2.1861,
          2.0719,
          1.9031,
          0.301,
          1.2041,
          0.301,
          0.6021,
          1.2175,
          1.8195,
          1.5378,
          1,
          0.6021,
          0.9031,
          1.0792,
          1,
          1.5315,
          2.4955,
          2.2188,
          1.5798,
          1.9395,
          1.2041,
          0.7782,
          1.0792,
          1.3424,
          2.2833,
          0.301,
          0.301,
          1.5911,
          1.7033,
          1.1461,
          1.1461,
          1.301,
          1.7324,
          0.301,
          2.0864,
          0.7782,
          0.9031,
          0.301,
          0.301,
          1.7924,
          2.6758,
          2.5729,
          2.0253,
          2.1089,
          1.4624,
          0.7782,
          1.2041,
          1.2041,
          0.9031,
          0.301,
          0.6021,
          1.6021,
          1.2553,
          0.301,
          1.2041,
          2.1523,
          1.415,
          2.0253,
          1.0792,
          1.3424,
          1,
          2.2648,
          2.534,
          2.0645,
          1.2041,
          2.1139,
          1.4472,
          1,
          2.4997,
          1.9345,
          1.1461,
          2.2095,
          2.2878,
          2.0569,
          0.6021,
          1.5798,
          1.9638,
          2.4314,
          1.9912,
          1.301,
          1.2041,
          2.2405,
          1.2041,
          1.3802,
          0.301,
          2.3054,
          1.8062,
          1.0792,
          2.2833,
          1.8451,
          1.1461,
          0.6021,
          2.4683,
          1.4472,
          1.8573,
          1.5051,
          1.9542,
          1.5315,
          1,
          2.5416,
          2.1072,
          1.716,
          1.301,
          0.301,
          2.0569,
          1.2041,
          2.1931,
          2.017,
          2.1761,
          2.4314,
          1.9542,
          2.1931,
          1.301,
          1.9243,
          2.6107,
          1.2041,
          2.3139,
          1.8451,
          1.2553,
          1.5563,
          1.7782,
          0.9031,
          2.2201,
          1.6435,
          1,
          0.301,
          1.6232,
          0.301,
          1.0792,
          0.9031,
          1.2553,
          1.2041,
          0.6021,
          0.301,
          1.4771,
          1.1461,
          1.6435,
          2.4314,
          1.1461,
          1,
          1,
          1.7482,
          0.9031,
          0.301,
          0.301,
          1.2304,
          1.2553,
          1.301,
          1.6021,
          2.0719,
          2.5024,
          2.2788,
          0.6021,
          1.9445,
          2.5132,
          2.3304,
          2.0569,
          1.8921,
          1.6021,
          1.6232,
          0.7782,
          1.7924,
          1.6628,
          1.1461,
          2.3345,
          1.2041,
          0.301,
          2.8727,
          1.3424,
          1.6232,
          1.2553,
          1.9823,
          2.7404,
          1.7634,
          1.3424,
          0.7782,
          1.2041,
          0.9031,
          0.9031,
          1.1461,
          1.6232,
          1.1461,
          1.415,
          2.6294,
          2.0934,
          1,
          1.0792,
          1.7634,
          1.7324,
          1.8195,
          1.7782,
          1.6021,
          0.7782,
          1.2041,
          1.9138,
          2.2253,
          0.9031,
          1.9445,
          1.415,
          1,
          2.4314,
          1.5315,
          2.2041,
          1.0792,
          1.9243,
          1.9445,
          0.7782,
          2.4314,
          2.1206,
          1.5315,
          0.9031,
          1.5315,
          2,
          1,
          1.1461,
          2.2648,
          1,
          1.5051,
          1.0792,
          1.5051,
          2.3464,
          1.2041,
          1.1461,
          0.6021,
          0.301,
          0.301,
          0.301,
          0.9031,
          0.301,
          0.301,
          1.6435,
          0.301,
          1.0792,
          0.301,
          2.2833,
          2.1072,
          0.301,
          0.301,
          0.301,
          0.301,
          1,
          1.3424,
          0.7782,
          2.4502,
          1.9823,
          1.1461,
          0.301,
          1.6435,
          1.301,
          1.415,
          1.3802,
          0.301,
          1.5798,
          0.301,
          2.3541,
          1.5563,
          0.301,
          0.301,
          1.9638,
          0.7782,
          1,
          0.7782,
          0.9031,
          1.301,
          0.301,
          1.5051,
          1.5798,
          2.3385,
          1.3802,
          1.9445,
          1.8921,
          0.6021,
          0.6021,
          2.6107,
          1.2041,
          1.6812,
          2.4742,
          1.9731,
          0.7782,
          1.1461,
          1.716,
          2.1931,
          1.3424,
          1.3424,
          1.7924,
          1.4771,
          2.2304,
          1.6232,
          1.301,
          0.9031,
          0.301,
          1.8062,
          2.017,
          1.2041,
          1.6812,
          1.415,
          1.4472,
          2.0414,
          1.3424,
          2.0864,
          1.415,
          1.3424,
          2.1818,
          1.0792,
          2.7243,
          2.3201,
          1.5798,
          1.6021,
          1.9031,
          1.2041,
          0.7782,
          1.5798,
          2.4564,
          1.8195,
          2.2878,
          1.0792,
          1.7924,
          1.8921,
          2.2355,
          1.6021,
          1.9823,
          1.5051,
          1.3424,
          2.3424
         ],
         "yaxis": "y"
        }
       ],
       "layout": {
        "legend": {
         "tracegroupgap": 0
        },
        "margin": {
         "t": 60
        },
        "template": {
         "data": {
          "bar": [
           {
            "error_x": {
             "color": "#2a3f5f"
            },
            "error_y": {
             "color": "#2a3f5f"
            },
            "marker": {
             "line": {
              "color": "#E5ECF6",
              "width": 0.5
             },
             "pattern": {
              "fillmode": "overlay",
              "size": 10,
              "solidity": 0.2
             }
            },
            "type": "bar"
           }
          ],
          "barpolar": [
           {
            "marker": {
             "line": {
              "color": "#E5ECF6",
              "width": 0.5
             },
             "pattern": {
              "fillmode": "overlay",
              "size": 10,
              "solidity": 0.2
             }
            },
            "type": "barpolar"
           }
          ],
          "carpet": [
           {
            "aaxis": {
             "endlinecolor": "#2a3f5f",
             "gridcolor": "white",
             "linecolor": "white",
             "minorgridcolor": "white",
             "startlinecolor": "#2a3f5f"
            },
            "baxis": {
             "endlinecolor": "#2a3f5f",
             "gridcolor": "white",
             "linecolor": "white",
             "minorgridcolor": "white",
             "startlinecolor": "#2a3f5f"
            },
            "type": "carpet"
           }
          ],
          "choropleth": [
           {
            "colorbar": {
             "outlinewidth": 0,
             "ticks": ""
            },
            "type": "choropleth"
           }
          ],
          "contour": [
           {
            "colorbar": {
             "outlinewidth": 0,
             "ticks": ""
            },
            "colorscale": [
             [
              0,
              "#0d0887"
             ],
             [
              0.1111111111111111,
              "#46039f"
             ],
             [
              0.2222222222222222,
              "#7201a8"
             ],
             [
              0.3333333333333333,
              "#9c179e"
             ],
             [
              0.4444444444444444,
              "#bd3786"
             ],
             [
              0.5555555555555556,
              "#d8576b"
             ],
             [
              0.6666666666666666,
              "#ed7953"
             ],
             [
              0.7777777777777778,
              "#fb9f3a"
             ],
             [
              0.8888888888888888,
              "#fdca26"
             ],
             [
              1,
              "#f0f921"
             ]
            ],
            "type": "contour"
           }
          ],
          "contourcarpet": [
           {
            "colorbar": {
             "outlinewidth": 0,
             "ticks": ""
            },
            "type": "contourcarpet"
           }
          ],
          "heatmap": [
           {
            "colorbar": {
             "outlinewidth": 0,
             "ticks": ""
            },
            "colorscale": [
             [
              0,
              "#0d0887"
             ],
             [
              0.1111111111111111,
              "#46039f"
             ],
             [
              0.2222222222222222,
              "#7201a8"
             ],
             [
              0.3333333333333333,
              "#9c179e"
             ],
             [
              0.4444444444444444,
              "#bd3786"
             ],
             [
              0.5555555555555556,
              "#d8576b"
             ],
             [
              0.6666666666666666,
              "#ed7953"
             ],
             [
              0.7777777777777778,
              "#fb9f3a"
             ],
             [
              0.8888888888888888,
              "#fdca26"
             ],
             [
              1,
              "#f0f921"
             ]
            ],
            "type": "heatmap"
           }
          ],
          "heatmapgl": [
           {
            "colorbar": {
             "outlinewidth": 0,
             "ticks": ""
            },
            "colorscale": [
             [
              0,
              "#0d0887"
             ],
             [
              0.1111111111111111,
              "#46039f"
             ],
             [
              0.2222222222222222,
              "#7201a8"
             ],
             [
              0.3333333333333333,
              "#9c179e"
             ],
             [
              0.4444444444444444,
              "#bd3786"
             ],
             [
              0.5555555555555556,
              "#d8576b"
             ],
             [
              0.6666666666666666,
              "#ed7953"
             ],
             [
              0.7777777777777778,
              "#fb9f3a"
             ],
             [
              0.8888888888888888,
              "#fdca26"
             ],
             [
              1,
              "#f0f921"
             ]
            ],
            "type": "heatmapgl"
           }
          ],
          "histogram": [
           {
            "marker": {
             "pattern": {
              "fillmode": "overlay",
              "size": 10,
              "solidity": 0.2
             }
            },
            "type": "histogram"
           }
          ],
          "histogram2d": [
           {
            "colorbar": {
             "outlinewidth": 0,
             "ticks": ""
            },
            "colorscale": [
             [
              0,
              "#0d0887"
             ],
             [
              0.1111111111111111,
              "#46039f"
             ],
             [
              0.2222222222222222,
              "#7201a8"
             ],
             [
              0.3333333333333333,
              "#9c179e"
             ],
             [
              0.4444444444444444,
              "#bd3786"
             ],
             [
              0.5555555555555556,
              "#d8576b"
             ],
             [
              0.6666666666666666,
              "#ed7953"
             ],
             [
              0.7777777777777778,
              "#fb9f3a"
             ],
             [
              0.8888888888888888,
              "#fdca26"
             ],
             [
              1,
              "#f0f921"
             ]
            ],
            "type": "histogram2d"
           }
          ],
          "histogram2dcontour": [
           {
            "colorbar": {
             "outlinewidth": 0,
             "ticks": ""
            },
            "colorscale": [
             [
              0,
              "#0d0887"
             ],
             [
              0.1111111111111111,
              "#46039f"
             ],
             [
              0.2222222222222222,
              "#7201a8"
             ],
             [
              0.3333333333333333,
              "#9c179e"
             ],
             [
              0.4444444444444444,
              "#bd3786"
             ],
             [
              0.5555555555555556,
              "#d8576b"
             ],
             [
              0.6666666666666666,
              "#ed7953"
             ],
             [
              0.7777777777777778,
              "#fb9f3a"
             ],
             [
              0.8888888888888888,
              "#fdca26"
             ],
             [
              1,
              "#f0f921"
             ]
            ],
            "type": "histogram2dcontour"
           }
          ],
          "mesh3d": [
           {
            "colorbar": {
             "outlinewidth": 0,
             "ticks": ""
            },
            "type": "mesh3d"
           }
          ],
          "parcoords": [
           {
            "line": {
             "colorbar": {
              "outlinewidth": 0,
              "ticks": ""
             }
            },
            "type": "parcoords"
           }
          ],
          "pie": [
           {
            "automargin": true,
            "type": "pie"
           }
          ],
          "scatter": [
           {
            "fillpattern": {
             "fillmode": "overlay",
             "size": 10,
             "solidity": 0.2
            },
            "type": "scatter"
           }
          ],
          "scatter3d": [
           {
            "line": {
             "colorbar": {
              "outlinewidth": 0,
              "ticks": ""
             }
            },
            "marker": {
             "colorbar": {
              "outlinewidth": 0,
              "ticks": ""
             }
            },
            "type": "scatter3d"
           }
          ],
          "scattercarpet": [
           {
            "marker": {
             "colorbar": {
              "outlinewidth": 0,
              "ticks": ""
             }
            },
            "type": "scattercarpet"
           }
          ],
          "scattergeo": [
           {
            "marker": {
             "colorbar": {
              "outlinewidth": 0,
              "ticks": ""
             }
            },
            "type": "scattergeo"
           }
          ],
          "scattergl": [
           {
            "marker": {
             "colorbar": {
              "outlinewidth": 0,
              "ticks": ""
             }
            },
            "type": "scattergl"
           }
          ],
          "scattermapbox": [
           {
            "marker": {
             "colorbar": {
              "outlinewidth": 0,
              "ticks": ""
             }
            },
            "type": "scattermapbox"
           }
          ],
          "scatterpolar": [
           {
            "marker": {
             "colorbar": {
              "outlinewidth": 0,
              "ticks": ""
             }
            },
            "type": "scatterpolar"
           }
          ],
          "scatterpolargl": [
           {
            "marker": {
             "colorbar": {
              "outlinewidth": 0,
              "ticks": ""
             }
            },
            "type": "scatterpolargl"
           }
          ],
          "scatterternary": [
           {
            "marker": {
             "colorbar": {
              "outlinewidth": 0,
              "ticks": ""
             }
            },
            "type": "scatterternary"
           }
          ],
          "surface": [
           {
            "colorbar": {
             "outlinewidth": 0,
             "ticks": ""
            },
            "colorscale": [
             [
              0,
              "#0d0887"
             ],
             [
              0.1111111111111111,
              "#46039f"
             ],
             [
              0.2222222222222222,
              "#7201a8"
             ],
             [
              0.3333333333333333,
              "#9c179e"
             ],
             [
              0.4444444444444444,
              "#bd3786"
             ],
             [
              0.5555555555555556,
              "#d8576b"
             ],
             [
              0.6666666666666666,
              "#ed7953"
             ],
             [
              0.7777777777777778,
              "#fb9f3a"
             ],
             [
              0.8888888888888888,
              "#fdca26"
             ],
             [
              1,
              "#f0f921"
             ]
            ],
            "type": "surface"
           }
          ],
          "table": [
           {
            "cells": {
             "fill": {
              "color": "#EBF0F8"
             },
             "line": {
              "color": "white"
             }
            },
            "header": {
             "fill": {
              "color": "#C8D4E3"
             },
             "line": {
              "color": "white"
             }
            },
            "type": "table"
           }
          ]
         },
         "layout": {
          "annotationdefaults": {
           "arrowcolor": "#2a3f5f",
           "arrowhead": 0,
           "arrowwidth": 1
          },
          "autotypenumbers": "strict",
          "coloraxis": {
           "colorbar": {
            "outlinewidth": 0,
            "ticks": ""
           }
          },
          "colorscale": {
           "diverging": [
            [
             0,
             "#8e0152"
            ],
            [
             0.1,
             "#c51b7d"
            ],
            [
             0.2,
             "#de77ae"
            ],
            [
             0.3,
             "#f1b6da"
            ],
            [
             0.4,
             "#fde0ef"
            ],
            [
             0.5,
             "#f7f7f7"
            ],
            [
             0.6,
             "#e6f5d0"
            ],
            [
             0.7,
             "#b8e186"
            ],
            [
             0.8,
             "#7fbc41"
            ],
            [
             0.9,
             "#4d9221"
            ],
            [
             1,
             "#276419"
            ]
           ],
           "sequential": [
            [
             0,
             "#0d0887"
            ],
            [
             0.1111111111111111,
             "#46039f"
            ],
            [
             0.2222222222222222,
             "#7201a8"
            ],
            [
             0.3333333333333333,
             "#9c179e"
            ],
            [
             0.4444444444444444,
             "#bd3786"
            ],
            [
             0.5555555555555556,
             "#d8576b"
            ],
            [
             0.6666666666666666,
             "#ed7953"
            ],
            [
             0.7777777777777778,
             "#fb9f3a"
            ],
            [
             0.8888888888888888,
             "#fdca26"
            ],
            [
             1,
             "#f0f921"
            ]
           ],
           "sequentialminus": [
            [
             0,
             "#0d0887"
            ],
            [
             0.1111111111111111,
             "#46039f"
            ],
            [
             0.2222222222222222,
             "#7201a8"
            ],
            [
             0.3333333333333333,
             "#9c179e"
            ],
            [
             0.4444444444444444,
             "#bd3786"
            ],
            [
             0.5555555555555556,
             "#d8576b"
            ],
            [
             0.6666666666666666,
             "#ed7953"
            ],
            [
             0.7777777777777778,
             "#fb9f3a"
            ],
            [
             0.8888888888888888,
             "#fdca26"
            ],
            [
             1,
             "#f0f921"
            ]
           ]
          },
          "colorway": [
           "#636efa",
           "#EF553B",
           "#00cc96",
           "#ab63fa",
           "#FFA15A",
           "#19d3f3",
           "#FF6692",
           "#B6E880",
           "#FF97FF",
           "#FECB52"
          ],
          "font": {
           "color": "#2a3f5f"
          },
          "geo": {
           "bgcolor": "white",
           "lakecolor": "white",
           "landcolor": "#E5ECF6",
           "showlakes": true,
           "showland": true,
           "subunitcolor": "white"
          },
          "hoverlabel": {
           "align": "left"
          },
          "hovermode": "closest",
          "mapbox": {
           "style": "light"
          },
          "paper_bgcolor": "white",
          "plot_bgcolor": "#E5ECF6",
          "polar": {
           "angularaxis": {
            "gridcolor": "white",
            "linecolor": "white",
            "ticks": ""
           },
           "bgcolor": "#E5ECF6",
           "radialaxis": {
            "gridcolor": "white",
            "linecolor": "white",
            "ticks": ""
           }
          },
          "scene": {
           "xaxis": {
            "backgroundcolor": "#E5ECF6",
            "gridcolor": "white",
            "gridwidth": 2,
            "linecolor": "white",
            "showbackground": true,
            "ticks": "",
            "zerolinecolor": "white"
           },
           "yaxis": {
            "backgroundcolor": "#E5ECF6",
            "gridcolor": "white",
            "gridwidth": 2,
            "linecolor": "white",
            "showbackground": true,
            "ticks": "",
            "zerolinecolor": "white"
           },
           "zaxis": {
            "backgroundcolor": "#E5ECF6",
            "gridcolor": "white",
            "gridwidth": 2,
            "linecolor": "white",
            "showbackground": true,
            "ticks": "",
            "zerolinecolor": "white"
           }
          },
          "shapedefaults": {
           "line": {
            "color": "#2a3f5f"
           }
          },
          "ternary": {
           "aaxis": {
            "gridcolor": "white",
            "linecolor": "white",
            "ticks": ""
           },
           "baxis": {
            "gridcolor": "white",
            "linecolor": "white",
            "ticks": ""
           },
           "bgcolor": "#E5ECF6",
           "caxis": {
            "gridcolor": "white",
            "linecolor": "white",
            "ticks": ""
           }
          },
          "title": {
           "x": 0.05
          },
          "xaxis": {
           "automargin": true,
           "gridcolor": "white",
           "linecolor": "white",
           "ticks": "",
           "title": {
            "standoff": 15
           },
           "zerolinecolor": "white",
           "zerolinewidth": 2
          },
          "yaxis": {
           "automargin": true,
           "gridcolor": "white",
           "linecolor": "white",
           "ticks": "",
           "title": {
            "standoff": 15
           },
           "zerolinecolor": "white",
           "zerolinewidth": 2
          }
         }
        },
        "xaxis": {
         "anchor": "y",
         "domain": [
          0,
          1
         ],
         "title": {
          "text": "BIRDS_NO"
         }
        },
        "yaxis": {
         "anchor": "x",
         "domain": [
          0,
          1
         ],
         "title": {
          "text": "ECOLI_LOG10"
         }
        }
       }
      }
     },
     "metadata": {},
     "output_type": "display_data"
    },
    {
     "data": {
      "application/vnd.plotly.v1+json": {
       "config": {
        "plotlyServerURL": "https://plot.ly"
       },
       "data": [
        {
         "hovertemplate": "CHANGELL_FT=%{x}<br>ECOLI_LOG10=%{y}<extra></extra>",
         "legendgroup": "",
         "marker": {
          "color": "#636efa",
          "symbol": "circle"
         },
         "mode": "markers",
         "name": "",
         "orientation": "v",
         "showlegend": false,
         "type": "scatter",
         "x": [
          -0.131,
          -0.014,
          0.125,
          -0.026,
          0.016,
          0.082,
          0.118,
          -0.282,
          0.296,
          -0.23,
          -0.013,
          0.069,
          -0.036,
          0,
          -0.046,
          0.118,
          0.033,
          -0.296,
          0.22,
          0.003,
          -0.095,
          -0.131,
          0.348,
          -0.253,
          0.033,
          0.22,
          -0.053,
          -0.065,
          0.059,
          0.088,
          0.039,
          -0.282,
          0.213,
          0.213,
          -0.147,
          0.121,
          -0.115,
          0.181,
          -0.207,
          0.453,
          -0.532,
          -0.013,
          0.049,
          0.03,
          -0.138,
          0.755,
          -0.627,
          -0.016,
          0.013,
          -0.105,
          0.059,
          -0.053,
          0.02,
          0.358,
          -0.574,
          0.124,
          -0.069,
          -0.026,
          0.518,
          -0.351,
          -0.164,
          0.41,
          -0.232,
          -0.069,
          0.085,
          0.052,
          -0.111,
          -0.161,
          0.286,
          -0.184,
          -0.141,
          0.056,
          -0.05,
          0.194,
          0.308,
          -0.187,
          -0.019,
          -0.033,
          0.164,
          -0.066,
          0.178,
          -0.155,
          0.138,
          -0.269,
          0.223,
          -0.229,
          0.167,
          -0.433,
          0.177,
          0.062,
          -0.049,
          0.076,
          0.124,
          -0.144,
          -0.121,
          -0.105,
          -0.004,
          -0.003,
          0,
          0.194,
          -0.007,
          -0.203,
          -0.25,
          0.148,
          0.089,
          -0.132,
          -0.187,
          0.374,
          0.023,
          0.085,
          -0.023,
          0.135,
          0.252,
          -0.328,
          0.181,
          0.039,
          0.076,
          -0.197,
          0.042,
          -0.029,
          -0.541,
          0.741,
          0.289,
          -0.22,
          0.312,
          -0.138,
          0.01,
          0.115,
          -0.003,
          -0.269,
          0.128,
          0.059,
          0,
          0.095,
          0.072,
          -0.082,
          -0.062,
          0.197,
          0.069,
          0,
          -0.01,
          -0.138,
          0,
          -0.046,
          0.016,
          0.062,
          -0.154,
          -0.154,
          0.41,
          -0.384,
          -0.239,
          0.124,
          -0.184,
          0.102,
          -0.023,
          0.253,
          -0.154,
          -0.063,
          0.174,
          -0.325,
          0.164,
          0.079,
          -0.145,
          0.501,
          -0.633,
          -0.026,
          0.702,
          -1.04,
          0.443,
          0.03,
          -0.063,
          0.007,
          -0.027,
          -0.131,
          0.148,
          -0.443,
          0.216,
          0.059,
          0.014,
          0.423,
          -0.197,
          -0.151,
          0.473,
          -0.43,
          -0.043,
          0.249,
          -0.426,
          0.223,
          -0.151,
          -0.138,
          0.223,
          -0.19,
          -0.02,
          0.128,
          0.092,
          -0.518,
          0.312,
          0.213,
          -0.443,
          0.305,
          0.049,
          -0.098,
          0.003,
          -0.085,
          0.341,
          -0.39,
          -0.102,
          0.171,
          0.003,
          0.013,
          0.128,
          0.141,
          -0.102,
          -0.137,
          0.042,
          0.102,
          0.193,
          -0.21,
          -0.124,
          -0.217,
          0.154,
          -0.167,
          0.017,
          0.049,
          -0.056,
          0.056,
          -0.02,
          0.492,
          -0.571,
          0.158,
          -0.056,
          -0.128,
          -0.239,
          0.328,
          0.009,
          -0.131,
          0.013,
          -0.023,
          0.089,
          -0.243,
          0.181,
          -0.027,
          -0.114,
          0.144,
          -0.036,
          0.105,
          -0.22,
          0.18,
          -0.079,
          0.364,
          -0.167,
          -0.239,
          0.101,
          0.492,
          -0.449,
          0.22,
          -0.223,
          -0.338,
          0.364,
          -0.269,
          0.069,
          0.132,
          -0.157,
          0.045,
          0.073,
          -0.016,
          -0.092,
          0.335,
          -0.112,
          0.223,
          -0.236,
          -0.01,
          -0.026,
          0.134,
          -0.206,
          0.265,
          -0.226,
          -0.207,
          0.086,
          0.275,
          -0.141,
          -0.036,
          0.112,
          -0.25,
          -0.016,
          0.197,
          -0.155,
          -0.039,
          0.069,
          0.407,
          -0.423,
          -0.115,
          0.059,
          0.246,
          -0.069,
          0.174,
          0.298,
          -0.511,
          -0.04,
          -0.049,
          0.259,
          -0.134,
          -0.099,
          -0.095,
          0.01,
          0.003,
          0.076,
          -0.125,
          0.371,
          -0.371,
          0.2,
          0.026,
          -0.082,
          0.24,
          0.039,
          -0.167,
          -0.03,
          -0.029,
          -0.109,
          0.187,
          -0.16,
          -0.053,
          0.19,
          0.007,
          -0.171,
          -0.023,
          -0.187,
          0.151,
          -0.16,
          0.151,
          0.059,
          -0.082,
          -0.059,
          -0.086,
          0.791,
          -0.82,
          0.066,
          -0.01,
          -0.089,
          0.128,
          -0.039,
          0.102,
          -0.302,
          0.21,
          -0.076,
          -0.252,
          0.456,
          0.069,
          -0.368,
          -0.108,
          0.184,
          0.301,
          -0.597,
          0,
          0.125,
          -0.098,
          -0.043,
          -0.02,
          0.263,
          -0.158,
          -0.21,
          -0.528,
          0.121,
          -0.075,
          -0.102,
          0.007,
          0.078,
          -0.052,
          -0.079,
          0.085,
          -0.023,
          0.063,
          -0.046,
          0.439,
          0.076,
          -0.328,
          -0.174,
          -0.2,
          0.046,
          0.01,
          -0.283,
          0.227,
          0.193,
          0.135,
          -0.315,
          0.092,
          0.016,
          0.108,
          0.102,
          -0.315,
          -0.003,
          -0.292,
          0.249,
          0.364,
          -0.203,
          -0.203,
          0.078,
          0.325,
          -0.19,
          -0.108,
          0.242,
          -0.029,
          -0.184,
          0.089,
          0.042,
          -0.351,
          0.25,
          0.065,
          -0.036,
          -0.141,
          -0.072,
          0.121,
          -0.006,
          -0.059,
          0.128,
          -0.01,
          0.046,
          -0.282,
          0.056,
          -0.02,
          -0.328,
          0.443,
          -0.197,
          0.193,
          -0.003,
          -0.187,
          0.194,
          -0.151,
          0.029,
          -0.088,
          0.403,
          -0.351,
          0,
          0.066,
          -0.003,
          -0.119,
          0.092,
          0.217,
          -0.325,
          -0.079,
          0.033,
          -0.062,
          0,
          0,
          -0.013,
          -0.213,
          0.167,
          0,
          0,
          -0.292,
          0,
          0,
          -0.279,
          -0.308,
          0.134,
          -0.013,
          -0.069,
          0,
          0,
          -0.41,
          0.298,
          -0.026,
          0.092
         ],
         "xaxis": "x",
         "y": [
          0.6021,
          0.301,
          0.301,
          0.301,
          1.0792,
          2.4378,
          1.5563,
          1.5563,
          1.2041,
          0.301,
          0.301,
          2.3729,
          0.6021,
          1.3802,
          2.1271,
          1.3802,
          2.0934,
          1.6232,
          2.3424,
          2.0414,
          1.7634,
          2.0645,
          0.7782,
          2.2253,
          0.301,
          1.6628,
          2.444,
          2.0934,
          2.4969,
          1.4771,
          2.3464,
          2.3945,
          1.9542,
          1.6812,
          2.2923,
          2.2648,
          1.415,
          1.699,
          1.8921,
          2.4314,
          2,
          1,
          0.7782,
          1.7782,
          1.6021,
          2.6758,
          1.6628,
          1,
          0.7782,
          1.415,
          2.3655,
          1.8062,
          0.301,
          2.3766,
          2.2742,
          2.2304,
          2.0086,
          2.0864,
          1.9912,
          1.716,
          1.3424,
          1.5051,
          1.3802,
          1.2041,
          2.5159,
          1.7324,
          1.5563,
          2.3181,
          2.3464,
          1.4771,
          1.301,
          1.301,
          2.0934,
          2.2148,
          2.6848,
          2.2923,
          1.7924,
          1.5315,
          1.2553,
          1.0792,
          2.1004,
          1.415,
          1.301,
          2.0334,
          1.6232,
          1.3424,
          1.415,
          1.5563,
          1.4472,
          2.301,
          1.9243,
          2.1584,
          2.1206,
          1.1461,
          1.9243,
          1.2041,
          0.301,
          1.2553,
          0.301,
          1.1461,
          2.4502,
          3.0017,
          0.6021,
          0.301,
          0.9031,
          2.8704,
          1,
          2.5416,
          2.8998,
          1.9494,
          1.1461,
          0.301,
          2.5821,
          1.1461,
          1.9823,
          1.8573,
          2.7364,
          1.8451,
          0.4771,
          1.7853,
          1.8573,
          1.8367,
          1.3617,
          0.8129,
          1.7033,
          1.0792,
          0.301,
          1.0792,
          1.3802,
          2.5465,
          1,
          1.2553,
          2.1523,
          2.9647,
          2.7578,
          1.9395,
          1.6628,
          1.9912,
          2.0607,
          2.1861,
          2.0719,
          1.9031,
          0.301,
          1.2041,
          0.301,
          0.6021,
          1.2175,
          1.8195,
          1.5378,
          1,
          0.6021,
          0.9031,
          1.0792,
          1,
          1.5315,
          2.4955,
          2.2188,
          1.5798,
          1.9395,
          1.2041,
          0.7782,
          1.0792,
          1.3424,
          2.2833,
          0.301,
          0.301,
          1.5911,
          1.7033,
          1.1461,
          1.1461,
          1.301,
          1.7324,
          0.301,
          2.0864,
          0.7782,
          0.9031,
          0.301,
          0.301,
          1.7924,
          2.6758,
          2.5729,
          2.0253,
          2.1089,
          1.4624,
          0.7782,
          1.2041,
          1.2041,
          0.9031,
          0.301,
          0.6021,
          1.6021,
          1.2553,
          0.301,
          1.2041,
          2.1523,
          1.415,
          2.0253,
          1.0792,
          1.3424,
          1,
          2.2648,
          2.534,
          2.0645,
          1.2041,
          2.1139,
          1.4472,
          1,
          2.4997,
          1.9345,
          1.1461,
          2.2095,
          2.2878,
          2.0569,
          0.6021,
          1.5798,
          1.9638,
          2.4314,
          1.9912,
          1.301,
          1.2041,
          2.2405,
          1.2041,
          1.3802,
          0.301,
          2.3054,
          1.8062,
          1.0792,
          2.2833,
          1.8451,
          1.1461,
          0.6021,
          2.4683,
          1.4472,
          1.8573,
          1.5051,
          1.9542,
          1.5315,
          1,
          2.5416,
          2.1072,
          1.716,
          1.301,
          0.301,
          2.0569,
          1.2041,
          2.1931,
          2.017,
          2.1761,
          2.4314,
          1.9542,
          2.1931,
          1.301,
          1.9243,
          2.6107,
          1.2041,
          2.3139,
          1.8451,
          1.2553,
          1.5563,
          1.7782,
          0.9031,
          2.2201,
          1.6435,
          1,
          0.301,
          1.6232,
          0.301,
          1.0792,
          0.9031,
          1.2553,
          1.2041,
          0.6021,
          0.301,
          1.4771,
          1.1461,
          1.6435,
          2.4314,
          1.1461,
          1,
          1,
          1.7482,
          0.9031,
          0.301,
          0.301,
          1.2304,
          1.2553,
          1.301,
          1.6021,
          2.0719,
          2.5024,
          2.2788,
          0.6021,
          1.9445,
          2.5132,
          2.3304,
          2.0569,
          1.8921,
          1.6021,
          1.6232,
          0.7782,
          1.7924,
          1.6628,
          1.1461,
          2.3345,
          1.2041,
          0.301,
          2.8727,
          1.3424,
          1.6232,
          1.2553,
          1.9823,
          2.7404,
          1.7634,
          1.3424,
          0.7782,
          1.2041,
          0.9031,
          0.9031,
          1.1461,
          1.6232,
          1.1461,
          1.415,
          2.6294,
          2.0934,
          1,
          1.0792,
          1.7634,
          1.7324,
          1.8195,
          1.7782,
          1.6021,
          0.7782,
          1.2041,
          1.9138,
          2.2253,
          0.9031,
          1.9445,
          1.415,
          1,
          2.4314,
          1.5315,
          2.2041,
          1.0792,
          1.9243,
          1.9445,
          0.7782,
          2.4314,
          2.1206,
          1.5315,
          0.9031,
          1.5315,
          2,
          1,
          1.1461,
          2.2648,
          1,
          1.5051,
          1.0792,
          1.5051,
          2.3464,
          1.2041,
          1.1461,
          0.6021,
          0.301,
          0.301,
          0.301,
          0.9031,
          0.301,
          0.301,
          1.6435,
          0.301,
          1.0792,
          0.301,
          2.2833,
          2.1072,
          0.301,
          0.301,
          0.301,
          0.301,
          1,
          1.3424,
          0.7782,
          2.4502,
          1.9823,
          1.1461,
          0.301,
          1.6435,
          1.301,
          1.415,
          1.3802,
          0.301,
          1.5798,
          0.301,
          2.3541,
          1.5563,
          0.301,
          0.301,
          1.9638,
          0.7782,
          1,
          0.7782,
          0.9031,
          1.301,
          0.301,
          1.5051,
          1.5798,
          2.3385,
          1.3802,
          1.9445,
          1.8921,
          0.6021,
          0.6021,
          2.6107,
          1.2041,
          1.6812,
          2.4742,
          1.9731,
          0.7782,
          1.1461,
          1.716,
          2.1931,
          1.3424,
          1.3424,
          1.7924,
          1.4771,
          2.2304,
          1.6232,
          1.301,
          0.9031,
          0.301,
          1.8062,
          2.017,
          1.2041,
          1.6812,
          1.415,
          1.4472,
          2.0414,
          1.3424,
          2.0864,
          1.415,
          1.3424,
          2.1818,
          1.0792,
          2.7243,
          2.3201,
          1.5798,
          1.6021,
          1.9031,
          1.2041,
          0.7782,
          1.5798,
          2.4564,
          1.8195,
          2.2878,
          1.0792,
          1.7924,
          1.8921,
          2.2355,
          1.6021,
          1.9823,
          1.5051,
          1.3424,
          2.3424
         ],
         "yaxis": "y"
        }
       ],
       "layout": {
        "legend": {
         "tracegroupgap": 0
        },
        "margin": {
         "t": 60
        },
        "template": {
         "data": {
          "bar": [
           {
            "error_x": {
             "color": "#2a3f5f"
            },
            "error_y": {
             "color": "#2a3f5f"
            },
            "marker": {
             "line": {
              "color": "#E5ECF6",
              "width": 0.5
             },
             "pattern": {
              "fillmode": "overlay",
              "size": 10,
              "solidity": 0.2
             }
            },
            "type": "bar"
           }
          ],
          "barpolar": [
           {
            "marker": {
             "line": {
              "color": "#E5ECF6",
              "width": 0.5
             },
             "pattern": {
              "fillmode": "overlay",
              "size": 10,
              "solidity": 0.2
             }
            },
            "type": "barpolar"
           }
          ],
          "carpet": [
           {
            "aaxis": {
             "endlinecolor": "#2a3f5f",
             "gridcolor": "white",
             "linecolor": "white",
             "minorgridcolor": "white",
             "startlinecolor": "#2a3f5f"
            },
            "baxis": {
             "endlinecolor": "#2a3f5f",
             "gridcolor": "white",
             "linecolor": "white",
             "minorgridcolor": "white",
             "startlinecolor": "#2a3f5f"
            },
            "type": "carpet"
           }
          ],
          "choropleth": [
           {
            "colorbar": {
             "outlinewidth": 0,
             "ticks": ""
            },
            "type": "choropleth"
           }
          ],
          "contour": [
           {
            "colorbar": {
             "outlinewidth": 0,
             "ticks": ""
            },
            "colorscale": [
             [
              0,
              "#0d0887"
             ],
             [
              0.1111111111111111,
              "#46039f"
             ],
             [
              0.2222222222222222,
              "#7201a8"
             ],
             [
              0.3333333333333333,
              "#9c179e"
             ],
             [
              0.4444444444444444,
              "#bd3786"
             ],
             [
              0.5555555555555556,
              "#d8576b"
             ],
             [
              0.6666666666666666,
              "#ed7953"
             ],
             [
              0.7777777777777778,
              "#fb9f3a"
             ],
             [
              0.8888888888888888,
              "#fdca26"
             ],
             [
              1,
              "#f0f921"
             ]
            ],
            "type": "contour"
           }
          ],
          "contourcarpet": [
           {
            "colorbar": {
             "outlinewidth": 0,
             "ticks": ""
            },
            "type": "contourcarpet"
           }
          ],
          "heatmap": [
           {
            "colorbar": {
             "outlinewidth": 0,
             "ticks": ""
            },
            "colorscale": [
             [
              0,
              "#0d0887"
             ],
             [
              0.1111111111111111,
              "#46039f"
             ],
             [
              0.2222222222222222,
              "#7201a8"
             ],
             [
              0.3333333333333333,
              "#9c179e"
             ],
             [
              0.4444444444444444,
              "#bd3786"
             ],
             [
              0.5555555555555556,
              "#d8576b"
             ],
             [
              0.6666666666666666,
              "#ed7953"
             ],
             [
              0.7777777777777778,
              "#fb9f3a"
             ],
             [
              0.8888888888888888,
              "#fdca26"
             ],
             [
              1,
              "#f0f921"
             ]
            ],
            "type": "heatmap"
           }
          ],
          "heatmapgl": [
           {
            "colorbar": {
             "outlinewidth": 0,
             "ticks": ""
            },
            "colorscale": [
             [
              0,
              "#0d0887"
             ],
             [
              0.1111111111111111,
              "#46039f"
             ],
             [
              0.2222222222222222,
              "#7201a8"
             ],
             [
              0.3333333333333333,
              "#9c179e"
             ],
             [
              0.4444444444444444,
              "#bd3786"
             ],
             [
              0.5555555555555556,
              "#d8576b"
             ],
             [
              0.6666666666666666,
              "#ed7953"
             ],
             [
              0.7777777777777778,
              "#fb9f3a"
             ],
             [
              0.8888888888888888,
              "#fdca26"
             ],
             [
              1,
              "#f0f921"
             ]
            ],
            "type": "heatmapgl"
           }
          ],
          "histogram": [
           {
            "marker": {
             "pattern": {
              "fillmode": "overlay",
              "size": 10,
              "solidity": 0.2
             }
            },
            "type": "histogram"
           }
          ],
          "histogram2d": [
           {
            "colorbar": {
             "outlinewidth": 0,
             "ticks": ""
            },
            "colorscale": [
             [
              0,
              "#0d0887"
             ],
             [
              0.1111111111111111,
              "#46039f"
             ],
             [
              0.2222222222222222,
              "#7201a8"
             ],
             [
              0.3333333333333333,
              "#9c179e"
             ],
             [
              0.4444444444444444,
              "#bd3786"
             ],
             [
              0.5555555555555556,
              "#d8576b"
             ],
             [
              0.6666666666666666,
              "#ed7953"
             ],
             [
              0.7777777777777778,
              "#fb9f3a"
             ],
             [
              0.8888888888888888,
              "#fdca26"
             ],
             [
              1,
              "#f0f921"
             ]
            ],
            "type": "histogram2d"
           }
          ],
          "histogram2dcontour": [
           {
            "colorbar": {
             "outlinewidth": 0,
             "ticks": ""
            },
            "colorscale": [
             [
              0,
              "#0d0887"
             ],
             [
              0.1111111111111111,
              "#46039f"
             ],
             [
              0.2222222222222222,
              "#7201a8"
             ],
             [
              0.3333333333333333,
              "#9c179e"
             ],
             [
              0.4444444444444444,
              "#bd3786"
             ],
             [
              0.5555555555555556,
              "#d8576b"
             ],
             [
              0.6666666666666666,
              "#ed7953"
             ],
             [
              0.7777777777777778,
              "#fb9f3a"
             ],
             [
              0.8888888888888888,
              "#fdca26"
             ],
             [
              1,
              "#f0f921"
             ]
            ],
            "type": "histogram2dcontour"
           }
          ],
          "mesh3d": [
           {
            "colorbar": {
             "outlinewidth": 0,
             "ticks": ""
            },
            "type": "mesh3d"
           }
          ],
          "parcoords": [
           {
            "line": {
             "colorbar": {
              "outlinewidth": 0,
              "ticks": ""
             }
            },
            "type": "parcoords"
           }
          ],
          "pie": [
           {
            "automargin": true,
            "type": "pie"
           }
          ],
          "scatter": [
           {
            "fillpattern": {
             "fillmode": "overlay",
             "size": 10,
             "solidity": 0.2
            },
            "type": "scatter"
           }
          ],
          "scatter3d": [
           {
            "line": {
             "colorbar": {
              "outlinewidth": 0,
              "ticks": ""
             }
            },
            "marker": {
             "colorbar": {
              "outlinewidth": 0,
              "ticks": ""
             }
            },
            "type": "scatter3d"
           }
          ],
          "scattercarpet": [
           {
            "marker": {
             "colorbar": {
              "outlinewidth": 0,
              "ticks": ""
             }
            },
            "type": "scattercarpet"
           }
          ],
          "scattergeo": [
           {
            "marker": {
             "colorbar": {
              "outlinewidth": 0,
              "ticks": ""
             }
            },
            "type": "scattergeo"
           }
          ],
          "scattergl": [
           {
            "marker": {
             "colorbar": {
              "outlinewidth": 0,
              "ticks": ""
             }
            },
            "type": "scattergl"
           }
          ],
          "scattermapbox": [
           {
            "marker": {
             "colorbar": {
              "outlinewidth": 0,
              "ticks": ""
             }
            },
            "type": "scattermapbox"
           }
          ],
          "scatterpolar": [
           {
            "marker": {
             "colorbar": {
              "outlinewidth": 0,
              "ticks": ""
             }
            },
            "type": "scatterpolar"
           }
          ],
          "scatterpolargl": [
           {
            "marker": {
             "colorbar": {
              "outlinewidth": 0,
              "ticks": ""
             }
            },
            "type": "scatterpolargl"
           }
          ],
          "scatterternary": [
           {
            "marker": {
             "colorbar": {
              "outlinewidth": 0,
              "ticks": ""
             }
            },
            "type": "scatterternary"
           }
          ],
          "surface": [
           {
            "colorbar": {
             "outlinewidth": 0,
             "ticks": ""
            },
            "colorscale": [
             [
              0,
              "#0d0887"
             ],
             [
              0.1111111111111111,
              "#46039f"
             ],
             [
              0.2222222222222222,
              "#7201a8"
             ],
             [
              0.3333333333333333,
              "#9c179e"
             ],
             [
              0.4444444444444444,
              "#bd3786"
             ],
             [
              0.5555555555555556,
              "#d8576b"
             ],
             [
              0.6666666666666666,
              "#ed7953"
             ],
             [
              0.7777777777777778,
              "#fb9f3a"
             ],
             [
              0.8888888888888888,
              "#fdca26"
             ],
             [
              1,
              "#f0f921"
             ]
            ],
            "type": "surface"
           }
          ],
          "table": [
           {
            "cells": {
             "fill": {
              "color": "#EBF0F8"
             },
             "line": {
              "color": "white"
             }
            },
            "header": {
             "fill": {
              "color": "#C8D4E3"
             },
             "line": {
              "color": "white"
             }
            },
            "type": "table"
           }
          ]
         },
         "layout": {
          "annotationdefaults": {
           "arrowcolor": "#2a3f5f",
           "arrowhead": 0,
           "arrowwidth": 1
          },
          "autotypenumbers": "strict",
          "coloraxis": {
           "colorbar": {
            "outlinewidth": 0,
            "ticks": ""
           }
          },
          "colorscale": {
           "diverging": [
            [
             0,
             "#8e0152"
            ],
            [
             0.1,
             "#c51b7d"
            ],
            [
             0.2,
             "#de77ae"
            ],
            [
             0.3,
             "#f1b6da"
            ],
            [
             0.4,
             "#fde0ef"
            ],
            [
             0.5,
             "#f7f7f7"
            ],
            [
             0.6,
             "#e6f5d0"
            ],
            [
             0.7,
             "#b8e186"
            ],
            [
             0.8,
             "#7fbc41"
            ],
            [
             0.9,
             "#4d9221"
            ],
            [
             1,
             "#276419"
            ]
           ],
           "sequential": [
            [
             0,
             "#0d0887"
            ],
            [
             0.1111111111111111,
             "#46039f"
            ],
            [
             0.2222222222222222,
             "#7201a8"
            ],
            [
             0.3333333333333333,
             "#9c179e"
            ],
            [
             0.4444444444444444,
             "#bd3786"
            ],
            [
             0.5555555555555556,
             "#d8576b"
            ],
            [
             0.6666666666666666,
             "#ed7953"
            ],
            [
             0.7777777777777778,
             "#fb9f3a"
            ],
            [
             0.8888888888888888,
             "#fdca26"
            ],
            [
             1,
             "#f0f921"
            ]
           ],
           "sequentialminus": [
            [
             0,
             "#0d0887"
            ],
            [
             0.1111111111111111,
             "#46039f"
            ],
            [
             0.2222222222222222,
             "#7201a8"
            ],
            [
             0.3333333333333333,
             "#9c179e"
            ],
            [
             0.4444444444444444,
             "#bd3786"
            ],
            [
             0.5555555555555556,
             "#d8576b"
            ],
            [
             0.6666666666666666,
             "#ed7953"
            ],
            [
             0.7777777777777778,
             "#fb9f3a"
            ],
            [
             0.8888888888888888,
             "#fdca26"
            ],
            [
             1,
             "#f0f921"
            ]
           ]
          },
          "colorway": [
           "#636efa",
           "#EF553B",
           "#00cc96",
           "#ab63fa",
           "#FFA15A",
           "#19d3f3",
           "#FF6692",
           "#B6E880",
           "#FF97FF",
           "#FECB52"
          ],
          "font": {
           "color": "#2a3f5f"
          },
          "geo": {
           "bgcolor": "white",
           "lakecolor": "white",
           "landcolor": "#E5ECF6",
           "showlakes": true,
           "showland": true,
           "subunitcolor": "white"
          },
          "hoverlabel": {
           "align": "left"
          },
          "hovermode": "closest",
          "mapbox": {
           "style": "light"
          },
          "paper_bgcolor": "white",
          "plot_bgcolor": "#E5ECF6",
          "polar": {
           "angularaxis": {
            "gridcolor": "white",
            "linecolor": "white",
            "ticks": ""
           },
           "bgcolor": "#E5ECF6",
           "radialaxis": {
            "gridcolor": "white",
            "linecolor": "white",
            "ticks": ""
           }
          },
          "scene": {
           "xaxis": {
            "backgroundcolor": "#E5ECF6",
            "gridcolor": "white",
            "gridwidth": 2,
            "linecolor": "white",
            "showbackground": true,
            "ticks": "",
            "zerolinecolor": "white"
           },
           "yaxis": {
            "backgroundcolor": "#E5ECF6",
            "gridcolor": "white",
            "gridwidth": 2,
            "linecolor": "white",
            "showbackground": true,
            "ticks": "",
            "zerolinecolor": "white"
           },
           "zaxis": {
            "backgroundcolor": "#E5ECF6",
            "gridcolor": "white",
            "gridwidth": 2,
            "linecolor": "white",
            "showbackground": true,
            "ticks": "",
            "zerolinecolor": "white"
           }
          },
          "shapedefaults": {
           "line": {
            "color": "#2a3f5f"
           }
          },
          "ternary": {
           "aaxis": {
            "gridcolor": "white",
            "linecolor": "white",
            "ticks": ""
           },
           "baxis": {
            "gridcolor": "white",
            "linecolor": "white",
            "ticks": ""
           },
           "bgcolor": "#E5ECF6",
           "caxis": {
            "gridcolor": "white",
            "linecolor": "white",
            "ticks": ""
           }
          },
          "title": {
           "x": 0.05
          },
          "xaxis": {
           "automargin": true,
           "gridcolor": "white",
           "linecolor": "white",
           "ticks": "",
           "title": {
            "standoff": 15
           },
           "zerolinecolor": "white",
           "zerolinewidth": 2
          },
          "yaxis": {
           "automargin": true,
           "gridcolor": "white",
           "linecolor": "white",
           "ticks": "",
           "title": {
            "standoff": 15
           },
           "zerolinecolor": "white",
           "zerolinewidth": 2
          }
         }
        },
        "xaxis": {
         "anchor": "y",
         "domain": [
          0,
          1
         ],
         "title": {
          "text": "CHANGELL_FT"
         }
        },
        "yaxis": {
         "anchor": "x",
         "domain": [
          0,
          1
         ],
         "title": {
          "text": "ECOLI_LOG10"
         }
        }
       }
      }
     },
     "metadata": {},
     "output_type": "display_data"
    },
    {
     "data": {
      "application/vnd.plotly.v1+json": {
       "config": {
        "plotlyServerURL": "https://plot.ly"
       },
       "data": [
        {
         "hovertemplate": "AirportWindSpInst_mph=%{x}<br>ECOLI_LOG10=%{y}<extra></extra>",
         "legendgroup": "",
         "marker": {
          "color": "#636efa",
          "symbol": "circle"
         },
         "mode": "markers",
         "name": "",
         "orientation": "v",
         "showlegend": false,
         "type": "scatter",
         "x": [
          6,
          0,
          6,
          14,
          14,
          11,
          6,
          5,
          6,
          0,
          9,
          7,
          6,
          6,
          11,
          6,
          9,
          6,
          10,
          8,
          6,
          8,
          0,
          5,
          3,
          8,
          14,
          0,
          7,
          3,
          8,
          22,
          8,
          6,
          8,
          3,
          10,
          10,
          14,
          6,
          5,
          0,
          5,
          16,
          6,
          11,
          7,
          8,
          6,
          5,
          8,
          0,
          7,
          7,
          14,
          7,
          9,
          7,
          9,
          7,
          6,
          10,
          8,
          6,
          0,
          8,
          3,
          7,
          5,
          3,
          0,
          10,
          14,
          13,
          14,
          14,
          9,
          10,
          3,
          0,
          13,
          6,
          5,
          11,
          8,
          9,
          10,
          7,
          16,
          14,
          9,
          13,
          8,
          7,
          9,
          9,
          13,
          7,
          14,
          11,
          15,
          14,
          5,
          9,
          9,
          16,
          14,
          5,
          6,
          11,
          0,
          9,
          10,
          5,
          9,
          10,
          13,
          3,
          8,
          11,
          10,
          6,
          8,
          10,
          11,
          8,
          5,
          8,
          9,
          10,
          0,
          0,
          5,
          15,
          15,
          5,
          14,
          10,
          5,
          7,
          9,
          9,
          7,
          10,
          0,
          7,
          8,
          10,
          5,
          7,
          6,
          7,
          0,
          8,
          7,
          9,
          9,
          9,
          14,
          0,
          7,
          7,
          15,
          13,
          0,
          0,
          9,
          5,
          7,
          6,
          13,
          10,
          5,
          5,
          0,
          6,
          8,
          5,
          3,
          10,
          16,
          13,
          14,
          8,
          7,
          18,
          15,
          9,
          0,
          3,
          0,
          13,
          6,
          10,
          10,
          0,
          6,
          5,
          10,
          0,
          11,
          8,
          6,
          11,
          10,
          8,
          7,
          5,
          7,
          10,
          11,
          13,
          7,
          6,
          9,
          9,
          11,
          8,
          9,
          0,
          13,
          5,
          6,
          7,
          14,
          5,
          0,
          10,
          7,
          7,
          3,
          0,
          9,
          9,
          5,
          7,
          7,
          9,
          9,
          10,
          6,
          0,
          13,
          9,
          5,
          13,
          13,
          6,
          13,
          6,
          5,
          10,
          9,
          14,
          9,
          7,
          5,
          6,
          7,
          13,
          6,
          6,
          10,
          0,
          0,
          0,
          0,
          12,
          6,
          6,
          8,
          7,
          4,
          5,
          10,
          10,
          10,
          0,
          8,
          10,
          9,
          9,
          8,
          4,
          6,
          7,
          12,
          15,
          6,
          8,
          3,
          8,
          12,
          8,
          7,
          8,
          10,
          8,
          14,
          3,
          4,
          7,
          3,
          0,
          5,
          7,
          8,
          7,
          7,
          10,
          8,
          14,
          6,
          8,
          7,
          5,
          6,
          5,
          6,
          5,
          4,
          0,
          6,
          9,
          7,
          5,
          8,
          6,
          0,
          6,
          5,
          8,
          8,
          12,
          12,
          5,
          4,
          6,
          9,
          9,
          4,
          3,
          3,
          6,
          0,
          5,
          11,
          5,
          6,
          7,
          15,
          7,
          0,
          0,
          6,
          10,
          15,
          12,
          7,
          9,
          7,
          9,
          7,
          5,
          8,
          5,
          0,
          12,
          15,
          9,
          11,
          10,
          8,
          8,
          9,
          6,
          0,
          8,
          10,
          5,
          14,
          8,
          8,
          0,
          9,
          3,
          10,
          13,
          4,
          0,
          8,
          12,
          7,
          9,
          13,
          11,
          9,
          8,
          7,
          5,
          8,
          4,
          0,
          5,
          8,
          3,
          9,
          5,
          8,
          0,
          5,
          6,
          0,
          7,
          8,
          8,
          4,
          12,
          15,
          5,
          11,
          11,
          4,
          5,
          6,
          6,
          4,
          6,
          5,
          9,
          6,
          5,
          5,
          6,
          7,
          6,
          9,
          3,
          0,
          0,
          0,
          4,
          4,
          8,
          6,
          11,
          8,
          0,
          9,
          12,
          8,
          6,
          7,
          13,
          5,
          0,
          13,
          11,
          9,
          0,
          10,
          11,
          7
         ],
         "xaxis": "x",
         "y": [
          0.6021,
          0.301,
          0.301,
          0.301,
          1.0792,
          2.4378,
          1.5563,
          1.5563,
          1.2041,
          0.301,
          0.301,
          2.3729,
          0.6021,
          1.3802,
          2.1271,
          1.3802,
          2.0934,
          1.6232,
          2.3424,
          2.0414,
          1.7634,
          2.0645,
          0.7782,
          2.2253,
          0.301,
          1.6628,
          2.444,
          2.0934,
          2.4969,
          1.4771,
          2.3464,
          2.3945,
          1.9542,
          1.6812,
          2.2923,
          2.2648,
          1.415,
          1.699,
          1.8921,
          2.4314,
          2,
          1,
          0.7782,
          1.7782,
          1.6021,
          2.6758,
          1.6628,
          1,
          0.7782,
          1.415,
          2.3655,
          1.8062,
          0.301,
          2.3766,
          2.2742,
          2.2304,
          2.0086,
          2.0864,
          1.9912,
          1.716,
          1.3424,
          1.5051,
          1.3802,
          1.2041,
          2.5159,
          1.7324,
          1.5563,
          2.3181,
          2.3464,
          1.4771,
          1.301,
          1.301,
          2.0934,
          2.2148,
          2.6848,
          2.2923,
          1.7924,
          1.5315,
          1.2553,
          1.0792,
          2.1004,
          1.415,
          1.301,
          2.0334,
          1.6232,
          1.3424,
          1.415,
          1.5563,
          1.4472,
          2.301,
          1.9243,
          2.1584,
          2.1206,
          1.1461,
          1.9243,
          1.2041,
          0.301,
          1.2553,
          0.301,
          1.1461,
          2.4502,
          3.0017,
          0.6021,
          0.301,
          0.9031,
          2.8704,
          1,
          2.5416,
          2.8998,
          1.9494,
          1.1461,
          0.301,
          2.5821,
          1.1461,
          1.9823,
          1.8573,
          2.7364,
          1.8451,
          0.4771,
          1.7853,
          1.8573,
          1.8367,
          1.3617,
          0.8129,
          1.7033,
          1.0792,
          0.301,
          1.0792,
          1.3802,
          2.5465,
          1,
          1.2553,
          2.1523,
          2.9647,
          2.7578,
          1.9395,
          1.6628,
          1.9912,
          2.0607,
          2.1861,
          2.0719,
          1.9031,
          0.301,
          1.2041,
          0.301,
          0.6021,
          1.2175,
          1.8195,
          1.5378,
          1,
          0.6021,
          0.9031,
          1.0792,
          1,
          1.5315,
          2.4955,
          2.2188,
          1.5798,
          1.9395,
          1.2041,
          0.7782,
          1.0792,
          1.3424,
          2.2833,
          0.301,
          0.301,
          1.5911,
          1.7033,
          1.1461,
          1.1461,
          1.301,
          1.7324,
          0.301,
          2.0864,
          0.7782,
          0.9031,
          0.301,
          0.301,
          1.7924,
          2.6758,
          2.5729,
          2.0253,
          2.1089,
          1.4624,
          0.7782,
          1.2041,
          1.2041,
          0.9031,
          0.301,
          0.6021,
          1.6021,
          1.2553,
          0.301,
          1.2041,
          2.1523,
          1.415,
          2.0253,
          1.0792,
          1.3424,
          1,
          2.2648,
          2.534,
          2.0645,
          1.2041,
          2.1139,
          1.4472,
          1,
          2.4997,
          1.9345,
          1.1461,
          2.2095,
          2.2878,
          2.0569,
          0.6021,
          1.5798,
          1.9638,
          2.4314,
          1.9912,
          1.301,
          1.2041,
          2.2405,
          1.2041,
          1.3802,
          0.301,
          2.3054,
          1.8062,
          1.0792,
          2.2833,
          1.8451,
          1.1461,
          0.6021,
          2.4683,
          1.4472,
          1.8573,
          1.5051,
          1.9542,
          1.5315,
          1,
          2.5416,
          2.1072,
          1.716,
          1.301,
          0.301,
          2.0569,
          1.2041,
          2.1931,
          2.017,
          2.1761,
          2.4314,
          1.9542,
          2.1931,
          1.301,
          1.9243,
          2.6107,
          1.2041,
          2.3139,
          1.8451,
          1.2553,
          1.5563,
          1.7782,
          0.9031,
          2.2201,
          1.6435,
          1,
          0.301,
          1.6232,
          0.301,
          1.0792,
          0.9031,
          1.2553,
          1.2041,
          0.6021,
          0.301,
          1.4771,
          1.1461,
          1.6435,
          2.4314,
          1.1461,
          1,
          1,
          1.7482,
          0.9031,
          0.301,
          0.301,
          1.2304,
          1.2553,
          1.301,
          1.6021,
          2.0719,
          2.5024,
          2.2788,
          0.6021,
          1.9445,
          2.5132,
          2.3304,
          2.0569,
          1.8921,
          1.6021,
          1.6232,
          0.7782,
          1.7924,
          1.6628,
          1.1461,
          2.3345,
          1.2041,
          0.301,
          2.8727,
          1.3424,
          1.6232,
          1.2553,
          1.9823,
          2.7404,
          1.7634,
          1.3424,
          0.7782,
          1.2041,
          0.9031,
          0.9031,
          1.1461,
          1.6232,
          1.1461,
          1.415,
          2.6294,
          2.0934,
          1,
          1.0792,
          1.7634,
          1.7324,
          1.8195,
          1.7782,
          1.6021,
          0.7782,
          1.2041,
          1.9138,
          2.2253,
          0.9031,
          1.9445,
          1.415,
          1,
          2.4314,
          1.5315,
          2.2041,
          1.0792,
          1.9243,
          1.9445,
          0.7782,
          2.4314,
          2.1206,
          1.5315,
          0.9031,
          1.5315,
          2,
          1,
          1.1461,
          2.2648,
          1,
          1.5051,
          1.0792,
          1.5051,
          2.3464,
          1.2041,
          1.1461,
          0.6021,
          0.301,
          0.301,
          0.301,
          0.9031,
          0.301,
          0.301,
          1.6435,
          0.301,
          1.0792,
          0.301,
          2.2833,
          2.1072,
          0.301,
          0.301,
          0.301,
          0.301,
          1,
          1.3424,
          0.7782,
          2.4502,
          1.9823,
          1.1461,
          0.301,
          1.6435,
          1.301,
          1.415,
          1.3802,
          0.301,
          1.5798,
          0.301,
          2.3541,
          1.5563,
          0.301,
          0.301,
          1.9638,
          0.7782,
          1,
          0.7782,
          0.9031,
          1.301,
          0.301,
          1.5051,
          1.5798,
          2.3385,
          1.3802,
          1.9445,
          1.8921,
          0.6021,
          0.6021,
          2.6107,
          1.2041,
          1.6812,
          2.4742,
          1.9731,
          0.7782,
          1.1461,
          1.716,
          2.1931,
          1.3424,
          1.3424,
          1.7924,
          1.4771,
          2.2304,
          1.6232,
          1.301,
          0.9031,
          0.301,
          1.8062,
          2.017,
          1.2041,
          1.6812,
          1.415,
          1.4472,
          2.0414,
          1.3424,
          2.0864,
          1.415,
          1.3424,
          2.1818,
          1.0792,
          2.7243,
          2.3201,
          1.5798,
          1.6021,
          1.9031,
          1.2041,
          0.7782,
          1.5798,
          2.4564,
          1.8195,
          2.2878,
          1.0792,
          1.7924,
          1.8921,
          2.2355,
          1.6021,
          1.9823,
          1.5051,
          1.3424,
          2.3424
         ],
         "yaxis": "y"
        }
       ],
       "layout": {
        "legend": {
         "tracegroupgap": 0
        },
        "margin": {
         "t": 60
        },
        "template": {
         "data": {
          "bar": [
           {
            "error_x": {
             "color": "#2a3f5f"
            },
            "error_y": {
             "color": "#2a3f5f"
            },
            "marker": {
             "line": {
              "color": "#E5ECF6",
              "width": 0.5
             },
             "pattern": {
              "fillmode": "overlay",
              "size": 10,
              "solidity": 0.2
             }
            },
            "type": "bar"
           }
          ],
          "barpolar": [
           {
            "marker": {
             "line": {
              "color": "#E5ECF6",
              "width": 0.5
             },
             "pattern": {
              "fillmode": "overlay",
              "size": 10,
              "solidity": 0.2
             }
            },
            "type": "barpolar"
           }
          ],
          "carpet": [
           {
            "aaxis": {
             "endlinecolor": "#2a3f5f",
             "gridcolor": "white",
             "linecolor": "white",
             "minorgridcolor": "white",
             "startlinecolor": "#2a3f5f"
            },
            "baxis": {
             "endlinecolor": "#2a3f5f",
             "gridcolor": "white",
             "linecolor": "white",
             "minorgridcolor": "white",
             "startlinecolor": "#2a3f5f"
            },
            "type": "carpet"
           }
          ],
          "choropleth": [
           {
            "colorbar": {
             "outlinewidth": 0,
             "ticks": ""
            },
            "type": "choropleth"
           }
          ],
          "contour": [
           {
            "colorbar": {
             "outlinewidth": 0,
             "ticks": ""
            },
            "colorscale": [
             [
              0,
              "#0d0887"
             ],
             [
              0.1111111111111111,
              "#46039f"
             ],
             [
              0.2222222222222222,
              "#7201a8"
             ],
             [
              0.3333333333333333,
              "#9c179e"
             ],
             [
              0.4444444444444444,
              "#bd3786"
             ],
             [
              0.5555555555555556,
              "#d8576b"
             ],
             [
              0.6666666666666666,
              "#ed7953"
             ],
             [
              0.7777777777777778,
              "#fb9f3a"
             ],
             [
              0.8888888888888888,
              "#fdca26"
             ],
             [
              1,
              "#f0f921"
             ]
            ],
            "type": "contour"
           }
          ],
          "contourcarpet": [
           {
            "colorbar": {
             "outlinewidth": 0,
             "ticks": ""
            },
            "type": "contourcarpet"
           }
          ],
          "heatmap": [
           {
            "colorbar": {
             "outlinewidth": 0,
             "ticks": ""
            },
            "colorscale": [
             [
              0,
              "#0d0887"
             ],
             [
              0.1111111111111111,
              "#46039f"
             ],
             [
              0.2222222222222222,
              "#7201a8"
             ],
             [
              0.3333333333333333,
              "#9c179e"
             ],
             [
              0.4444444444444444,
              "#bd3786"
             ],
             [
              0.5555555555555556,
              "#d8576b"
             ],
             [
              0.6666666666666666,
              "#ed7953"
             ],
             [
              0.7777777777777778,
              "#fb9f3a"
             ],
             [
              0.8888888888888888,
              "#fdca26"
             ],
             [
              1,
              "#f0f921"
             ]
            ],
            "type": "heatmap"
           }
          ],
          "heatmapgl": [
           {
            "colorbar": {
             "outlinewidth": 0,
             "ticks": ""
            },
            "colorscale": [
             [
              0,
              "#0d0887"
             ],
             [
              0.1111111111111111,
              "#46039f"
             ],
             [
              0.2222222222222222,
              "#7201a8"
             ],
             [
              0.3333333333333333,
              "#9c179e"
             ],
             [
              0.4444444444444444,
              "#bd3786"
             ],
             [
              0.5555555555555556,
              "#d8576b"
             ],
             [
              0.6666666666666666,
              "#ed7953"
             ],
             [
              0.7777777777777778,
              "#fb9f3a"
             ],
             [
              0.8888888888888888,
              "#fdca26"
             ],
             [
              1,
              "#f0f921"
             ]
            ],
            "type": "heatmapgl"
           }
          ],
          "histogram": [
           {
            "marker": {
             "pattern": {
              "fillmode": "overlay",
              "size": 10,
              "solidity": 0.2
             }
            },
            "type": "histogram"
           }
          ],
          "histogram2d": [
           {
            "colorbar": {
             "outlinewidth": 0,
             "ticks": ""
            },
            "colorscale": [
             [
              0,
              "#0d0887"
             ],
             [
              0.1111111111111111,
              "#46039f"
             ],
             [
              0.2222222222222222,
              "#7201a8"
             ],
             [
              0.3333333333333333,
              "#9c179e"
             ],
             [
              0.4444444444444444,
              "#bd3786"
             ],
             [
              0.5555555555555556,
              "#d8576b"
             ],
             [
              0.6666666666666666,
              "#ed7953"
             ],
             [
              0.7777777777777778,
              "#fb9f3a"
             ],
             [
              0.8888888888888888,
              "#fdca26"
             ],
             [
              1,
              "#f0f921"
             ]
            ],
            "type": "histogram2d"
           }
          ],
          "histogram2dcontour": [
           {
            "colorbar": {
             "outlinewidth": 0,
             "ticks": ""
            },
            "colorscale": [
             [
              0,
              "#0d0887"
             ],
             [
              0.1111111111111111,
              "#46039f"
             ],
             [
              0.2222222222222222,
              "#7201a8"
             ],
             [
              0.3333333333333333,
              "#9c179e"
             ],
             [
              0.4444444444444444,
              "#bd3786"
             ],
             [
              0.5555555555555556,
              "#d8576b"
             ],
             [
              0.6666666666666666,
              "#ed7953"
             ],
             [
              0.7777777777777778,
              "#fb9f3a"
             ],
             [
              0.8888888888888888,
              "#fdca26"
             ],
             [
              1,
              "#f0f921"
             ]
            ],
            "type": "histogram2dcontour"
           }
          ],
          "mesh3d": [
           {
            "colorbar": {
             "outlinewidth": 0,
             "ticks": ""
            },
            "type": "mesh3d"
           }
          ],
          "parcoords": [
           {
            "line": {
             "colorbar": {
              "outlinewidth": 0,
              "ticks": ""
             }
            },
            "type": "parcoords"
           }
          ],
          "pie": [
           {
            "automargin": true,
            "type": "pie"
           }
          ],
          "scatter": [
           {
            "fillpattern": {
             "fillmode": "overlay",
             "size": 10,
             "solidity": 0.2
            },
            "type": "scatter"
           }
          ],
          "scatter3d": [
           {
            "line": {
             "colorbar": {
              "outlinewidth": 0,
              "ticks": ""
             }
            },
            "marker": {
             "colorbar": {
              "outlinewidth": 0,
              "ticks": ""
             }
            },
            "type": "scatter3d"
           }
          ],
          "scattercarpet": [
           {
            "marker": {
             "colorbar": {
              "outlinewidth": 0,
              "ticks": ""
             }
            },
            "type": "scattercarpet"
           }
          ],
          "scattergeo": [
           {
            "marker": {
             "colorbar": {
              "outlinewidth": 0,
              "ticks": ""
             }
            },
            "type": "scattergeo"
           }
          ],
          "scattergl": [
           {
            "marker": {
             "colorbar": {
              "outlinewidth": 0,
              "ticks": ""
             }
            },
            "type": "scattergl"
           }
          ],
          "scattermapbox": [
           {
            "marker": {
             "colorbar": {
              "outlinewidth": 0,
              "ticks": ""
             }
            },
            "type": "scattermapbox"
           }
          ],
          "scatterpolar": [
           {
            "marker": {
             "colorbar": {
              "outlinewidth": 0,
              "ticks": ""
             }
            },
            "type": "scatterpolar"
           }
          ],
          "scatterpolargl": [
           {
            "marker": {
             "colorbar": {
              "outlinewidth": 0,
              "ticks": ""
             }
            },
            "type": "scatterpolargl"
           }
          ],
          "scatterternary": [
           {
            "marker": {
             "colorbar": {
              "outlinewidth": 0,
              "ticks": ""
             }
            },
            "type": "scatterternary"
           }
          ],
          "surface": [
           {
            "colorbar": {
             "outlinewidth": 0,
             "ticks": ""
            },
            "colorscale": [
             [
              0,
              "#0d0887"
             ],
             [
              0.1111111111111111,
              "#46039f"
             ],
             [
              0.2222222222222222,
              "#7201a8"
             ],
             [
              0.3333333333333333,
              "#9c179e"
             ],
             [
              0.4444444444444444,
              "#bd3786"
             ],
             [
              0.5555555555555556,
              "#d8576b"
             ],
             [
              0.6666666666666666,
              "#ed7953"
             ],
             [
              0.7777777777777778,
              "#fb9f3a"
             ],
             [
              0.8888888888888888,
              "#fdca26"
             ],
             [
              1,
              "#f0f921"
             ]
            ],
            "type": "surface"
           }
          ],
          "table": [
           {
            "cells": {
             "fill": {
              "color": "#EBF0F8"
             },
             "line": {
              "color": "white"
             }
            },
            "header": {
             "fill": {
              "color": "#C8D4E3"
             },
             "line": {
              "color": "white"
             }
            },
            "type": "table"
           }
          ]
         },
         "layout": {
          "annotationdefaults": {
           "arrowcolor": "#2a3f5f",
           "arrowhead": 0,
           "arrowwidth": 1
          },
          "autotypenumbers": "strict",
          "coloraxis": {
           "colorbar": {
            "outlinewidth": 0,
            "ticks": ""
           }
          },
          "colorscale": {
           "diverging": [
            [
             0,
             "#8e0152"
            ],
            [
             0.1,
             "#c51b7d"
            ],
            [
             0.2,
             "#de77ae"
            ],
            [
             0.3,
             "#f1b6da"
            ],
            [
             0.4,
             "#fde0ef"
            ],
            [
             0.5,
             "#f7f7f7"
            ],
            [
             0.6,
             "#e6f5d0"
            ],
            [
             0.7,
             "#b8e186"
            ],
            [
             0.8,
             "#7fbc41"
            ],
            [
             0.9,
             "#4d9221"
            ],
            [
             1,
             "#276419"
            ]
           ],
           "sequential": [
            [
             0,
             "#0d0887"
            ],
            [
             0.1111111111111111,
             "#46039f"
            ],
            [
             0.2222222222222222,
             "#7201a8"
            ],
            [
             0.3333333333333333,
             "#9c179e"
            ],
            [
             0.4444444444444444,
             "#bd3786"
            ],
            [
             0.5555555555555556,
             "#d8576b"
            ],
            [
             0.6666666666666666,
             "#ed7953"
            ],
            [
             0.7777777777777778,
             "#fb9f3a"
            ],
            [
             0.8888888888888888,
             "#fdca26"
            ],
            [
             1,
             "#f0f921"
            ]
           ],
           "sequentialminus": [
            [
             0,
             "#0d0887"
            ],
            [
             0.1111111111111111,
             "#46039f"
            ],
            [
             0.2222222222222222,
             "#7201a8"
            ],
            [
             0.3333333333333333,
             "#9c179e"
            ],
            [
             0.4444444444444444,
             "#bd3786"
            ],
            [
             0.5555555555555556,
             "#d8576b"
            ],
            [
             0.6666666666666666,
             "#ed7953"
            ],
            [
             0.7777777777777778,
             "#fb9f3a"
            ],
            [
             0.8888888888888888,
             "#fdca26"
            ],
            [
             1,
             "#f0f921"
            ]
           ]
          },
          "colorway": [
           "#636efa",
           "#EF553B",
           "#00cc96",
           "#ab63fa",
           "#FFA15A",
           "#19d3f3",
           "#FF6692",
           "#B6E880",
           "#FF97FF",
           "#FECB52"
          ],
          "font": {
           "color": "#2a3f5f"
          },
          "geo": {
           "bgcolor": "white",
           "lakecolor": "white",
           "landcolor": "#E5ECF6",
           "showlakes": true,
           "showland": true,
           "subunitcolor": "white"
          },
          "hoverlabel": {
           "align": "left"
          },
          "hovermode": "closest",
          "mapbox": {
           "style": "light"
          },
          "paper_bgcolor": "white",
          "plot_bgcolor": "#E5ECF6",
          "polar": {
           "angularaxis": {
            "gridcolor": "white",
            "linecolor": "white",
            "ticks": ""
           },
           "bgcolor": "#E5ECF6",
           "radialaxis": {
            "gridcolor": "white",
            "linecolor": "white",
            "ticks": ""
           }
          },
          "scene": {
           "xaxis": {
            "backgroundcolor": "#E5ECF6",
            "gridcolor": "white",
            "gridwidth": 2,
            "linecolor": "white",
            "showbackground": true,
            "ticks": "",
            "zerolinecolor": "white"
           },
           "yaxis": {
            "backgroundcolor": "#E5ECF6",
            "gridcolor": "white",
            "gridwidth": 2,
            "linecolor": "white",
            "showbackground": true,
            "ticks": "",
            "zerolinecolor": "white"
           },
           "zaxis": {
            "backgroundcolor": "#E5ECF6",
            "gridcolor": "white",
            "gridwidth": 2,
            "linecolor": "white",
            "showbackground": true,
            "ticks": "",
            "zerolinecolor": "white"
           }
          },
          "shapedefaults": {
           "line": {
            "color": "#2a3f5f"
           }
          },
          "ternary": {
           "aaxis": {
            "gridcolor": "white",
            "linecolor": "white",
            "ticks": ""
           },
           "baxis": {
            "gridcolor": "white",
            "linecolor": "white",
            "ticks": ""
           },
           "bgcolor": "#E5ECF6",
           "caxis": {
            "gridcolor": "white",
            "linecolor": "white",
            "ticks": ""
           }
          },
          "title": {
           "x": 0.05
          },
          "xaxis": {
           "automargin": true,
           "gridcolor": "white",
           "linecolor": "white",
           "ticks": "",
           "title": {
            "standoff": 15
           },
           "zerolinecolor": "white",
           "zerolinewidth": 2
          },
          "yaxis": {
           "automargin": true,
           "gridcolor": "white",
           "linecolor": "white",
           "ticks": "",
           "title": {
            "standoff": 15
           },
           "zerolinecolor": "white",
           "zerolinewidth": 2
          }
         }
        },
        "xaxis": {
         "anchor": "y",
         "domain": [
          0,
          1
         ],
         "title": {
          "text": "AirportWindSpInst_mph"
         }
        },
        "yaxis": {
         "anchor": "x",
         "domain": [
          0,
          1
         ],
         "title": {
          "text": "ECOLI_LOG10"
         }
        }
       }
      }
     },
     "metadata": {},
     "output_type": "display_data"
    },
    {
     "data": {
      "application/vnd.plotly.v1+json": {
       "config": {
        "plotlyServerURL": "https://plot.ly"
       },
       "data": [
        {
         "hovertemplate": "AirportRain48W_in=%{x}<br>ECOLI_LOG10=%{y}<extra></extra>",
         "legendgroup": "",
         "marker": {
          "color": "#636efa",
          "symbol": "circle"
         },
         "mode": "markers",
         "name": "",
         "orientation": "v",
         "showlegend": false,
         "type": "scatter",
         "x": [
          0.075,
          0,
          0,
          0,
          0,
          0.58,
          0.29,
          0.25,
          0.125,
          0,
          0,
          1.0922000000000012,
          1.07,
          0.03,
          0.205,
          1.005,
          1.0922000000000012,
          0.5,
          0.01,
          0.005,
          1.0922000000000012,
          1.0922000000000012,
          0.28,
          0,
          0,
          0,
          0.12,
          0.9,
          1.03,
          0.305,
          1.0922000000000012,
          0.8,
          0.17,
          0.165,
          0.06,
          0.01,
          0,
          0.47,
          0.315,
          1.0922000000000012,
          1.0922000000000012,
          0,
          0,
          0.15,
          0.125,
          0.175,
          0.075,
          0.02,
          0.02,
          0.465,
          0.59,
          0.18,
          0,
          0,
          0.13,
          0.065,
          0.02,
          0.06,
          1.0922000000000012,
          0.62,
          0.32,
          0.195,
          0.025,
          1.0922000000000012,
          1.0922000000000012,
          0.36,
          0,
          0.1,
          0.05,
          0,
          0,
          0,
          0,
          0.35,
          1.0922000000000012,
          0.78,
          0.005,
          0,
          0.13,
          0,
          1.02,
          0.91,
          0.2,
          0.01,
          0.005,
          0,
          0,
          0,
          0,
          0.05,
          1.0922000000000012,
          0.7,
          0.905,
          0.44,
          0,
          0.11,
          0.195,
          0.61,
          0.27,
          0,
          1.0922000000000012,
          1.0922000000000012,
          0,
          0,
          0,
          0,
          0,
          0.19,
          1.025,
          1.0922000000000012,
          0.6,
          0.025,
          0.08,
          0.035,
          0,
          0,
          0.69,
          0.425,
          0.04,
          0,
          0.03,
          1.0922000000000012,
          1.0922000000000012,
          0.84,
          0.485,
          0.1,
          0,
          0,
          0,
          0.735,
          1.0922000000000012,
          0,
          0,
          0.34,
          0.45,
          0.14,
          0.01,
          0.045,
          0,
          0,
          0,
          0,
          0,
          0,
          0,
          0,
          0.01,
          0.07,
          0.045,
          0.005,
          0,
          0,
          0,
          0,
          0,
          0.76,
          0.38,
          0,
          0,
          0.34,
          0.18,
          0.005,
          0.245,
          0.625,
          0.295,
          0,
          0,
          0.22,
          0.65,
          0.45,
          0.04,
          0.015,
          0.02,
          0.01,
          0,
          0,
          0.08,
          0.04,
          0,
          0.17,
          1.0922000000000012,
          0.71,
          0.49,
          0.305,
          0.035,
          0,
          0,
          0,
          0,
          0,
          0,
          0.09,
          0.045,
          0,
          0,
          0.01,
          0.005,
          0.01,
          0.015,
          0.005,
          0,
          1.0922000000000012,
          0.72,
          0.02,
          0.04,
          0.015,
          0,
          0.16,
          0.08,
          0.7,
          1.07,
          1.0922000000000012,
          1.0922000000000012,
          0.015,
          0,
          0,
          0.09,
          0.295,
          0.125,
          0,
          0.04,
          0.02,
          0,
          0,
          1.0922000000000012,
          0.62,
          0,
          0.01,
          0.375,
          0.185,
          0,
          0,
          0.77,
          0.395,
          0.035,
          0.055,
          0.02,
          0,
          0,
          0.01,
          0.015,
          0.005,
          0,
          1.0922000000000012,
          1.0922000000000012,
          0.38,
          0.185,
          1.04,
          0.12,
          0.695,
          0.34,
          0.02,
          0.025,
          0.08,
          0.795,
          0.27,
          0.445,
          0.155,
          0.01,
          0.005,
          0,
          0.02,
          1.0922000000000012,
          0.01,
          0,
          0.78,
          0,
          0.9,
          0.93,
          0.24,
          0.01,
          0,
          0,
          0.09,
          1.0922000000000012,
          0.58,
          0.15,
          0.08,
          0.01,
          0.69,
          0.23,
          0,
          0,
          0,
          1.0922000000000012,
          0.96,
          0.02,
          0.06,
          1.0922000000000012,
          1.0922000000000012,
          0.64,
          0.16,
          0.54,
          1.0922000000000012,
          0.61,
          0.18,
          0.54,
          0.16,
          0,
          0.57,
          0.94,
          0.34,
          0.03,
          0,
          0,
          0,
          0,
          0.03,
          0.01,
          0,
          0.73,
          0.73,
          0.2,
          0.01,
          0,
          0.03,
          0.01,
          0,
          0,
          0,
          0,
          0.03,
          0.01,
          0,
          0,
          0,
          0,
          0,
          0,
          0,
          0,
          0,
          0,
          0.57,
          1.09,
          0.3,
          0,
          0,
          0,
          0.03,
          0.28,
          0.09,
          0,
          0,
          0,
          0,
          0.72,
          0.24,
          0,
          0,
          0,
          1.0922000000000012,
          0.71,
          0.24,
          0.08,
          0,
          0,
          0,
          0,
          0,
          0,
          0,
          0.01,
          0,
          0,
          0.1,
          0.05,
          0,
          0,
          0.02,
          0.01,
          0,
          0,
          0.16,
          0.08,
          0,
          0,
          0,
          0,
          0.38,
          0.33,
          0.07,
          1.0922000000000012,
          0.6,
          0,
          0,
          0,
          0,
          1.0922000000000012,
          1.06,
          0.2,
          0.12,
          0.71,
          1.0922000000000012,
          0.71,
          0.04,
          0,
          0.88,
          0.44,
          0,
          0,
          0,
          0,
          0,
          0,
          0.2,
          0.1,
          0,
          0,
          0,
          0,
          0,
          0,
          0,
          0,
          0.1,
          0.05,
          0,
          0,
          0,
          1.0922000000000012,
          0.89,
          0.15,
          0.2,
          0.1,
          0.58,
          0.63,
          0.27,
          0.07,
          0.01,
          0,
          0.04,
          0.02,
          0,
          0,
          0,
          0.04,
          0.72,
          0.35,
          0.92,
          0.46,
          0,
          0,
          0.68,
          0.34,
          0,
          0.08,
          1.0922000000000012,
          0.69,
          0,
          0.04,
          0.26,
          0.16,
          0.02,
          0,
          0,
          0.32,
          0.16,
          0,
          0.88,
          0.44,
          0,
          0
         ],
         "xaxis": "x",
         "y": [
          0.6021,
          0.301,
          0.301,
          0.301,
          1.0792,
          2.4378,
          1.5563,
          1.5563,
          1.2041,
          0.301,
          0.301,
          2.3729,
          0.6021,
          1.3802,
          2.1271,
          1.3802,
          2.0934,
          1.6232,
          2.3424,
          2.0414,
          1.7634,
          2.0645,
          0.7782,
          2.2253,
          0.301,
          1.6628,
          2.444,
          2.0934,
          2.4969,
          1.4771,
          2.3464,
          2.3945,
          1.9542,
          1.6812,
          2.2923,
          2.2648,
          1.415,
          1.699,
          1.8921,
          2.4314,
          2,
          1,
          0.7782,
          1.7782,
          1.6021,
          2.6758,
          1.6628,
          1,
          0.7782,
          1.415,
          2.3655,
          1.8062,
          0.301,
          2.3766,
          2.2742,
          2.2304,
          2.0086,
          2.0864,
          1.9912,
          1.716,
          1.3424,
          1.5051,
          1.3802,
          1.2041,
          2.5159,
          1.7324,
          1.5563,
          2.3181,
          2.3464,
          1.4771,
          1.301,
          1.301,
          2.0934,
          2.2148,
          2.6848,
          2.2923,
          1.7924,
          1.5315,
          1.2553,
          1.0792,
          2.1004,
          1.415,
          1.301,
          2.0334,
          1.6232,
          1.3424,
          1.415,
          1.5563,
          1.4472,
          2.301,
          1.9243,
          2.1584,
          2.1206,
          1.1461,
          1.9243,
          1.2041,
          0.301,
          1.2553,
          0.301,
          1.1461,
          2.4502,
          3.0017,
          0.6021,
          0.301,
          0.9031,
          2.8704,
          1,
          2.5416,
          2.8998,
          1.9494,
          1.1461,
          0.301,
          2.5821,
          1.1461,
          1.9823,
          1.8573,
          2.7364,
          1.8451,
          0.4771,
          1.7853,
          1.8573,
          1.8367,
          1.3617,
          0.8129,
          1.7033,
          1.0792,
          0.301,
          1.0792,
          1.3802,
          2.5465,
          1,
          1.2553,
          2.1523,
          2.9647,
          2.7578,
          1.9395,
          1.6628,
          1.9912,
          2.0607,
          2.1861,
          2.0719,
          1.9031,
          0.301,
          1.2041,
          0.301,
          0.6021,
          1.2175,
          1.8195,
          1.5378,
          1,
          0.6021,
          0.9031,
          1.0792,
          1,
          1.5315,
          2.4955,
          2.2188,
          1.5798,
          1.9395,
          1.2041,
          0.7782,
          1.0792,
          1.3424,
          2.2833,
          0.301,
          0.301,
          1.5911,
          1.7033,
          1.1461,
          1.1461,
          1.301,
          1.7324,
          0.301,
          2.0864,
          0.7782,
          0.9031,
          0.301,
          0.301,
          1.7924,
          2.6758,
          2.5729,
          2.0253,
          2.1089,
          1.4624,
          0.7782,
          1.2041,
          1.2041,
          0.9031,
          0.301,
          0.6021,
          1.6021,
          1.2553,
          0.301,
          1.2041,
          2.1523,
          1.415,
          2.0253,
          1.0792,
          1.3424,
          1,
          2.2648,
          2.534,
          2.0645,
          1.2041,
          2.1139,
          1.4472,
          1,
          2.4997,
          1.9345,
          1.1461,
          2.2095,
          2.2878,
          2.0569,
          0.6021,
          1.5798,
          1.9638,
          2.4314,
          1.9912,
          1.301,
          1.2041,
          2.2405,
          1.2041,
          1.3802,
          0.301,
          2.3054,
          1.8062,
          1.0792,
          2.2833,
          1.8451,
          1.1461,
          0.6021,
          2.4683,
          1.4472,
          1.8573,
          1.5051,
          1.9542,
          1.5315,
          1,
          2.5416,
          2.1072,
          1.716,
          1.301,
          0.301,
          2.0569,
          1.2041,
          2.1931,
          2.017,
          2.1761,
          2.4314,
          1.9542,
          2.1931,
          1.301,
          1.9243,
          2.6107,
          1.2041,
          2.3139,
          1.8451,
          1.2553,
          1.5563,
          1.7782,
          0.9031,
          2.2201,
          1.6435,
          1,
          0.301,
          1.6232,
          0.301,
          1.0792,
          0.9031,
          1.2553,
          1.2041,
          0.6021,
          0.301,
          1.4771,
          1.1461,
          1.6435,
          2.4314,
          1.1461,
          1,
          1,
          1.7482,
          0.9031,
          0.301,
          0.301,
          1.2304,
          1.2553,
          1.301,
          1.6021,
          2.0719,
          2.5024,
          2.2788,
          0.6021,
          1.9445,
          2.5132,
          2.3304,
          2.0569,
          1.8921,
          1.6021,
          1.6232,
          0.7782,
          1.7924,
          1.6628,
          1.1461,
          2.3345,
          1.2041,
          0.301,
          2.8727,
          1.3424,
          1.6232,
          1.2553,
          1.9823,
          2.7404,
          1.7634,
          1.3424,
          0.7782,
          1.2041,
          0.9031,
          0.9031,
          1.1461,
          1.6232,
          1.1461,
          1.415,
          2.6294,
          2.0934,
          1,
          1.0792,
          1.7634,
          1.7324,
          1.8195,
          1.7782,
          1.6021,
          0.7782,
          1.2041,
          1.9138,
          2.2253,
          0.9031,
          1.9445,
          1.415,
          1,
          2.4314,
          1.5315,
          2.2041,
          1.0792,
          1.9243,
          1.9445,
          0.7782,
          2.4314,
          2.1206,
          1.5315,
          0.9031,
          1.5315,
          2,
          1,
          1.1461,
          2.2648,
          1,
          1.5051,
          1.0792,
          1.5051,
          2.3464,
          1.2041,
          1.1461,
          0.6021,
          0.301,
          0.301,
          0.301,
          0.9031,
          0.301,
          0.301,
          1.6435,
          0.301,
          1.0792,
          0.301,
          2.2833,
          2.1072,
          0.301,
          0.301,
          0.301,
          0.301,
          1,
          1.3424,
          0.7782,
          2.4502,
          1.9823,
          1.1461,
          0.301,
          1.6435,
          1.301,
          1.415,
          1.3802,
          0.301,
          1.5798,
          0.301,
          2.3541,
          1.5563,
          0.301,
          0.301,
          1.9638,
          0.7782,
          1,
          0.7782,
          0.9031,
          1.301,
          0.301,
          1.5051,
          1.5798,
          2.3385,
          1.3802,
          1.9445,
          1.8921,
          0.6021,
          0.6021,
          2.6107,
          1.2041,
          1.6812,
          2.4742,
          1.9731,
          0.7782,
          1.1461,
          1.716,
          2.1931,
          1.3424,
          1.3424,
          1.7924,
          1.4771,
          2.2304,
          1.6232,
          1.301,
          0.9031,
          0.301,
          1.8062,
          2.017,
          1.2041,
          1.6812,
          1.415,
          1.4472,
          2.0414,
          1.3424,
          2.0864,
          1.415,
          1.3424,
          2.1818,
          1.0792,
          2.7243,
          2.3201,
          1.5798,
          1.6021,
          1.9031,
          1.2041,
          0.7782,
          1.5798,
          2.4564,
          1.8195,
          2.2878,
          1.0792,
          1.7924,
          1.8921,
          2.2355,
          1.6021,
          1.9823,
          1.5051,
          1.3424,
          2.3424
         ],
         "yaxis": "y"
        }
       ],
       "layout": {
        "legend": {
         "tracegroupgap": 0
        },
        "margin": {
         "t": 60
        },
        "template": {
         "data": {
          "bar": [
           {
            "error_x": {
             "color": "#2a3f5f"
            },
            "error_y": {
             "color": "#2a3f5f"
            },
            "marker": {
             "line": {
              "color": "#E5ECF6",
              "width": 0.5
             },
             "pattern": {
              "fillmode": "overlay",
              "size": 10,
              "solidity": 0.2
             }
            },
            "type": "bar"
           }
          ],
          "barpolar": [
           {
            "marker": {
             "line": {
              "color": "#E5ECF6",
              "width": 0.5
             },
             "pattern": {
              "fillmode": "overlay",
              "size": 10,
              "solidity": 0.2
             }
            },
            "type": "barpolar"
           }
          ],
          "carpet": [
           {
            "aaxis": {
             "endlinecolor": "#2a3f5f",
             "gridcolor": "white",
             "linecolor": "white",
             "minorgridcolor": "white",
             "startlinecolor": "#2a3f5f"
            },
            "baxis": {
             "endlinecolor": "#2a3f5f",
             "gridcolor": "white",
             "linecolor": "white",
             "minorgridcolor": "white",
             "startlinecolor": "#2a3f5f"
            },
            "type": "carpet"
           }
          ],
          "choropleth": [
           {
            "colorbar": {
             "outlinewidth": 0,
             "ticks": ""
            },
            "type": "choropleth"
           }
          ],
          "contour": [
           {
            "colorbar": {
             "outlinewidth": 0,
             "ticks": ""
            },
            "colorscale": [
             [
              0,
              "#0d0887"
             ],
             [
              0.1111111111111111,
              "#46039f"
             ],
             [
              0.2222222222222222,
              "#7201a8"
             ],
             [
              0.3333333333333333,
              "#9c179e"
             ],
             [
              0.4444444444444444,
              "#bd3786"
             ],
             [
              0.5555555555555556,
              "#d8576b"
             ],
             [
              0.6666666666666666,
              "#ed7953"
             ],
             [
              0.7777777777777778,
              "#fb9f3a"
             ],
             [
              0.8888888888888888,
              "#fdca26"
             ],
             [
              1,
              "#f0f921"
             ]
            ],
            "type": "contour"
           }
          ],
          "contourcarpet": [
           {
            "colorbar": {
             "outlinewidth": 0,
             "ticks": ""
            },
            "type": "contourcarpet"
           }
          ],
          "heatmap": [
           {
            "colorbar": {
             "outlinewidth": 0,
             "ticks": ""
            },
            "colorscale": [
             [
              0,
              "#0d0887"
             ],
             [
              0.1111111111111111,
              "#46039f"
             ],
             [
              0.2222222222222222,
              "#7201a8"
             ],
             [
              0.3333333333333333,
              "#9c179e"
             ],
             [
              0.4444444444444444,
              "#bd3786"
             ],
             [
              0.5555555555555556,
              "#d8576b"
             ],
             [
              0.6666666666666666,
              "#ed7953"
             ],
             [
              0.7777777777777778,
              "#fb9f3a"
             ],
             [
              0.8888888888888888,
              "#fdca26"
             ],
             [
              1,
              "#f0f921"
             ]
            ],
            "type": "heatmap"
           }
          ],
          "heatmapgl": [
           {
            "colorbar": {
             "outlinewidth": 0,
             "ticks": ""
            },
            "colorscale": [
             [
              0,
              "#0d0887"
             ],
             [
              0.1111111111111111,
              "#46039f"
             ],
             [
              0.2222222222222222,
              "#7201a8"
             ],
             [
              0.3333333333333333,
              "#9c179e"
             ],
             [
              0.4444444444444444,
              "#bd3786"
             ],
             [
              0.5555555555555556,
              "#d8576b"
             ],
             [
              0.6666666666666666,
              "#ed7953"
             ],
             [
              0.7777777777777778,
              "#fb9f3a"
             ],
             [
              0.8888888888888888,
              "#fdca26"
             ],
             [
              1,
              "#f0f921"
             ]
            ],
            "type": "heatmapgl"
           }
          ],
          "histogram": [
           {
            "marker": {
             "pattern": {
              "fillmode": "overlay",
              "size": 10,
              "solidity": 0.2
             }
            },
            "type": "histogram"
           }
          ],
          "histogram2d": [
           {
            "colorbar": {
             "outlinewidth": 0,
             "ticks": ""
            },
            "colorscale": [
             [
              0,
              "#0d0887"
             ],
             [
              0.1111111111111111,
              "#46039f"
             ],
             [
              0.2222222222222222,
              "#7201a8"
             ],
             [
              0.3333333333333333,
              "#9c179e"
             ],
             [
              0.4444444444444444,
              "#bd3786"
             ],
             [
              0.5555555555555556,
              "#d8576b"
             ],
             [
              0.6666666666666666,
              "#ed7953"
             ],
             [
              0.7777777777777778,
              "#fb9f3a"
             ],
             [
              0.8888888888888888,
              "#fdca26"
             ],
             [
              1,
              "#f0f921"
             ]
            ],
            "type": "histogram2d"
           }
          ],
          "histogram2dcontour": [
           {
            "colorbar": {
             "outlinewidth": 0,
             "ticks": ""
            },
            "colorscale": [
             [
              0,
              "#0d0887"
             ],
             [
              0.1111111111111111,
              "#46039f"
             ],
             [
              0.2222222222222222,
              "#7201a8"
             ],
             [
              0.3333333333333333,
              "#9c179e"
             ],
             [
              0.4444444444444444,
              "#bd3786"
             ],
             [
              0.5555555555555556,
              "#d8576b"
             ],
             [
              0.6666666666666666,
              "#ed7953"
             ],
             [
              0.7777777777777778,
              "#fb9f3a"
             ],
             [
              0.8888888888888888,
              "#fdca26"
             ],
             [
              1,
              "#f0f921"
             ]
            ],
            "type": "histogram2dcontour"
           }
          ],
          "mesh3d": [
           {
            "colorbar": {
             "outlinewidth": 0,
             "ticks": ""
            },
            "type": "mesh3d"
           }
          ],
          "parcoords": [
           {
            "line": {
             "colorbar": {
              "outlinewidth": 0,
              "ticks": ""
             }
            },
            "type": "parcoords"
           }
          ],
          "pie": [
           {
            "automargin": true,
            "type": "pie"
           }
          ],
          "scatter": [
           {
            "fillpattern": {
             "fillmode": "overlay",
             "size": 10,
             "solidity": 0.2
            },
            "type": "scatter"
           }
          ],
          "scatter3d": [
           {
            "line": {
             "colorbar": {
              "outlinewidth": 0,
              "ticks": ""
             }
            },
            "marker": {
             "colorbar": {
              "outlinewidth": 0,
              "ticks": ""
             }
            },
            "type": "scatter3d"
           }
          ],
          "scattercarpet": [
           {
            "marker": {
             "colorbar": {
              "outlinewidth": 0,
              "ticks": ""
             }
            },
            "type": "scattercarpet"
           }
          ],
          "scattergeo": [
           {
            "marker": {
             "colorbar": {
              "outlinewidth": 0,
              "ticks": ""
             }
            },
            "type": "scattergeo"
           }
          ],
          "scattergl": [
           {
            "marker": {
             "colorbar": {
              "outlinewidth": 0,
              "ticks": ""
             }
            },
            "type": "scattergl"
           }
          ],
          "scattermapbox": [
           {
            "marker": {
             "colorbar": {
              "outlinewidth": 0,
              "ticks": ""
             }
            },
            "type": "scattermapbox"
           }
          ],
          "scatterpolar": [
           {
            "marker": {
             "colorbar": {
              "outlinewidth": 0,
              "ticks": ""
             }
            },
            "type": "scatterpolar"
           }
          ],
          "scatterpolargl": [
           {
            "marker": {
             "colorbar": {
              "outlinewidth": 0,
              "ticks": ""
             }
            },
            "type": "scatterpolargl"
           }
          ],
          "scatterternary": [
           {
            "marker": {
             "colorbar": {
              "outlinewidth": 0,
              "ticks": ""
             }
            },
            "type": "scatterternary"
           }
          ],
          "surface": [
           {
            "colorbar": {
             "outlinewidth": 0,
             "ticks": ""
            },
            "colorscale": [
             [
              0,
              "#0d0887"
             ],
             [
              0.1111111111111111,
              "#46039f"
             ],
             [
              0.2222222222222222,
              "#7201a8"
             ],
             [
              0.3333333333333333,
              "#9c179e"
             ],
             [
              0.4444444444444444,
              "#bd3786"
             ],
             [
              0.5555555555555556,
              "#d8576b"
             ],
             [
              0.6666666666666666,
              "#ed7953"
             ],
             [
              0.7777777777777778,
              "#fb9f3a"
             ],
             [
              0.8888888888888888,
              "#fdca26"
             ],
             [
              1,
              "#f0f921"
             ]
            ],
            "type": "surface"
           }
          ],
          "table": [
           {
            "cells": {
             "fill": {
              "color": "#EBF0F8"
             },
             "line": {
              "color": "white"
             }
            },
            "header": {
             "fill": {
              "color": "#C8D4E3"
             },
             "line": {
              "color": "white"
             }
            },
            "type": "table"
           }
          ]
         },
         "layout": {
          "annotationdefaults": {
           "arrowcolor": "#2a3f5f",
           "arrowhead": 0,
           "arrowwidth": 1
          },
          "autotypenumbers": "strict",
          "coloraxis": {
           "colorbar": {
            "outlinewidth": 0,
            "ticks": ""
           }
          },
          "colorscale": {
           "diverging": [
            [
             0,
             "#8e0152"
            ],
            [
             0.1,
             "#c51b7d"
            ],
            [
             0.2,
             "#de77ae"
            ],
            [
             0.3,
             "#f1b6da"
            ],
            [
             0.4,
             "#fde0ef"
            ],
            [
             0.5,
             "#f7f7f7"
            ],
            [
             0.6,
             "#e6f5d0"
            ],
            [
             0.7,
             "#b8e186"
            ],
            [
             0.8,
             "#7fbc41"
            ],
            [
             0.9,
             "#4d9221"
            ],
            [
             1,
             "#276419"
            ]
           ],
           "sequential": [
            [
             0,
             "#0d0887"
            ],
            [
             0.1111111111111111,
             "#46039f"
            ],
            [
             0.2222222222222222,
             "#7201a8"
            ],
            [
             0.3333333333333333,
             "#9c179e"
            ],
            [
             0.4444444444444444,
             "#bd3786"
            ],
            [
             0.5555555555555556,
             "#d8576b"
            ],
            [
             0.6666666666666666,
             "#ed7953"
            ],
            [
             0.7777777777777778,
             "#fb9f3a"
            ],
            [
             0.8888888888888888,
             "#fdca26"
            ],
            [
             1,
             "#f0f921"
            ]
           ],
           "sequentialminus": [
            [
             0,
             "#0d0887"
            ],
            [
             0.1111111111111111,
             "#46039f"
            ],
            [
             0.2222222222222222,
             "#7201a8"
            ],
            [
             0.3333333333333333,
             "#9c179e"
            ],
            [
             0.4444444444444444,
             "#bd3786"
            ],
            [
             0.5555555555555556,
             "#d8576b"
            ],
            [
             0.6666666666666666,
             "#ed7953"
            ],
            [
             0.7777777777777778,
             "#fb9f3a"
            ],
            [
             0.8888888888888888,
             "#fdca26"
            ],
            [
             1,
             "#f0f921"
            ]
           ]
          },
          "colorway": [
           "#636efa",
           "#EF553B",
           "#00cc96",
           "#ab63fa",
           "#FFA15A",
           "#19d3f3",
           "#FF6692",
           "#B6E880",
           "#FF97FF",
           "#FECB52"
          ],
          "font": {
           "color": "#2a3f5f"
          },
          "geo": {
           "bgcolor": "white",
           "lakecolor": "white",
           "landcolor": "#E5ECF6",
           "showlakes": true,
           "showland": true,
           "subunitcolor": "white"
          },
          "hoverlabel": {
           "align": "left"
          },
          "hovermode": "closest",
          "mapbox": {
           "style": "light"
          },
          "paper_bgcolor": "white",
          "plot_bgcolor": "#E5ECF6",
          "polar": {
           "angularaxis": {
            "gridcolor": "white",
            "linecolor": "white",
            "ticks": ""
           },
           "bgcolor": "#E5ECF6",
           "radialaxis": {
            "gridcolor": "white",
            "linecolor": "white",
            "ticks": ""
           }
          },
          "scene": {
           "xaxis": {
            "backgroundcolor": "#E5ECF6",
            "gridcolor": "white",
            "gridwidth": 2,
            "linecolor": "white",
            "showbackground": true,
            "ticks": "",
            "zerolinecolor": "white"
           },
           "yaxis": {
            "backgroundcolor": "#E5ECF6",
            "gridcolor": "white",
            "gridwidth": 2,
            "linecolor": "white",
            "showbackground": true,
            "ticks": "",
            "zerolinecolor": "white"
           },
           "zaxis": {
            "backgroundcolor": "#E5ECF6",
            "gridcolor": "white",
            "gridwidth": 2,
            "linecolor": "white",
            "showbackground": true,
            "ticks": "",
            "zerolinecolor": "white"
           }
          },
          "shapedefaults": {
           "line": {
            "color": "#2a3f5f"
           }
          },
          "ternary": {
           "aaxis": {
            "gridcolor": "white",
            "linecolor": "white",
            "ticks": ""
           },
           "baxis": {
            "gridcolor": "white",
            "linecolor": "white",
            "ticks": ""
           },
           "bgcolor": "#E5ECF6",
           "caxis": {
            "gridcolor": "white",
            "linecolor": "white",
            "ticks": ""
           }
          },
          "title": {
           "x": 0.05
          },
          "xaxis": {
           "automargin": true,
           "gridcolor": "white",
           "linecolor": "white",
           "ticks": "",
           "title": {
            "standoff": 15
           },
           "zerolinecolor": "white",
           "zerolinewidth": 2
          },
          "yaxis": {
           "automargin": true,
           "gridcolor": "white",
           "linecolor": "white",
           "ticks": "",
           "title": {
            "standoff": 15
           },
           "zerolinecolor": "white",
           "zerolinewidth": 2
          }
         }
        },
        "xaxis": {
         "anchor": "y",
         "domain": [
          0,
          1
         ],
         "title": {
          "text": "AirportRain48W_in"
         }
        },
        "yaxis": {
         "anchor": "x",
         "domain": [
          0,
          1
         ],
         "title": {
          "text": "ECOLI_LOG10"
         }
        }
       }
      }
     },
     "metadata": {},
     "output_type": "display_data"
    }
   ],
   "source": [
    "for col in colhead:\n",
    "    fig = px.scatter(df, x=col, y=df['ECOLI_LOG10'])\n",
    "    fig.show()"
   ]
  },
  {
   "cell_type": "code",
   "execution_count": 16,
   "metadata": {},
   "outputs": [
    {
     "ename": "KeyError",
     "evalue": "'charges'",
     "output_type": "error",
     "traceback": [
      "\u001b[1;31m---------------------------------------------------------------------------\u001b[0m",
      "\u001b[1;31mKeyError\u001b[0m                                  Traceback (most recent call last)",
      "File \u001b[1;32m~\\AppData\\Roaming\\Python\\Python311\\site-packages\\pandas\\core\\indexes\\base.py:3790\u001b[0m, in \u001b[0;36mIndex.get_loc\u001b[1;34m(self, key)\u001b[0m\n\u001b[0;32m   3789\u001b[0m \u001b[39mtry\u001b[39;00m:\n\u001b[1;32m-> 3790\u001b[0m     \u001b[39mreturn\u001b[39;00m \u001b[39mself\u001b[39;49m\u001b[39m.\u001b[39;49m_engine\u001b[39m.\u001b[39;49mget_loc(casted_key)\n\u001b[0;32m   3791\u001b[0m \u001b[39mexcept\u001b[39;00m \u001b[39mKeyError\u001b[39;00m \u001b[39mas\u001b[39;00m err:\n",
      "File \u001b[1;32mindex.pyx:152\u001b[0m, in \u001b[0;36mpandas._libs.index.IndexEngine.get_loc\u001b[1;34m()\u001b[0m\n",
      "File \u001b[1;32mindex.pyx:181\u001b[0m, in \u001b[0;36mpandas._libs.index.IndexEngine.get_loc\u001b[1;34m()\u001b[0m\n",
      "File \u001b[1;32mpandas\\_libs\\hashtable_class_helper.pxi:7080\u001b[0m, in \u001b[0;36mpandas._libs.hashtable.PyObjectHashTable.get_item\u001b[1;34m()\u001b[0m\n",
      "File \u001b[1;32mpandas\\_libs\\hashtable_class_helper.pxi:7088\u001b[0m, in \u001b[0;36mpandas._libs.hashtable.PyObjectHashTable.get_item\u001b[1;34m()\u001b[0m\n",
      "\u001b[1;31mKeyError\u001b[0m: 'charges'",
      "\nThe above exception was the direct cause of the following exception:\n",
      "\u001b[1;31mKeyError\u001b[0m                                  Traceback (most recent call last)",
      "\u001b[1;32me:\\aiml\\practice\\birdandplaneCrash.ipynb Cell 15\u001b[0m line \u001b[0;36m4\n\u001b[0;32m      <a href='vscode-notebook-cell:/e%3A/aiml/practice/birdandplaneCrash.ipynb#X20sZmlsZQ%3D%3D?line=1'>2</a>\u001b[0m plt\u001b[39m.\u001b[39mfigure(figsize\u001b[39m=\u001b[39m(\u001b[39m10\u001b[39m,\u001b[39m5\u001b[39m))\n\u001b[0;32m      <a href='vscode-notebook-cell:/e%3A/aiml/practice/birdandplaneCrash.ipynb#X20sZmlsZQ%3D%3D?line=2'>3</a>\u001b[0m \u001b[39mfor\u001b[39;00m category \u001b[39min\u001b[39;00m df[col]\u001b[39m.\u001b[39munique():\n\u001b[1;32m----> <a href='vscode-notebook-cell:/e%3A/aiml/practice/birdandplaneCrash.ipynb#X20sZmlsZQ%3D%3D?line=3'>4</a>\u001b[0m     sn\u001b[39m.\u001b[39mkdeplot(df[\u001b[39m'\u001b[39;49m\u001b[39mcharges\u001b[39;49m\u001b[39m'\u001b[39;49m][df[col]\u001b[39m==\u001b[39mcategory],label\u001b[39m=\u001b[39mcategory,fill\u001b[39m=\u001b[39m\u001b[39mTrue\u001b[39;00m)\n\u001b[0;32m      <a href='vscode-notebook-cell:/e%3A/aiml/practice/birdandplaneCrash.ipynb#X20sZmlsZQ%3D%3D?line=4'>5</a>\u001b[0m plt\u001b[39m.\u001b[39mlegend()\n\u001b[0;32m      <a href='vscode-notebook-cell:/e%3A/aiml/practice/birdandplaneCrash.ipynb#X20sZmlsZQ%3D%3D?line=5'>6</a>\u001b[0m plt\u001b[39m.\u001b[39mtitle(col)\n",
      "File \u001b[1;32m~\\AppData\\Roaming\\Python\\Python311\\site-packages\\pandas\\core\\frame.py:3896\u001b[0m, in \u001b[0;36mDataFrame.__getitem__\u001b[1;34m(self, key)\u001b[0m\n\u001b[0;32m   3894\u001b[0m \u001b[39mif\u001b[39;00m \u001b[39mself\u001b[39m\u001b[39m.\u001b[39mcolumns\u001b[39m.\u001b[39mnlevels \u001b[39m>\u001b[39m \u001b[39m1\u001b[39m:\n\u001b[0;32m   3895\u001b[0m     \u001b[39mreturn\u001b[39;00m \u001b[39mself\u001b[39m\u001b[39m.\u001b[39m_getitem_multilevel(key)\n\u001b[1;32m-> 3896\u001b[0m indexer \u001b[39m=\u001b[39m \u001b[39mself\u001b[39;49m\u001b[39m.\u001b[39;49mcolumns\u001b[39m.\u001b[39;49mget_loc(key)\n\u001b[0;32m   3897\u001b[0m \u001b[39mif\u001b[39;00m is_integer(indexer):\n\u001b[0;32m   3898\u001b[0m     indexer \u001b[39m=\u001b[39m [indexer]\n",
      "File \u001b[1;32m~\\AppData\\Roaming\\Python\\Python311\\site-packages\\pandas\\core\\indexes\\base.py:3797\u001b[0m, in \u001b[0;36mIndex.get_loc\u001b[1;34m(self, key)\u001b[0m\n\u001b[0;32m   3792\u001b[0m     \u001b[39mif\u001b[39;00m \u001b[39misinstance\u001b[39m(casted_key, \u001b[39mslice\u001b[39m) \u001b[39mor\u001b[39;00m (\n\u001b[0;32m   3793\u001b[0m         \u001b[39misinstance\u001b[39m(casted_key, abc\u001b[39m.\u001b[39mIterable)\n\u001b[0;32m   3794\u001b[0m         \u001b[39mand\u001b[39;00m \u001b[39many\u001b[39m(\u001b[39misinstance\u001b[39m(x, \u001b[39mslice\u001b[39m) \u001b[39mfor\u001b[39;00m x \u001b[39min\u001b[39;00m casted_key)\n\u001b[0;32m   3795\u001b[0m     ):\n\u001b[0;32m   3796\u001b[0m         \u001b[39mraise\u001b[39;00m InvalidIndexError(key)\n\u001b[1;32m-> 3797\u001b[0m     \u001b[39mraise\u001b[39;00m \u001b[39mKeyError\u001b[39;00m(key) \u001b[39mfrom\u001b[39;00m \u001b[39merr\u001b[39;00m\n\u001b[0;32m   3798\u001b[0m \u001b[39mexcept\u001b[39;00m \u001b[39mTypeError\u001b[39;00m:\n\u001b[0;32m   3799\u001b[0m     \u001b[39m# If we have a listlike key, _check_indexing_error will raise\u001b[39;00m\n\u001b[0;32m   3800\u001b[0m     \u001b[39m#  InvalidIndexError. Otherwise we fall through and re-raise\u001b[39;00m\n\u001b[0;32m   3801\u001b[0m     \u001b[39m#  the TypeError.\u001b[39;00m\n\u001b[0;32m   3802\u001b[0m     \u001b[39mself\u001b[39m\u001b[39m.\u001b[39m_check_indexing_error(key)\n",
      "\u001b[1;31mKeyError\u001b[0m: 'charges'"
     ]
    },
    {
     "data": {
      "text/plain": [
       "<Figure size 1000x500 with 0 Axes>"
      ]
     },
     "metadata": {},
     "output_type": "display_data"
    }
   ],
   "source": [
    "fif2=px.scatter(df,x='age',y='charges',color='smoker',width=1000)\n",
    "fif2.show()"
   ]
  },
  {
   "cell_type": "code",
   "execution_count": null,
   "metadata": {},
   "outputs": [],
   "source": []
  }
 ],
 "metadata": {
  "kernelspec": {
   "display_name": "Python 3",
   "language": "python",
   "name": "python3"
  },
  "language_info": {
   "codemirror_mode": {
    "name": "ipython",
    "version": 3
   },
   "file_extension": ".py",
   "mimetype": "text/x-python",
   "name": "python",
   "nbconvert_exporter": "python",
   "pygments_lexer": "ipython3",
   "version": "3.11.5"
  }
 },
 "nbformat": 4,
 "nbformat_minor": 2
}
